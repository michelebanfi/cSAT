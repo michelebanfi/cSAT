{
 "cells": [
  {
   "metadata": {
    "ExecuteTime": {
     "end_time": "2025-02-19T10:59:25.601331Z",
     "start_time": "2025-02-19T10:59:21.500083Z"
    }
   },
   "cell_type": "code",
   "source": [
    "# standard imports\n",
    "import numpy as np\n",
    "import pandas as pd\n",
    "import pydot\n",
    "\n",
    "# causal-learn imports\n",
    "from causallearn.search.ConstraintBased.FCI import fci\n",
    "from causallearn.graph.Edge import Edge\n",
    "from causallearn.utils.GraphUtils import GraphUtils\n",
    "\n",
    "# pysat imports\n",
    "from pysat.formula import CNF\n",
    "from pysat.solvers import Glucose3"
   ],
   "id": "2ea94e93aabedce9",
   "outputs": [
    {
     "name": "stderr",
     "output_type": "stream",
     "text": [
      "/opt/anaconda3/envs/tesi/lib/python3.12/site-packages/tqdm/auto.py:21: TqdmWarning: IProgress not found. Please update jupyter and ipywidgets. See https://ipywidgets.readthedocs.io/en/stable/user_install.html\n",
      "  from .autonotebook import tqdm as notebook_tqdm\n"
     ]
    }
   ],
   "execution_count": 1
  },
  {
   "metadata": {
    "ExecuteTime": {
     "end_time": "2025-02-19T10:59:25.942037Z",
     "start_time": "2025-02-19T10:59:25.935433Z"
    }
   },
   "cell_type": "code",
   "source": [
    "# Generate data where X -> Y <- Z\n",
    "X = np.random.uniform(size=1000)\n",
    "eps = np.random.normal(size=1000)\n",
    "delta = np.random.uniform(size=1000)\n",
    "Y = -7*X + 0.5*delta\n",
    "Z = 2*X + Y + eps\n",
    "\n",
    "# Create DataFrame with named variables\n",
    "data = pd.DataFrame({'X': X, 'Y': Y, 'Z': Z})"
   ],
   "id": "f869d749085b1ab5",
   "outputs": [],
   "execution_count": 2
  },
  {
   "metadata": {
    "ExecuteTime": {
     "end_time": "2025-02-19T10:59:26.317070Z",
     "start_time": "2025-02-19T10:59:25.981505Z"
    }
   },
   "cell_type": "code",
   "source": [
    "# Store original column names\n",
    "variable_names = list(data.columns)\n",
    "\n",
    "# Run FCI\n",
    "g, edges = fci(data.to_numpy(), alpha=0.05)\n",
    "\n",
    "# Get the dot representation to be plotted\n",
    "dot = GraphUtils.to_pydot(g)\n",
    "\n",
    "# Relabel the nodes with original variable names\n",
    "for i, node in enumerate(dot.get_nodes()):\n",
    "    if node.get_name().isdigit() and int(node.get_name()) < len(variable_names):\n",
    "        # Replace the node label with the original variable name\n",
    "        node.set_label(f'\"{variable_names[int(node.get_name())]}\"')\n",
    "\n",
    "\n",
    "dot.write_png('output/labeled_graph.png')\n",
    "\n",
    "# rename the nodes with the original variable names since FCI do whatever he likes\n",
    "for i, node in enumerate(g.nodes):\n",
    "    node.name = variable_names[i]"
   ],
   "id": "9b87270b497f0bbc",
   "outputs": [
    {
     "name": "stderr",
     "output_type": "stream",
     "text": [
      "Depth=0, working on node 2: 100%|██████████| 3/3 [00:00<00:00, 376.32it/s]\n"
     ]
    }
   ],
   "execution_count": 3
  },
  {
   "metadata": {
    "ExecuteTime": {
     "end_time": "2025-02-19T10:59:26.335490Z",
     "start_time": "2025-02-19T10:59:26.327407Z"
    }
   },
   "cell_type": "code",
   "source": "variable_names",
   "id": "a399ab0085d0954b",
   "outputs": [
    {
     "data": {
      "text/plain": [
       "['X', 'Y', 'Z']"
      ]
     },
     "execution_count": 4,
     "metadata": {},
     "output_type": "execute_result"
    }
   ],
   "execution_count": 4
  },
  {
   "metadata": {
    "ExecuteTime": {
     "end_time": "2025-02-19T10:59:26.392324Z",
     "start_time": "2025-02-19T10:59:26.384498Z"
    }
   },
   "cell_type": "code",
   "source": [
    "# translate the edges to a more readable format\n",
    "def get_endpoint_type(endpoint: int, isFirst: bool):\n",
    "    if endpoint == -1:\n",
    "        return \"-\"\n",
    "    elif endpoint == 1:\n",
    "        return \"<\" if isFirst else \">\"\n",
    "    elif endpoint == 2:\n",
    "        return \"o\"\n",
    "\n",
    "def get_edge(edge: Edge):\n",
    "    start = edge.numerical_endpoint_1\n",
    "    end = edge.numerical_endpoint_2\n",
    "\n",
    "    return f\"{get_endpoint_type(start, True)}-{get_endpoint_type(end, False)}\"\n",
    "\n",
    "\n",
    "sat_clauses = []\n",
    "formatted_edges = []\n",
    "for edge in edges:\n",
    "    formatted_edges.append((edge.node1.name, edge.node2.name, get_edge(edge)))\n",
    "\n",
    "print(formatted_edges)"
   ],
   "id": "2a6d29cfabc81f4b",
   "outputs": [
    {
     "name": "stdout",
     "output_type": "stream",
     "text": [
      "[('X', 'Y', 'o-o'), ('Y', 'Z', 'o-o')]\n"
     ]
    }
   ],
   "execution_count": 5
  },
  {
   "metadata": {
    "ExecuteTime": {
     "end_time": "2025-02-19T10:59:26.447976Z",
     "start_time": "2025-02-19T10:59:26.440333Z"
    }
   },
   "cell_type": "code",
   "source": [
    "def get_unique_nodes(edges):\n",
    "    nodes = set()\n",
    "    for edge in edges:\n",
    "        nodes.add(edge[0])\n",
    "        nodes.add(edge[1])\n",
    "    return nodes\n",
    "\n",
    "nodes = get_unique_nodes(formatted_edges)"
   ],
   "id": "858e83b8958fb9f3",
   "outputs": [],
   "execution_count": 6
  },
  {
   "metadata": {
    "ExecuteTime": {
     "end_time": "2025-02-19T10:59:26.515881Z",
     "start_time": "2025-02-19T10:59:26.507483Z"
    }
   },
   "cell_type": "code",
   "source": "nodes",
   "id": "e3f80118c4179027",
   "outputs": [
    {
     "data": {
      "text/plain": [
       "{'X', 'Y', 'Z'}"
      ]
     },
     "execution_count": 7,
     "metadata": {},
     "output_type": "execute_result"
    }
   ],
   "execution_count": 7
  },
  {
   "metadata": {
    "ExecuteTime": {
     "end_time": "2025-02-19T10:59:26.630469Z",
     "start_time": "2025-02-19T10:59:26.624177Z"
    }
   },
   "cell_type": "code",
   "source": [
    "# create a variable mapping for the nodes, with all possible edge types\n",
    "var_mapping = {}\n",
    "def create_variable_mapping(nodes):\n",
    "    for n1 in nodes:\n",
    "        for n2 in nodes:\n",
    "            for edge_type in [\"direct\", \"latent\", \"transitive\"]:\n",
    "                var_mapping[(n1, n2, edge_type)] = len(var_mapping) + 1\n",
    "    return var_mapping\n",
    "\n",
    "var_mapping = create_variable_mapping(nodes)"
   ],
   "id": "443379f221cc20c4",
   "outputs": [],
   "execution_count": 8
  },
  {
   "metadata": {
    "ExecuteTime": {
     "end_time": "2025-02-19T10:59:26.676761Z",
     "start_time": "2025-02-19T10:59:26.664768Z"
    }
   },
   "cell_type": "code",
   "source": "var_mapping",
   "id": "e36417cf36125c2f",
   "outputs": [
    {
     "data": {
      "text/plain": [
       "{('Y', 'Y', 'direct'): 1,\n",
       " ('Y', 'Y', 'latent'): 2,\n",
       " ('Y', 'Y', 'transitive'): 3,\n",
       " ('Y', 'Z', 'direct'): 4,\n",
       " ('Y', 'Z', 'latent'): 5,\n",
       " ('Y', 'Z', 'transitive'): 6,\n",
       " ('Y', 'X', 'direct'): 7,\n",
       " ('Y', 'X', 'latent'): 8,\n",
       " ('Y', 'X', 'transitive'): 9,\n",
       " ('Z', 'Y', 'direct'): 10,\n",
       " ('Z', 'Y', 'latent'): 11,\n",
       " ('Z', 'Y', 'transitive'): 12,\n",
       " ('Z', 'Z', 'direct'): 13,\n",
       " ('Z', 'Z', 'latent'): 14,\n",
       " ('Z', 'Z', 'transitive'): 15,\n",
       " ('Z', 'X', 'direct'): 16,\n",
       " ('Z', 'X', 'latent'): 17,\n",
       " ('Z', 'X', 'transitive'): 18,\n",
       " ('X', 'Y', 'direct'): 19,\n",
       " ('X', 'Y', 'latent'): 20,\n",
       " ('X', 'Y', 'transitive'): 21,\n",
       " ('X', 'Z', 'direct'): 22,\n",
       " ('X', 'Z', 'latent'): 23,\n",
       " ('X', 'Z', 'transitive'): 24,\n",
       " ('X', 'X', 'direct'): 25,\n",
       " ('X', 'X', 'latent'): 26,\n",
       " ('X', 'X', 'transitive'): 27}"
      ]
     },
     "execution_count": 9,
     "metadata": {},
     "output_type": "execute_result"
    }
   ],
   "execution_count": 9
  },
  {
   "metadata": {
    "ExecuteTime": {
     "end_time": "2025-02-19T10:59:26.810070Z",
     "start_time": "2025-02-19T10:59:26.792289Z"
    }
   },
   "cell_type": "code",
   "source": [
    "# Initialize a counter for variable IDs\n",
    "next_var_id = 1\n",
    "\n",
    "def get_next_var_id():\n",
    "    global next_var_id\n",
    "    var_id = next_var_id\n",
    "    next_var_id += 1\n",
    "    return var_id\n",
    "\n",
    "\n",
    "# create the CNF clauses for the edge constraints\n",
    "def add_edge_constraints(edges, all_nodes):\n",
    "    cnf = []\n",
    "    for n1, n2, edge_type in edges:\n",
    "            if edge_type == '-->': # A is a direct cause of B\n",
    "\n",
    "                # Direct causation must be true\n",
    "                cnf.append([var_mapping[(n1, n2, 'direct')]])\n",
    "                cnf.append([-var_mapping[(n2, n1, 'direct')]])\n",
    "\n",
    "                # No latent common cause\n",
    "                cnf.append([-var_mapping[(n1, n2, 'latent')]])\n",
    "\n",
    "            elif edge_type == 'o->': # B is not an ancestor of A\n",
    "\n",
    "                cnf.append([-var_mapping[(n2, n1, 'direct')]])\n",
    "                cnf.append([var_mapping((n1, n2, 'direct'))])\n",
    "                cnf.append([var_mapping((n2, n1, 'latent'))])\n",
    "                cnf.append([var_mapping((n1, n2, 'latent'))])\n",
    "\n",
    "                # # For ancestral relationships, we need to prevent all paths from B to A\n",
    "                # # This requires additional variables to represent transitive relationships\n",
    "                # for intermediate in all_nodes:\n",
    "                #     if intermediate != n1 and intermediate != n2:\n",
    "                #         # If B→C and C→A, then B is an ancestor of A, which is prohibited\n",
    "                #         cnf.append([\n",
    "                #             -var_mapping[(n2, intermediate, 'direct')],\n",
    "                #             -var_mapping[(intermediate, n1, 'direct')]\n",
    "                #         ])\n",
    "                #\n",
    "                #         # For longer paths, we would need to recursively consider all possible paths\n",
    "                #         # This is complicated in pure SAT, but can be handled more easily with auxiliary variables\n",
    "\n",
    "            elif edge_type == 'o-o': # no set d-separate A and B\n",
    "\n",
    "                # Either direct causation or latent common cause must exist\n",
    "                cnf.append([\n",
    "                    var_mapping[(n1, n2, 'direct')],\n",
    "                    var_mapping[(n2, n1, 'direct')],\n",
    "                    var_mapping[(n1, n2, 'latent')],\n",
    "                    var_mapping[(n2, n1, 'latent')],\n",
    "                ])\n",
    "\n",
    "            elif edge_type == '<->': # There is a latent common cause of A and B\n",
    "\n",
    "                # Must have latent common cause\n",
    "                cnf.append([var_mapping[(n1, n2, 'latent')]])\n",
    "                cnf.append([var_mapping[(n2, n1, 'latent')]])\n",
    "\n",
    "                # No direct causation in either direction\n",
    "                cnf.append([-var_mapping[(n2, n1, 'direct')]])\n",
    "                cnf.append([-var_mapping[(n1, n2, 'direct')]])\n",
    "\n",
    "    return cnf\n",
    "\n",
    "def add_transitive_closure_constraints(all_nodes, var_mapping):\n",
    "    cnf = []\n",
    "\n",
    "    # Create mapping for transitive relationships\n",
    "    for i, node_i in enumerate(all_nodes):\n",
    "        for j, node_j in enumerate(all_nodes):\n",
    "            if i != j:\n",
    "                # Define: transitive(i,j) iff i is an ancestor of j through any path\n",
    "                var_mapping[(node_i, node_j, 'transitive')] = get_next_var_id()\n",
    "\n",
    "                # Direct edge implies transitive relationship\n",
    "                cnf.append([-var_mapping[(node_i, node_j, 'direct')],\n",
    "                           var_mapping[(node_i, node_j, 'transitive')]])\n",
    "\n",
    "                # Build transitive relationships\n",
    "                for k, node_k in enumerate(all_nodes):\n",
    "                    if i != k and j != k:\n",
    "                        # If i→k and k→j transitively, then i→j transitively\n",
    "                        cnf.append([\n",
    "                            -var_mapping[(node_i, node_k, 'transitive')],\n",
    "                            -var_mapping[(node_k, node_j, 'transitive')],\n",
    "                            var_mapping[(node_i, node_j, 'transitive')]\n",
    "                        ])\n",
    "\n",
    "    return cnf\n",
    "\n",
    "def add_no_ancestor_constraints(edges, var_mapping):\n",
    "    cnf = []\n",
    "\n",
    "    for n1, n2, edge_type in edges:\n",
    "        if edge_type == 'o->':  # B is not an ancestor of A\n",
    "            # Use the transitive relationship variable to enforce no ancestry\n",
    "            cnf.append([-var_mapping[(n2, n1, 'transitive')]])\n",
    "\n",
    "    return cnf"
   ],
   "id": "b2bf5b34978c2e43",
   "outputs": [],
   "execution_count": 10
  },
  {
   "metadata": {
    "ExecuteTime": {
     "end_time": "2025-02-19T10:59:26.842017Z",
     "start_time": "2025-02-19T10:59:26.834428Z"
    }
   },
   "cell_type": "code",
   "source": [
    "cnf = add_edge_constraints(formatted_edges, nodes)\n",
    "\n",
    "# Add transitive closure constraints\n",
    "# cnf.extend(add_transitive_closure_constraints(nodes, var_mapping))\n",
    "\n",
    "# Add the no-ancestor constraints\n",
    "# cnf.extend(add_no_ancestor_constraints(formatted_edges, var_mapping))"
   ],
   "id": "595edd1d24c1e998",
   "outputs": [],
   "execution_count": 11
  },
  {
   "metadata": {
    "ExecuteTime": {
     "end_time": "2025-02-19T10:59:26.887836Z",
     "start_time": "2025-02-19T10:59:26.881485Z"
    }
   },
   "cell_type": "code",
   "source": "cnf",
   "id": "195578a01672e262",
   "outputs": [
    {
     "data": {
      "text/plain": [
       "[[19, 7, 20, 8], [4, 10, 5, 11]]"
      ]
     },
     "execution_count": 12,
     "metadata": {},
     "output_type": "execute_result"
    }
   ],
   "execution_count": 12
  },
  {
   "metadata": {
    "ExecuteTime": {
     "end_time": "2025-02-19T10:59:26.997503Z",
     "start_time": "2025-02-19T10:59:26.992141Z"
    }
   },
   "cell_type": "code",
   "source": [
    "# iterate through the clauses and count the number of variables\n",
    "variable_set = set()\n",
    "for clause in cnf:\n",
    "    for var in clause:\n",
    "        variable_set.add(abs(var))"
   ],
   "id": "ca7412d0a1ef538f",
   "outputs": [],
   "execution_count": 13
  },
  {
   "metadata": {
    "ExecuteTime": {
     "end_time": "2025-02-19T10:59:27.075067Z",
     "start_time": "2025-02-19T10:59:27.065460Z"
    }
   },
   "cell_type": "code",
   "source": [
    "new_var = list(range(1, len(variable_set) + 1))\n",
    "new_var"
   ],
   "id": "3aa06ae4e14dffc0",
   "outputs": [
    {
     "data": {
      "text/plain": [
       "[1, 2, 3, 4, 5, 6, 7, 8]"
      ]
     },
     "execution_count": 14,
     "metadata": {},
     "output_type": "execute_result"
    }
   ],
   "execution_count": 14
  },
  {
   "metadata": {
    "ExecuteTime": {
     "end_time": "2025-02-19T10:59:27.158326Z",
     "start_time": "2025-02-19T10:59:27.150602Z"
    }
   },
   "cell_type": "code",
   "source": [
    "# create a mapping from old variable to new variable\n",
    "cnf_variable_mapping = {}\n",
    "for i, var in enumerate(variable_set):\n",
    "    cnf_variable_mapping[var] = new_var[i]"
   ],
   "id": "7459b430a3ee1cc8",
   "outputs": [],
   "execution_count": 15
  },
  {
   "metadata": {
    "ExecuteTime": {
     "end_time": "2025-02-19T10:59:27.201637Z",
     "start_time": "2025-02-19T10:59:27.193804Z"
    }
   },
   "cell_type": "code",
   "source": "cnf_variable_mapping",
   "id": "7622650ed7f41f04",
   "outputs": [
    {
     "data": {
      "text/plain": [
       "{4: 1, 5: 2, 7: 3, 8: 4, 10: 5, 11: 6, 19: 7, 20: 8}"
      ]
     },
     "execution_count": 16,
     "metadata": {},
     "output_type": "execute_result"
    }
   ],
   "execution_count": 16
  },
  {
   "metadata": {
    "ExecuteTime": {
     "end_time": "2025-02-19T10:59:27.277738Z",
     "start_time": "2025-02-19T10:59:27.272222Z"
    }
   },
   "cell_type": "code",
   "source": [
    "new_cnf = []\n",
    "for clause in cnf:\n",
    "    new_clause = []\n",
    "    for var in clause:\n",
    "        new_var = cnf_variable_mapping[abs(var)]\n",
    "        new_clause.append(new_var if var > 0 else -new_var)\n",
    "    new_cnf.append(new_clause)"
   ],
   "id": "ce7b1ebcc28541bf",
   "outputs": [],
   "execution_count": 17
  },
  {
   "metadata": {
    "ExecuteTime": {
     "end_time": "2025-02-19T10:59:27.319470Z",
     "start_time": "2025-02-19T10:59:27.312061Z"
    }
   },
   "cell_type": "code",
   "source": "new_cnf",
   "id": "3cfce8f5466a6f8b",
   "outputs": [
    {
     "data": {
      "text/plain": [
       "[[7, 3, 8, 4], [1, 5, 2, 6]]"
      ]
     },
     "execution_count": 18,
     "metadata": {},
     "output_type": "execute_result"
    }
   ],
   "execution_count": 18
  },
  {
   "metadata": {
    "ExecuteTime": {
     "end_time": "2025-02-19T10:59:27.409528Z",
     "start_time": "2025-02-19T10:59:27.403343Z"
    }
   },
   "cell_type": "code",
   "source": [
    "# create the formula as CNF\n",
    "formula = CNF(from_clauses=new_cnf)"
   ],
   "id": "5bcd5110d13f496a",
   "outputs": [],
   "execution_count": 19
  },
  {
   "metadata": {
    "ExecuteTime": {
     "end_time": "2025-02-19T10:59:27.479416Z",
     "start_time": "2025-02-19T10:59:27.472331Z"
    }
   },
   "cell_type": "code",
   "source": "formula",
   "id": "fca3ebc92c3a4be3",
   "outputs": [
    {
     "data": {
      "text/plain": [
       "CNF(from_string='p cnf 8 2\\n7 3 8 4 0\\n1 5 2 6 0')"
      ]
     },
     "execution_count": 20,
     "metadata": {},
     "output_type": "execute_result"
    }
   ],
   "execution_count": 20
  },
  {
   "metadata": {
    "ExecuteTime": {
     "end_time": "2025-02-19T10:59:27.544653Z",
     "start_time": "2025-02-19T10:59:27.539281Z"
    }
   },
   "cell_type": "code",
   "source": [
    "solver = Glucose3()\n",
    "solver.append_formula(formula)"
   ],
   "id": "e5509091341869ea",
   "outputs": [],
   "execution_count": 21
  },
  {
   "metadata": {
    "ExecuteTime": {
     "end_time": "2025-02-19T10:59:27.580870Z",
     "start_time": "2025-02-19T10:59:27.576176Z"
    }
   },
   "cell_type": "code",
   "source": "is_sat = solver.solve()",
   "id": "cb0f5a999e48e9b8",
   "outputs": [],
   "execution_count": 22
  },
  {
   "metadata": {
    "ExecuteTime": {
     "end_time": "2025-02-19T10:59:27.616059Z",
     "start_time": "2025-02-19T10:59:27.608477Z"
    }
   },
   "cell_type": "code",
   "source": "is_sat",
   "id": "764d34418b935b3a",
   "outputs": [
    {
     "data": {
      "text/plain": [
       "True"
      ]
     },
     "execution_count": 23,
     "metadata": {},
     "output_type": "execute_result"
    }
   ],
   "execution_count": 23
  },
  {
   "metadata": {
    "ExecuteTime": {
     "end_time": "2025-02-19T10:59:27.676758Z",
     "start_time": "2025-02-19T10:59:27.671256Z"
    }
   },
   "cell_type": "code",
   "source": "model = solver.get_model()",
   "id": "5396014254eb7147",
   "outputs": [],
   "execution_count": 24
  },
  {
   "metadata": {
    "ExecuteTime": {
     "end_time": "2025-02-19T10:59:27.718798Z",
     "start_time": "2025-02-19T10:59:27.712807Z"
    }
   },
   "cell_type": "code",
   "source": "model",
   "id": "3e417fe60abca96b",
   "outputs": [
    {
     "data": {
      "text/plain": [
       "[1, -2, 3, -4, -5, -6, -7, -8]"
      ]
     },
     "execution_count": 25,
     "metadata": {},
     "output_type": "execute_result"
    }
   ],
   "execution_count": 25
  },
  {
   "metadata": {
    "ExecuteTime": {
     "end_time": "2025-02-19T10:59:27.765718Z",
     "start_time": "2025-02-19T10:59:27.758374Z"
    }
   },
   "cell_type": "code",
   "source": [
    "# map back with cnf_variable_mapping\n",
    "# reverse mapping\n",
    "reverse_cnf_variable_mapping = {v: k for k, v in cnf_variable_mapping.items()}\n",
    "reverse_cnf_variable_mapping"
   ],
   "id": "6533d588a2d0a1af",
   "outputs": [
    {
     "data": {
      "text/plain": [
       "{1: 4, 2: 5, 3: 7, 4: 8, 5: 10, 6: 11, 7: 19, 8: 20}"
      ]
     },
     "execution_count": 26,
     "metadata": {},
     "output_type": "execute_result"
    }
   ],
   "execution_count": 26
  },
  {
   "metadata": {
    "ExecuteTime": {
     "end_time": "2025-02-19T10:59:27.831979Z",
     "start_time": "2025-02-19T10:59:27.826415Z"
    }
   },
   "cell_type": "code",
   "source": [
    "temp = []\n",
    "for item in model:\n",
    "    temp.append(reverse_cnf_variable_mapping[abs(item)] if item > 0 else -reverse_cnf_variable_mapping[abs(item)])\n",
    "model = temp"
   ],
   "id": "1ca678953886f3d9",
   "outputs": [],
   "execution_count": 27
  },
  {
   "metadata": {
    "ExecuteTime": {
     "end_time": "2025-02-19T10:59:27.959764Z",
     "start_time": "2025-02-19T10:59:27.950911Z"
    }
   },
   "cell_type": "code",
   "source": "model",
   "id": "299fb1152accaa8f",
   "outputs": [
    {
     "data": {
      "text/plain": [
       "[4, -5, 7, -8, -10, -11, -19, -20]"
      ]
     },
     "execution_count": 28,
     "metadata": {},
     "output_type": "execute_result"
    }
   ],
   "execution_count": 28
  },
  {
   "metadata": {
    "ExecuteTime": {
     "end_time": "2025-02-19T10:59:27.988798Z",
     "start_time": "2025-02-19T10:59:27.982352Z"
    }
   },
   "cell_type": "code",
   "source": [
    "# Create reverse mapping for interpretation\n",
    "reverse_mapping = {v: k for k, v in var_mapping.items()}"
   ],
   "id": "b9ab741323e592ba",
   "outputs": [],
   "execution_count": 29
  },
  {
   "metadata": {
    "ExecuteTime": {
     "end_time": "2025-02-19T10:59:28.055790Z",
     "start_time": "2025-02-19T10:59:28.048404Z"
    }
   },
   "cell_type": "code",
   "source": "reverse_mapping",
   "id": "b162f611b2c27ad8",
   "outputs": [
    {
     "data": {
      "text/plain": [
       "{1: ('Y', 'Y', 'direct'),\n",
       " 2: ('Y', 'Y', 'latent'),\n",
       " 3: ('Y', 'Y', 'transitive'),\n",
       " 4: ('Y', 'Z', 'direct'),\n",
       " 5: ('Y', 'Z', 'latent'),\n",
       " 6: ('Y', 'Z', 'transitive'),\n",
       " 7: ('Y', 'X', 'direct'),\n",
       " 8: ('Y', 'X', 'latent'),\n",
       " 9: ('Y', 'X', 'transitive'),\n",
       " 10: ('Z', 'Y', 'direct'),\n",
       " 11: ('Z', 'Y', 'latent'),\n",
       " 12: ('Z', 'Y', 'transitive'),\n",
       " 13: ('Z', 'Z', 'direct'),\n",
       " 14: ('Z', 'Z', 'latent'),\n",
       " 15: ('Z', 'Z', 'transitive'),\n",
       " 16: ('Z', 'X', 'direct'),\n",
       " 17: ('Z', 'X', 'latent'),\n",
       " 18: ('Z', 'X', 'transitive'),\n",
       " 19: ('X', 'Y', 'direct'),\n",
       " 20: ('X', 'Y', 'latent'),\n",
       " 21: ('X', 'Y', 'transitive'),\n",
       " 22: ('X', 'Z', 'direct'),\n",
       " 23: ('X', 'Z', 'latent'),\n",
       " 24: ('X', 'Z', 'transitive'),\n",
       " 25: ('X', 'X', 'direct'),\n",
       " 26: ('X', 'X', 'latent'),\n",
       " 27: ('X', 'X', 'transitive')}"
      ]
     },
     "execution_count": 30,
     "metadata": {},
     "output_type": "execute_result"
    }
   ],
   "execution_count": 30
  },
  {
   "metadata": {
    "ExecuteTime": {
     "end_time": "2025-02-19T10:59:28.087365Z",
     "start_time": "2025-02-19T10:59:28.082189Z"
    }
   },
   "cell_type": "code",
   "source": [
    "causal_relationship = []\n",
    "\n",
    "for item in model:\n",
    "    absolute_value = abs(item)\n",
    "    if absolute_value in reverse_mapping:\n",
    "        node1, node2, edge = reverse_mapping[absolute_value]\n",
    "        causal_relationship.append({\n",
    "            \"node1\": node1,\n",
    "            \"node2\": node2,\n",
    "            \"edge\": edge,\n",
    "            \"exists\": True if item > 0 else False\n",
    "        })"
   ],
   "id": "4a0836fdf843d42c",
   "outputs": [],
   "execution_count": 31
  },
  {
   "metadata": {
    "ExecuteTime": {
     "end_time": "2025-02-19T10:59:28.163197Z",
     "start_time": "2025-02-19T10:59:28.153139Z"
    }
   },
   "cell_type": "code",
   "source": "causal_relationship",
   "id": "2ffc8ebfec6f9121",
   "outputs": [
    {
     "data": {
      "text/plain": [
       "[{'node1': 'Y', 'node2': 'Z', 'edge': 'direct', 'exists': True},\n",
       " {'node1': 'Y', 'node2': 'Z', 'edge': 'latent', 'exists': False},\n",
       " {'node1': 'Y', 'node2': 'X', 'edge': 'direct', 'exists': True},\n",
       " {'node1': 'Y', 'node2': 'X', 'edge': 'latent', 'exists': False},\n",
       " {'node1': 'Z', 'node2': 'Y', 'edge': 'direct', 'exists': False},\n",
       " {'node1': 'Z', 'node2': 'Y', 'edge': 'latent', 'exists': False},\n",
       " {'node1': 'X', 'node2': 'Y', 'edge': 'direct', 'exists': False},\n",
       " {'node1': 'X', 'node2': 'Y', 'edge': 'latent', 'exists': False}]"
      ]
     },
     "execution_count": 32,
     "metadata": {},
     "output_type": "execute_result"
    }
   ],
   "execution_count": 32
  },
  {
   "metadata": {
    "ExecuteTime": {
     "end_time": "2025-02-19T10:59:28.211468Z",
     "start_time": "2025-02-19T10:59:28.206906Z"
    }
   },
   "cell_type": "code",
   "source": "solver.delete()",
   "id": "98f252d143134b8e",
   "outputs": [],
   "execution_count": 33
  },
  {
   "metadata": {
    "ExecuteTime": {
     "end_time": "2025-02-19T10:59:28.302436Z",
     "start_time": "2025-02-19T10:59:28.297314Z"
    }
   },
   "cell_type": "code",
   "source": [
    "direct_causes = [rel for rel in causal_relationship if rel[\"edge\"] == \"direct\" and rel[\"exists\"]]\n",
    "latent_causes = [rel for rel in causal_relationship if rel[\"edge\"] == \"latent\" and rel[\"exists\"]]"
   ],
   "id": "823e7ab6b05effae",
   "outputs": [],
   "execution_count": 34
  },
  {
   "metadata": {
    "ExecuteTime": {
     "end_time": "2025-02-19T10:59:28.315245Z",
     "start_time": "2025-02-19T10:59:28.310834Z"
    }
   },
   "cell_type": "code",
   "source": [
    "for rel in direct_causes:\n",
    "    print(f\"{rel['node1']} -> {rel['node2']}\")"
   ],
   "id": "7022069848f4c93f",
   "outputs": [
    {
     "name": "stdout",
     "output_type": "stream",
     "text": [
      "Y -> Z\n",
      "Y -> X\n"
     ]
    }
   ],
   "execution_count": 35
  },
  {
   "metadata": {
    "ExecuteTime": {
     "end_time": "2025-02-19T10:59:28.388476Z",
     "start_time": "2025-02-19T10:59:28.380877Z"
    }
   },
   "cell_type": "code",
   "source": [
    "for rel in latent_causes:\n",
    "    print(f\"{rel['node1']} <- {rel['node2']}\")"
   ],
   "id": "66447dfa46026ee0",
   "outputs": [],
   "execution_count": 36
  },
  {
   "metadata": {
    "ExecuteTime": {
     "end_time": "2025-02-19T10:59:28.429665Z",
     "start_time": "2025-02-19T10:59:28.422041Z"
    }
   },
   "cell_type": "code",
   "source": [
    "# create a set of variables which will be the nodes\n",
    "nodes = set()\n",
    "for rel in causal_relationship:\n",
    "    nodes.add(rel[\"node1\"])\n",
    "    nodes.add(rel[\"node2\"])\n",
    "graph = pydot.Dot(\"my_graph\", graph_type=\"digraph\")\n",
    "for node in nodes:\n",
    "    graph.add_node(pydot.Node(node))\n",
    "\n",
    "for rel in causal_relationship:\n",
    "    if rel[\"edge\"] == \"direct\" and rel[\"exists\"]:\n",
    "        graph.add_edge(pydot.Edge(rel[\"node1\"], rel[\"node2\"], arrowhead=\"\"))\n",
    "    elif rel[\"edge\"] == \"latent\" and rel[\"exists\"]:\n",
    "        graph.add_edge(pydot.Edge(rel[\"node2\"], rel[\"node1\"], arrowhead=\"normal\"))"
   ],
   "id": "c5fef48a5f4ab05b",
   "outputs": [],
   "execution_count": 37
  },
  {
   "metadata": {
    "ExecuteTime": {
     "end_time": "2025-02-19T10:59:28.618413Z",
     "start_time": "2025-02-19T10:59:28.462386Z"
    }
   },
   "cell_type": "code",
   "source": "graph.write_png(\"output/output.png\")",
   "id": "6ab36d62a2223faf",
   "outputs": [],
   "execution_count": 38
  },
  {
   "metadata": {
    "ExecuteTime": {
     "end_time": "2025-02-19T10:59:28.645162Z",
     "start_time": "2025-02-19T10:59:28.642185Z"
    }
   },
   "cell_type": "code",
   "source": "",
   "id": "66ab06c1429b55f7",
   "outputs": [],
   "execution_count": null
  }
 ],
 "metadata": {
  "kernelspec": {
   "display_name": "Python 3",
   "language": "python",
   "name": "python3"
  },
  "language_info": {
   "codemirror_mode": {
    "name": "ipython",
    "version": 2
   },
   "file_extension": ".py",
   "mimetype": "text/x-python",
   "name": "python",
   "nbconvert_exporter": "python",
   "pygments_lexer": "ipython2",
   "version": "2.7.6"
  }
 },
 "nbformat": 4,
 "nbformat_minor": 5
}
