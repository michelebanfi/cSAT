{
 "cells": [
  {
   "metadata": {
    "ExecuteTime": {
     "end_time": "2025-02-18T13:44:13.552911Z",
     "start_time": "2025-02-18T13:44:13.547819Z"
    }
   },
   "cell_type": "code",
   "source": [
    "# standard imports\n",
    "import numpy as np\n",
    "import pandas as pd\n",
    "import pydot\n",
    "\n",
    "# causal-learn imports\n",
    "from causallearn.search.ConstraintBased.FCI import fci\n",
    "from causallearn.graph.Edge import Edge\n",
    "from causallearn.utils.GraphUtils import GraphUtils\n",
    "\n",
    "# pysat imports\n",
    "from pysat.formula import CNF\n",
    "from pysat.solvers import Glucose3"
   ],
   "id": "2ea94e93aabedce9",
   "outputs": [],
   "execution_count": 187
  },
  {
   "metadata": {
    "ExecuteTime": {
     "end_time": "2025-02-18T13:35:03.631453Z",
     "start_time": "2025-02-18T13:35:03.626173Z"
    }
   },
   "cell_type": "code",
   "source": [
    "# Generate data where X -> Y <- Z\n",
    "X = np.random.uniform(size=1000)\n",
    "eps = np.random.normal(size=1000)\n",
    "delta = np.random.uniform(size=1000)\n",
    "Y = -7*X + 0.5*delta\n",
    "Z = 2*X + Y + eps\n",
    "\n",
    "# Create DataFrame with named variables\n",
    "data = pd.DataFrame({'X': X, 'Y': Y, 'Z': Z})"
   ],
   "id": "f869d749085b1ab5",
   "outputs": [],
   "execution_count": 152
  },
  {
   "metadata": {
    "ExecuteTime": {
     "end_time": "2025-02-18T13:35:03.995989Z",
     "start_time": "2025-02-18T13:35:03.768788Z"
    }
   },
   "cell_type": "code",
   "source": [
    "# Store original column names\n",
    "variable_names = list(data.columns)\n",
    "\n",
    "# Run FCI\n",
    "g, edges = fci(data.to_numpy(), alpha=0.05)\n",
    "\n",
    "# Get the dot representation to be plotted\n",
    "dot = GraphUtils.to_pydot(g)\n",
    "\n",
    "# Relabel the nodes with original variable names\n",
    "for i, node in enumerate(dot.get_nodes()):\n",
    "    if node.get_name().isdigit() and int(node.get_name()) < len(variable_names):\n",
    "        # Replace the node label with the original variable name\n",
    "        node.set_label(f'\"{variable_names[int(node.get_name())]}\"')\n",
    "\n",
    "\n",
    "dot.write_png('labeled_graph.png')\n",
    "\n",
    "# rename the nodes with the original variable names since FCI do whatever he likes\n",
    "for i, node in enumerate(g.nodes):\n",
    "    node.name = variable_names[i]"
   ],
   "id": "9b87270b497f0bbc",
   "outputs": [
    {
     "name": "stderr",
     "output_type": "stream",
     "text": [
      "Depth=0, working on node 2: 100%|██████████| 3/3 [00:00<00:00, 608.63it/s]\n"
     ]
    }
   ],
   "execution_count": 153
  },
  {
   "metadata": {
    "ExecuteTime": {
     "end_time": "2025-02-18T13:35:04.015455Z",
     "start_time": "2025-02-18T13:35:04.009504Z"
    }
   },
   "cell_type": "code",
   "source": [
    "# translate the edges to a more readable format\n",
    "def get_endpoint_type(endpoint: int, isFirst: bool):\n",
    "    if endpoint == -1:\n",
    "        return \"-\"\n",
    "    elif endpoint == 1:\n",
    "        return \"<\" if isFirst else \">\"\n",
    "    elif endpoint == 2:\n",
    "        return \"o\"\n",
    "\n",
    "def get_edge(edge: Edge):\n",
    "    start = edge.numerical_endpoint_1\n",
    "    end = edge.numerical_endpoint_2\n",
    "\n",
    "    return f\"{get_endpoint_type(start, True)}-{get_endpoint_type(end, False)}\"\n",
    "\n",
    "\n",
    "sat_clauses = []\n",
    "formatted_edges = []\n",
    "for edge in edges:\n",
    "    formatted_edges.append((edge.node1.name, edge.node2.name, get_edge(edge)))\n",
    "\n",
    "print(formatted_edges)"
   ],
   "id": "2a6d29cfabc81f4b",
   "outputs": [
    {
     "name": "stdout",
     "output_type": "stream",
     "text": [
      "[('X', 'Y', 'o-o'), ('Y', 'Z', 'o-o')]\n"
     ]
    }
   ],
   "execution_count": 154
  },
  {
   "metadata": {
    "ExecuteTime": {
     "end_time": "2025-02-18T13:35:04.145868Z",
     "start_time": "2025-02-18T13:35:04.141650Z"
    }
   },
   "cell_type": "code",
   "source": [
    "def get_unique_nodes(edges):\n",
    "    nodes = set()\n",
    "    for edge in edges:\n",
    "        nodes.add(edge[0])\n",
    "        nodes.add(edge[1])\n",
    "    return nodes\n",
    "\n",
    "nodes = get_unique_nodes(formatted_edges)"
   ],
   "id": "858e83b8958fb9f3",
   "outputs": [],
   "execution_count": 155
  },
  {
   "metadata": {
    "ExecuteTime": {
     "end_time": "2025-02-18T13:35:04.538762Z",
     "start_time": "2025-02-18T13:35:04.533281Z"
    }
   },
   "cell_type": "code",
   "source": "nodes",
   "id": "e3f80118c4179027",
   "outputs": [
    {
     "data": {
      "text/plain": [
       "{'X', 'Y', 'Z'}"
      ]
     },
     "execution_count": 156,
     "metadata": {},
     "output_type": "execute_result"
    }
   ],
   "execution_count": 156
  },
  {
   "metadata": {
    "ExecuteTime": {
     "end_time": "2025-02-18T13:35:04.973380Z",
     "start_time": "2025-02-18T13:35:04.968845Z"
    }
   },
   "cell_type": "code",
   "source": [
    "# create a variable mapping for the nodes, with all possible edge types\n",
    "var_mapping = {}\n",
    "def create_variable_mapping(nodes):\n",
    "    for n1 in nodes:\n",
    "        for n2 in nodes:\n",
    "            for edge_type in [\"direct\", \"latent\"]:\n",
    "                var_mapping[(n1, n2, edge_type)] = len(var_mapping) + 1\n",
    "    return var_mapping\n",
    "\n",
    "var_mapping = create_variable_mapping(nodes)"
   ],
   "id": "443379f221cc20c4",
   "outputs": [],
   "execution_count": 157
  },
  {
   "metadata": {
    "ExecuteTime": {
     "end_time": "2025-02-18T13:35:05.671542Z",
     "start_time": "2025-02-18T13:35:05.665848Z"
    }
   },
   "cell_type": "code",
   "source": "var_mapping",
   "id": "e36417cf36125c2f",
   "outputs": [
    {
     "data": {
      "text/plain": [
       "{('Z', 'Z', 'direct'): 1,\n",
       " ('Z', 'Z', 'latent'): 2,\n",
       " ('Z', 'Y', 'direct'): 3,\n",
       " ('Z', 'Y', 'latent'): 4,\n",
       " ('Z', 'X', 'direct'): 5,\n",
       " ('Z', 'X', 'latent'): 6,\n",
       " ('Y', 'Z', 'direct'): 7,\n",
       " ('Y', 'Z', 'latent'): 8,\n",
       " ('Y', 'Y', 'direct'): 9,\n",
       " ('Y', 'Y', 'latent'): 10,\n",
       " ('Y', 'X', 'direct'): 11,\n",
       " ('Y', 'X', 'latent'): 12,\n",
       " ('X', 'Z', 'direct'): 13,\n",
       " ('X', 'Z', 'latent'): 14,\n",
       " ('X', 'Y', 'direct'): 15,\n",
       " ('X', 'Y', 'latent'): 16,\n",
       " ('X', 'X', 'direct'): 17,\n",
       " ('X', 'X', 'latent'): 18}"
      ]
     },
     "execution_count": 158,
     "metadata": {},
     "output_type": "execute_result"
    }
   ],
   "execution_count": 158
  },
  {
   "metadata": {
    "ExecuteTime": {
     "end_time": "2025-02-18T13:35:06.393107Z",
     "start_time": "2025-02-18T13:35:06.386098Z"
    }
   },
   "cell_type": "code",
   "source": [
    "# create the CNF clauses for the edge constraints\n",
    "def add_edge_constraints(edges):\n",
    "    cnf = []\n",
    "    for n1, n2, edge_type in edges:\n",
    "            if edge_type == '-->': # A is a direct cause of B\n",
    "\n",
    "                # Direct causation must be true\n",
    "                cnf.append([var_mapping[(n1, n2, 'direct')]])\n",
    "\n",
    "                # No latent common cause\n",
    "                cnf.append([-var_mapping[(n1, n2, 'latent')]])\n",
    "\n",
    "            elif edge_type == 'o->': # B is not an ancestor of A\n",
    "\n",
    "                # n2 cannot be ancestor of n1\n",
    "                cnf.append([-var_mapping[(n2, n1, 'direct')]])\n",
    "\n",
    "            elif edge_type == 'o-o': # no set d-separate A and B\n",
    "\n",
    "                # Either direct causation or latent common cause must exist\n",
    "                cnf.append([\n",
    "                    var_mapping[(n1, n2, 'direct')],\n",
    "                    var_mapping[(n2, n1, 'direct')],\n",
    "                    var_mapping[(n1, n2, 'latent')]\n",
    "                ])\n",
    "\n",
    "            elif edge_type == '<->': # There is a latent common cause of A and B\n",
    "\n",
    "                # Must have latent common cause\n",
    "                cnf.append([var_mapping[(n1, n2, 'latent')]])\n",
    "\n",
    "                # No direct causation in either direction\n",
    "                cnf.append([-var_mapping[(n2, n1, 'direct')]])\n",
    "                cnf.append([-var_mapping[(n1, n2, 'direct')]])\n",
    "\n",
    "    return cnf\n",
    "\n",
    "cnf = add_edge_constraints(formatted_edges)"
   ],
   "id": "595edd1d24c1e998",
   "outputs": [],
   "execution_count": 159
  },
  {
   "metadata": {
    "ExecuteTime": {
     "end_time": "2025-02-18T13:35:07.091420Z",
     "start_time": "2025-02-18T13:35:07.086478Z"
    }
   },
   "cell_type": "code",
   "source": "cnf",
   "id": "195578a01672e262",
   "outputs": [
    {
     "data": {
      "text/plain": [
       "[[15, 11, 16], [7, 3, 8]]"
      ]
     },
     "execution_count": 160,
     "metadata": {},
     "output_type": "execute_result"
    }
   ],
   "execution_count": 160
  },
  {
   "metadata": {
    "ExecuteTime": {
     "end_time": "2025-02-18T13:35:07.610423Z",
     "start_time": "2025-02-18T13:35:07.606704Z"
    }
   },
   "cell_type": "code",
   "source": [
    "# iterate through the clauses and count the number of variables\n",
    "variable_set = set()\n",
    "for clause in cnf:\n",
    "    for var in clause:\n",
    "        variable_set.add(abs(var))"
   ],
   "id": "ca7412d0a1ef538f",
   "outputs": [],
   "execution_count": 161
  },
  {
   "metadata": {
    "ExecuteTime": {
     "end_time": "2025-02-18T13:35:08.073454Z",
     "start_time": "2025-02-18T13:35:08.068315Z"
    }
   },
   "cell_type": "code",
   "source": [
    "new_var = list(range(1, len(variable_set) + 1))\n",
    "new_var"
   ],
   "id": "3aa06ae4e14dffc0",
   "outputs": [
    {
     "data": {
      "text/plain": [
       "[1, 2, 3, 4, 5, 6]"
      ]
     },
     "execution_count": 162,
     "metadata": {},
     "output_type": "execute_result"
    }
   ],
   "execution_count": 162
  },
  {
   "metadata": {
    "ExecuteTime": {
     "end_time": "2025-02-18T13:35:08.469417Z",
     "start_time": "2025-02-18T13:35:08.465028Z"
    }
   },
   "cell_type": "code",
   "source": [
    "# create a mapping from old variable to new variable\n",
    "cnf_variable_mapping = {}\n",
    "for i, var in enumerate(variable_set):\n",
    "    cnf_variable_mapping[var] = new_var[i]"
   ],
   "id": "7459b430a3ee1cc8",
   "outputs": [],
   "execution_count": 163
  },
  {
   "metadata": {
    "ExecuteTime": {
     "end_time": "2025-02-18T13:35:09.630486Z",
     "start_time": "2025-02-18T13:35:09.624658Z"
    }
   },
   "cell_type": "code",
   "source": "cnf_variable_mapping",
   "id": "7622650ed7f41f04",
   "outputs": [
    {
     "data": {
      "text/plain": [
       "{3: 1, 7: 2, 8: 3, 11: 4, 15: 5, 16: 6}"
      ]
     },
     "execution_count": 164,
     "metadata": {},
     "output_type": "execute_result"
    }
   ],
   "execution_count": 164
  },
  {
   "metadata": {
    "ExecuteTime": {
     "end_time": "2025-02-18T13:35:10.467671Z",
     "start_time": "2025-02-18T13:35:10.464102Z"
    }
   },
   "cell_type": "code",
   "source": [
    "new_cnf = []\n",
    "for clause in cnf:\n",
    "    new_clause = []\n",
    "    for var in clause:\n",
    "        new_var = cnf_variable_mapping[abs(var)]\n",
    "        new_clause.append(new_var if var > 0 else -new_var)\n",
    "    new_cnf.append(new_clause)"
   ],
   "id": "ce7b1ebcc28541bf",
   "outputs": [],
   "execution_count": 165
  },
  {
   "metadata": {
    "ExecuteTime": {
     "end_time": "2025-02-18T13:35:11.059442Z",
     "start_time": "2025-02-18T13:35:11.055032Z"
    }
   },
   "cell_type": "code",
   "source": "new_cnf",
   "id": "3cfce8f5466a6f8b",
   "outputs": [
    {
     "data": {
      "text/plain": [
       "[[5, 4, 6], [2, 1, 3]]"
      ]
     },
     "execution_count": 166,
     "metadata": {},
     "output_type": "execute_result"
    }
   ],
   "execution_count": 166
  },
  {
   "metadata": {
    "ExecuteTime": {
     "end_time": "2025-02-18T13:35:11.566437Z",
     "start_time": "2025-02-18T13:35:11.563378Z"
    }
   },
   "cell_type": "code",
   "source": [
    "# create the formula as CNF\n",
    "formula = CNF(from_clauses=new_cnf)"
   ],
   "id": "5bcd5110d13f496a",
   "outputs": [],
   "execution_count": 167
  },
  {
   "metadata": {
    "ExecuteTime": {
     "end_time": "2025-02-18T13:35:12.076067Z",
     "start_time": "2025-02-18T13:35:12.070509Z"
    }
   },
   "cell_type": "code",
   "source": "formula",
   "id": "fca3ebc92c3a4be3",
   "outputs": [
    {
     "data": {
      "text/plain": [
       "CNF(from_string='p cnf 6 2\\n5 4 6 0\\n2 1 3 0')"
      ]
     },
     "execution_count": 168,
     "metadata": {},
     "output_type": "execute_result"
    }
   ],
   "execution_count": 168
  },
  {
   "metadata": {
    "ExecuteTime": {
     "end_time": "2025-02-18T13:35:12.533770Z",
     "start_time": "2025-02-18T13:35:12.529932Z"
    }
   },
   "cell_type": "code",
   "source": [
    "solver = Glucose3()\n",
    "solver.append_formula(formula)"
   ],
   "id": "e5509091341869ea",
   "outputs": [],
   "execution_count": 169
  },
  {
   "metadata": {
    "ExecuteTime": {
     "end_time": "2025-02-18T13:35:13.107576Z",
     "start_time": "2025-02-18T13:35:13.103972Z"
    }
   },
   "cell_type": "code",
   "source": "is_sat = solver.solve()",
   "id": "cb0f5a999e48e9b8",
   "outputs": [],
   "execution_count": 170
  },
  {
   "metadata": {
    "ExecuteTime": {
     "end_time": "2025-02-18T13:35:13.580763Z",
     "start_time": "2025-02-18T13:35:13.574768Z"
    }
   },
   "cell_type": "code",
   "source": "is_sat",
   "id": "764d34418b935b3a",
   "outputs": [
    {
     "data": {
      "text/plain": [
       "True"
      ]
     },
     "execution_count": 171,
     "metadata": {},
     "output_type": "execute_result"
    }
   ],
   "execution_count": 171
  },
  {
   "metadata": {
    "ExecuteTime": {
     "end_time": "2025-02-18T13:35:14.100773Z",
     "start_time": "2025-02-18T13:35:14.096920Z"
    }
   },
   "cell_type": "code",
   "source": "model = solver.get_model()",
   "id": "5396014254eb7147",
   "outputs": [],
   "execution_count": 172
  },
  {
   "metadata": {
    "ExecuteTime": {
     "end_time": "2025-02-18T13:35:14.615864Z",
     "start_time": "2025-02-18T13:35:14.609674Z"
    }
   },
   "cell_type": "code",
   "source": "model",
   "id": "3e417fe60abca96b",
   "outputs": [
    {
     "data": {
      "text/plain": [
       "[1, -2, -3, 4, -5, -6]"
      ]
     },
     "execution_count": 173,
     "metadata": {},
     "output_type": "execute_result"
    }
   ],
   "execution_count": 173
  },
  {
   "metadata": {
    "ExecuteTime": {
     "end_time": "2025-02-18T13:35:15.419929Z",
     "start_time": "2025-02-18T13:35:15.413854Z"
    }
   },
   "cell_type": "code",
   "source": [
    "# map back with cnf_variable_mapping\n",
    "# reverse mapping\n",
    "reverse_cnf_variable_mapping = {v: k for k, v in cnf_variable_mapping.items()}\n",
    "reverse_cnf_variable_mapping"
   ],
   "id": "6533d588a2d0a1af",
   "outputs": [
    {
     "data": {
      "text/plain": [
       "{1: 3, 2: 7, 3: 8, 4: 11, 5: 15, 6: 16}"
      ]
     },
     "execution_count": 174,
     "metadata": {},
     "output_type": "execute_result"
    }
   ],
   "execution_count": 174
  },
  {
   "metadata": {
    "ExecuteTime": {
     "end_time": "2025-02-18T13:35:16.055147Z",
     "start_time": "2025-02-18T13:35:16.049469Z"
    }
   },
   "cell_type": "code",
   "source": [
    "temp = []\n",
    "for item in model:\n",
    "    temp.append(reverse_cnf_variable_mapping[abs(item)] if item > 0 else -reverse_cnf_variable_mapping[abs(item)])\n",
    "model = temp"
   ],
   "id": "1ca678953886f3d9",
   "outputs": [],
   "execution_count": 175
  },
  {
   "metadata": {
    "ExecuteTime": {
     "end_time": "2025-02-18T13:35:17.061372Z",
     "start_time": "2025-02-18T13:35:17.056001Z"
    }
   },
   "cell_type": "code",
   "source": "model",
   "id": "299fb1152accaa8f",
   "outputs": [
    {
     "data": {
      "text/plain": [
       "[3, -7, -8, 11, -15, -16]"
      ]
     },
     "execution_count": 176,
     "metadata": {},
     "output_type": "execute_result"
    }
   ],
   "execution_count": 176
  },
  {
   "metadata": {
    "ExecuteTime": {
     "end_time": "2025-02-18T13:35:33.816880Z",
     "start_time": "2025-02-18T13:35:33.812981Z"
    }
   },
   "cell_type": "code",
   "source": [
    "# Create reverse mapping for interpretation\n",
    "reverse_mapping = {v: k for k, v in var_mapping.items()}"
   ],
   "id": "b9ab741323e592ba",
   "outputs": [],
   "execution_count": 177
  },
  {
   "metadata": {
    "ExecuteTime": {
     "end_time": "2025-02-18T13:35:56.493537Z",
     "start_time": "2025-02-18T13:35:56.487224Z"
    }
   },
   "cell_type": "code",
   "source": "reverse_mapping",
   "id": "b162f611b2c27ad8",
   "outputs": [
    {
     "data": {
      "text/plain": [
       "{1: ('Z', 'Z', 'direct'),\n",
       " 2: ('Z', 'Z', 'latent'),\n",
       " 3: ('Z', 'Y', 'direct'),\n",
       " 4: ('Z', 'Y', 'latent'),\n",
       " 5: ('Z', 'X', 'direct'),\n",
       " 6: ('Z', 'X', 'latent'),\n",
       " 7: ('Y', 'Z', 'direct'),\n",
       " 8: ('Y', 'Z', 'latent'),\n",
       " 9: ('Y', 'Y', 'direct'),\n",
       " 10: ('Y', 'Y', 'latent'),\n",
       " 11: ('Y', 'X', 'direct'),\n",
       " 12: ('Y', 'X', 'latent'),\n",
       " 13: ('X', 'Z', 'direct'),\n",
       " 14: ('X', 'Z', 'latent'),\n",
       " 15: ('X', 'Y', 'direct'),\n",
       " 16: ('X', 'Y', 'latent'),\n",
       " 17: ('X', 'X', 'direct'),\n",
       " 18: ('X', 'X', 'latent')}"
      ]
     },
     "execution_count": 178,
     "metadata": {},
     "output_type": "execute_result"
    }
   ],
   "execution_count": 178
  },
  {
   "metadata": {
    "ExecuteTime": {
     "end_time": "2025-02-18T13:28:50.194462Z",
     "start_time": "2025-02-18T13:28:50.190168Z"
    }
   },
   "cell_type": "code",
   "source": [
    "causal_relationship = []\n",
    "\n",
    "for item in model:\n",
    "    absolute_value = abs(item)\n",
    "    if absolute_value in reverse_mapping:\n",
    "        node1, node2, edge = reverse_mapping[absolute_value]\n",
    "        causal_relationship.append({\n",
    "            \"node1\": node1,\n",
    "            \"node2\": node2,\n",
    "            \"edge\": edge,\n",
    "            \"exists\": True if item > 0 else False\n",
    "        })"
   ],
   "id": "4a0836fdf843d42c",
   "outputs": [],
   "execution_count": 145
  },
  {
   "metadata": {
    "ExecuteTime": {
     "end_time": "2025-02-18T13:28:50.249913Z",
     "start_time": "2025-02-18T13:28:50.242899Z"
    }
   },
   "cell_type": "code",
   "source": "causal_relationship",
   "id": "2ffc8ebfec6f9121",
   "outputs": [
    {
     "data": {
      "text/plain": [
       "[{'node1': 'Z', 'node2': 'Y', 'edge': 'direct', 'exists': True},\n",
       " {'node1': 'Y', 'node2': 'Z', 'edge': 'direct', 'exists': False},\n",
       " {'node1': 'Y', 'node2': 'Z', 'edge': 'latent', 'exists': False},\n",
       " {'node1': 'Y', 'node2': 'X', 'edge': 'direct', 'exists': True},\n",
       " {'node1': 'X', 'node2': 'Y', 'edge': 'direct', 'exists': False},\n",
       " {'node1': 'X', 'node2': 'Y', 'edge': 'latent', 'exists': False}]"
      ]
     },
     "execution_count": 146,
     "metadata": {},
     "output_type": "execute_result"
    }
   ],
   "execution_count": 146
  },
  {
   "metadata": {
    "ExecuteTime": {
     "end_time": "2025-02-18T13:28:50.290851Z",
     "start_time": "2025-02-18T13:28:50.286960Z"
    }
   },
   "cell_type": "code",
   "source": "solver.delete()",
   "id": "98f252d143134b8e",
   "outputs": [],
   "execution_count": 147
  },
  {
   "metadata": {
    "ExecuteTime": {
     "end_time": "2025-02-18T13:28:50.344991Z",
     "start_time": "2025-02-18T13:28:50.339703Z"
    }
   },
   "cell_type": "code",
   "source": [
    "direct_causes = [rel for rel in causal_relationship if rel[\"edge\"] == \"direct\" and rel[\"exists\"]]\n",
    "latent_causes = [rel for rel in causal_relationship if rel[\"edge\"] == \"latent\" and rel[\"exists\"]]"
   ],
   "id": "823e7ab6b05effae",
   "outputs": [],
   "execution_count": 148
  },
  {
   "metadata": {
    "ExecuteTime": {
     "end_time": "2025-02-18T13:28:50.365811Z",
     "start_time": "2025-02-18T13:28:50.361715Z"
    }
   },
   "cell_type": "code",
   "source": [
    "for rel in direct_causes:\n",
    "    print(f\"{rel['node1']} -> {rel['node2']}\")"
   ],
   "id": "7022069848f4c93f",
   "outputs": [
    {
     "name": "stdout",
     "output_type": "stream",
     "text": [
      "Z -> Y\n",
      "Y -> X\n"
     ]
    }
   ],
   "execution_count": 149
  },
  {
   "metadata": {
    "ExecuteTime": {
     "end_time": "2025-02-18T13:28:50.397419Z",
     "start_time": "2025-02-18T13:28:50.392939Z"
    }
   },
   "cell_type": "code",
   "source": [
    "for rel in latent_causes:\n",
    "    print(f\"{rel['node1']} <- {rel['node2']}\")"
   ],
   "id": "66447dfa46026ee0",
   "outputs": [],
   "execution_count": 150
  },
  {
   "metadata": {
    "ExecuteTime": {
     "end_time": "2025-02-18T14:28:24.062946Z",
     "start_time": "2025-02-18T14:28:24.057113Z"
    }
   },
   "cell_type": "code",
   "source": [
    "# create a set of variables which will be the nodes\n",
    "nodes = set()\n",
    "for rel in causal_relationship:\n",
    "    nodes.add(rel[\"node1\"])\n",
    "    nodes.add(rel[\"node2\"])\n",
    "graph = pydot.Dot(\"my_graph\", graph_type=\"digraph\")\n",
    "for node in nodes:\n",
    "    graph.add_node(pydot.Node(node))\n",
    "\n",
    "for rel in causal_relationship:\n",
    "    if rel[\"edge\"] == \"direct\" and rel[\"exists\"]:\n",
    "        graph.add_edge(pydot.Edge(rel[\"node1\"], rel[\"node2\"], arrowhead=\"\"))\n",
    "    elif rel[\"edge\"] == \"latent\" and rel[\"exists\"]:\n",
    "        graph.add_edge(pydot.Edge(rel[\"node2\"], rel[\"node1\"], arrowhead=\"normal\"))"
   ],
   "id": "c5fef48a5f4ab05b",
   "outputs": [],
   "execution_count": 192
  },
  {
   "metadata": {
    "ExecuteTime": {
     "end_time": "2025-02-18T14:28:24.828801Z",
     "start_time": "2025-02-18T14:28:24.607877Z"
    }
   },
   "cell_type": "code",
   "source": "graph.write_png(\"output.png\")",
   "id": "6ab36d62a2223faf",
   "outputs": [],
   "execution_count": 193
  },
  {
   "metadata": {},
   "cell_type": "code",
   "outputs": [],
   "execution_count": null,
   "source": "",
   "id": "66ab06c1429b55f7"
  }
 ],
 "metadata": {
  "kernelspec": {
   "display_name": "Python 3",
   "language": "python",
   "name": "python3"
  },
  "language_info": {
   "codemirror_mode": {
    "name": "ipython",
    "version": 2
   },
   "file_extension": ".py",
   "mimetype": "text/x-python",
   "name": "python",
   "nbconvert_exporter": "python",
   "pygments_lexer": "ipython2",
   "version": "2.7.6"
  }
 },
 "nbformat": 4,
 "nbformat_minor": 5
}
