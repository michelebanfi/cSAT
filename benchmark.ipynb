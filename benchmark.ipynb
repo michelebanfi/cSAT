{
 "cells": [
  {
   "metadata": {
    "ExecuteTime": {
     "end_time": "2025-02-17T15:11:27.549955Z",
     "start_time": "2025-02-17T15:11:27.543432Z"
    }
   },
   "cell_type": "code",
   "source": [
    "import numpy as np\n",
    "import matplotlib.pyplot as plt\n",
    "import pandas as pd\n",
    "from causallearn.search.ConstraintBased.FCI import fci\n",
    "from causallearn.utils.GraphUtils import GraphUtils"
   ],
   "id": "2ea94e93aabedce9",
   "outputs": [],
   "execution_count": 6
  },
  {
   "metadata": {
    "ExecuteTime": {
     "end_time": "2025-02-17T15:11:27.830732Z",
     "start_time": "2025-02-17T15:11:27.823052Z"
    }
   },
   "cell_type": "code",
   "source": [
    "# Generate data\n",
    "X = np.random.uniform(size=1000)\n",
    "eps = np.random.normal(size=1000)\n",
    "delta = np.random.uniform(size=1000)\n",
    "Z = -7*X + 0.5*delta\n",
    "Y = 2*X + Z + eps\n",
    "\n",
    "# Create DataFrame with named variables\n",
    "data = pd.DataFrame({'X': X, 'Y': Y, 'Z': Z})"
   ],
   "id": "f869d749085b1ab5",
   "outputs": [],
   "execution_count": 7
  },
  {
   "metadata": {
    "ExecuteTime": {
     "end_time": "2025-02-17T15:11:28.619402Z",
     "start_time": "2025-02-17T15:11:28.188871Z"
    }
   },
   "cell_type": "code",
   "source": [
    "# Store original column names\n",
    "variable_names = list(data.columns)\n",
    "\n",
    "# Run FCI\n",
    "g, edge = fci(data.to_numpy(), alpha=0.2)\n",
    "\n",
    "# Get the dot representation\n",
    "dot = GraphUtils.to_pydot(g)\n",
    "\n",
    "# Relabel the nodes with original variable names\n",
    "for i, node in enumerate(dot.get_nodes()):\n",
    "    if node.get_name().isdigit() and int(node.get_name()) < len(variable_names):\n",
    "        # Replace the node name with the original variable name\n",
    "        node.set_name(f'\"{variable_names[int(node.get_name())]}\"')\n",
    "\n",
    "# Save the labeled graph\n",
    "dot.write_png('labeled_graph.png')\n",
    "\n",
    "# Print the mapping for reference\n",
    "print(\"Variable mapping:\")\n",
    "for i, name in enumerate(variable_names):\n",
    "    print(f\"Node {i} -> {name}\")"
   ],
   "id": "9b87270b497f0bbc",
   "outputs": [
    {
     "name": "stderr",
     "output_type": "stream",
     "text": [
      "Depth=0, working on node 2: 100%|██████████| 3/3 [00:00<00:00, 563.20it/s]\n"
     ]
    },
    {
     "name": "stdout",
     "output_type": "stream",
     "text": [
      "Variable mapping:\n",
      "Node 0 -> X\n",
      "Node 1 -> Y\n",
      "Node 2 -> Z\n"
     ]
    }
   ],
   "execution_count": 8
  },
  {
   "metadata": {},
   "cell_type": "code",
   "outputs": [],
   "execution_count": null,
   "source": "",
   "id": "2a6d29cfabc81f4b"
  }
 ],
 "metadata": {
  "kernelspec": {
   "display_name": "Python 3",
   "language": "python",
   "name": "python3"
  },
  "language_info": {
   "codemirror_mode": {
    "name": "ipython",
    "version": 2
   },
   "file_extension": ".py",
   "mimetype": "text/x-python",
   "name": "python",
   "nbconvert_exporter": "python",
   "pygments_lexer": "ipython2",
   "version": "2.7.6"
  }
 },
 "nbformat": 4,
 "nbformat_minor": 5
}
