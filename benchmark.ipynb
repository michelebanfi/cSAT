{
 "cells": [
  {
   "cell_type": "code",
   "execution_count": 126,
   "id": "2ea94e93aabedce9",
   "metadata": {
    "ExecuteTime": {
     "end_time": "2025-02-19T13:22:54.137262Z",
     "start_time": "2025-02-19T13:22:54.128704Z"
    }
   },
   "outputs": [],
   "source": [
    "# standard imports\n",
    "import numpy as np\n",
    "import pandas as pd\n",
    "import pydot\n",
    "\n",
    "# causal-learn imports\n",
    "from causallearn.search.ConstraintBased.FCI import fci\n",
    "from causallearn.search.ConstraintBased.PC import pc\n",
    "from causallearn.graph.Edge import Edge\n",
    "from causallearn.utils.GraphUtils import GraphUtils\n",
    "\n",
    "# pysat imports\n",
    "from pysat.formula import CNF\n",
    "from pysat.solvers import Glucose3"
   ]
  },
  {
   "cell_type": "code",
   "execution_count": 127,
   "id": "f869d749085b1ab5",
   "metadata": {
    "ExecuteTime": {
     "end_time": "2025-02-19T13:22:54.187351Z",
     "start_time": "2025-02-19T13:22:54.171650Z"
    }
   },
   "outputs": [],
   "source": [
    "# Generate data where X -> Y <- Z\n",
    "X = np.random.uniform(size=10000)\n",
    "eps = np.random.normal(size=10000)\n",
    "delta = np.random.uniform(size=10000)\n",
    "Y = -7*X + 0.5*delta\n",
    "Z = 2*X + Y + eps\n",
    "\n",
    "# Create DataFrame with named variables\n",
    "data = pd.DataFrame({'X': X, 'Y': Y, 'Z': Z})"
   ]
  },
  {
   "cell_type": "code",
   "execution_count": null,
   "id": "9b87270b497f0bbc",
   "metadata": {
    "ExecuteTime": {
     "end_time": "2025-02-19T13:22:54.958112Z",
     "start_time": "2025-02-19T13:22:54.266782Z"
    }
   },
   "outputs": [
    {
     "name": "stderr",
     "output_type": "stream",
     "text": [
      "Depth=1, working on node 2: 100%|██████████| 3/3 [00:00<00:00, 126.37it/s]\n",
      "Depth=0, working on node 2: 100%|██████████| 3/3 [00:00<00:00, 169.34it/s]\n"
     ]
    }
   ],
   "source": [
    "# Store original column names\n",
    "variable_names = list(data.columns)\n",
    "\n",
    "g = pc(data.to_numpy())\n",
    "\n",
    "# Get the dot representation to be plotted\n",
    "dot = GraphUtils.to_pydot(g.G)\n",
    "\n",
    "# Relabel the nodes with original variable names\n",
    "for i, node in enumerate(dot.get_nodes()):\n",
    "    if node.get_name().isdigit() and int(node.get_name()) < len(variable_names):\n",
    "        # Replace the node label with the original variable name\n",
    "        node.set_label(f'\"{variable_names[int(node.get_name())]}\"')\n",
    "\n",
    "dot.write_png('output/pc_graph.png')\n",
    "\n",
    "# Run FCI\n",
    "g, edges = fci(data.to_numpy())\n",
    "\n",
    "# Get the dot representation to be plotted\n",
    "dot = GraphUtils.to_pydot(g)\n",
    "\n",
    "# Relabel the nodes with original variable names\n",
    "for i, node in enumerate(dot.get_nodes()):\n",
    "    if node.get_name().isdigit() and int(node.get_name()) < len(variable_names):\n",
    "        # Replace the node label with the original variable name\n",
    "        node.set_label(f'\"{variable_names[int(node.get_name())]}\"')\n",
    "\n",
    "\n",
    "dot.write_png('output/fci_graph.png')\n",
    "\n",
    "# rename the nodes with the original variable names since FCI do whatever he likes\n",
    "for i, node in enumerate(g.nodes):\n",
    "    node.name = variable_names[i]"
   ]
  },
  {
   "cell_type": "code",
   "execution_count": 129,
   "id": "a399ab0085d0954b",
   "metadata": {
    "ExecuteTime": {
     "end_time": "2025-02-19T13:22:55.030543Z",
     "start_time": "2025-02-19T13:22:55.017161Z"
    }
   },
   "outputs": [
    {
     "data": {
      "text/plain": [
       "['X', 'Y', 'Z']"
      ]
     },
     "execution_count": 129,
     "metadata": {},
     "output_type": "execute_result"
    }
   ],
   "source": [
    "variable_names"
   ]
  },
  {
   "cell_type": "code",
   "execution_count": 130,
   "id": "2a6d29cfabc81f4b",
   "metadata": {
    "ExecuteTime": {
     "end_time": "2025-02-19T13:22:55.118189Z",
     "start_time": "2025-02-19T13:22:55.101885Z"
    }
   },
   "outputs": [
    {
     "name": "stdout",
     "output_type": "stream",
     "text": [
      "[('X', 'Y', 'o-o'), ('X', 'Z', 'o-o'), ('Y', 'Z', 'o-o')]\n"
     ]
    }
   ],
   "source": [
    "# translate the edges to a more readable format\n",
    "def get_endpoint_type(endpoint: int, isFirst: bool):\n",
    "    if endpoint == -1:\n",
    "        return \"-\"\n",
    "    elif endpoint == 1:\n",
    "        return \"<\" if isFirst else \">\"\n",
    "    elif endpoint == 2:\n",
    "        return \"o\"\n",
    "\n",
    "def get_edge(edge: Edge):\n",
    "    start = edge.numerical_endpoint_1\n",
    "    end = edge.numerical_endpoint_2\n",
    "\n",
    "    return f\"{get_endpoint_type(start, True)}-{get_endpoint_type(end, False)}\"\n",
    "\n",
    "\n",
    "sat_clauses = []\n",
    "formatted_edges = []\n",
    "for edge in edges:\n",
    "    formatted_edges.append((edge.node1.name, edge.node2.name, get_edge(edge)))\n",
    "\n",
    "print(formatted_edges)"
   ]
  },
  {
   "cell_type": "code",
   "execution_count": 131,
   "id": "858e83b8958fb9f3",
   "metadata": {
    "ExecuteTime": {
     "end_time": "2025-02-19T13:22:55.274463Z",
     "start_time": "2025-02-19T13:22:55.262703Z"
    }
   },
   "outputs": [],
   "source": [
    "def get_unique_nodes(edges):\n",
    "    nodes = set()\n",
    "    for edge in edges:\n",
    "        nodes.add(edge[0])\n",
    "        nodes.add(edge[1])\n",
    "    return nodes\n",
    "\n",
    "nodes = get_unique_nodes(formatted_edges)"
   ]
  },
  {
   "cell_type": "code",
   "execution_count": 132,
   "id": "e3f80118c4179027",
   "metadata": {
    "ExecuteTime": {
     "end_time": "2025-02-19T13:22:55.454886Z",
     "start_time": "2025-02-19T13:22:55.443083Z"
    }
   },
   "outputs": [
    {
     "data": {
      "text/plain": [
       "{'X', 'Y', 'Z'}"
      ]
     },
     "execution_count": 132,
     "metadata": {},
     "output_type": "execute_result"
    }
   ],
   "source": [
    "nodes"
   ]
  },
  {
   "cell_type": "code",
   "execution_count": 133,
   "id": "443379f221cc20c4",
   "metadata": {
    "ExecuteTime": {
     "end_time": "2025-02-19T13:22:55.495434Z",
     "start_time": "2025-02-19T13:22:55.485210Z"
    }
   },
   "outputs": [],
   "source": [
    "# create a variable mapping for the nodes, with all possible edge types\n",
    "var_mapping = {}\n",
    "def create_variable_mapping(nodes):\n",
    "    for n1 in nodes:\n",
    "        for n2 in nodes:\n",
    "            for edge_type in [\"direct\", \"latent\", \"transitive\"]:\n",
    "                var_mapping[(n1, n2, edge_type)] = len(var_mapping) + 1\n",
    "    return var_mapping\n",
    "\n",
    "var_mapping = create_variable_mapping(nodes)"
   ]
  },
  {
   "cell_type": "code",
   "execution_count": 134,
   "id": "e36417cf36125c2f",
   "metadata": {
    "ExecuteTime": {
     "end_time": "2025-02-19T13:22:55.622941Z",
     "start_time": "2025-02-19T13:22:55.609844Z"
    }
   },
   "outputs": [
    {
     "data": {
      "text/plain": [
       "{('Y', 'Y', 'direct'): 1,\n",
       " ('Y', 'Y', 'latent'): 2,\n",
       " ('Y', 'Y', 'transitive'): 3,\n",
       " ('Y', 'Z', 'direct'): 4,\n",
       " ('Y', 'Z', 'latent'): 5,\n",
       " ('Y', 'Z', 'transitive'): 6,\n",
       " ('Y', 'X', 'direct'): 7,\n",
       " ('Y', 'X', 'latent'): 8,\n",
       " ('Y', 'X', 'transitive'): 9,\n",
       " ('Z', 'Y', 'direct'): 10,\n",
       " ('Z', 'Y', 'latent'): 11,\n",
       " ('Z', 'Y', 'transitive'): 12,\n",
       " ('Z', 'Z', 'direct'): 13,\n",
       " ('Z', 'Z', 'latent'): 14,\n",
       " ('Z', 'Z', 'transitive'): 15,\n",
       " ('Z', 'X', 'direct'): 16,\n",
       " ('Z', 'X', 'latent'): 17,\n",
       " ('Z', 'X', 'transitive'): 18,\n",
       " ('X', 'Y', 'direct'): 19,\n",
       " ('X', 'Y', 'latent'): 20,\n",
       " ('X', 'Y', 'transitive'): 21,\n",
       " ('X', 'Z', 'direct'): 22,\n",
       " ('X', 'Z', 'latent'): 23,\n",
       " ('X', 'Z', 'transitive'): 24,\n",
       " ('X', 'X', 'direct'): 25,\n",
       " ('X', 'X', 'latent'): 26,\n",
       " ('X', 'X', 'transitive'): 27}"
      ]
     },
     "execution_count": 134,
     "metadata": {},
     "output_type": "execute_result"
    }
   ],
   "source": [
    "var_mapping"
   ]
  },
  {
   "cell_type": "code",
   "execution_count": 135,
   "id": "b2bf5b34978c2e43",
   "metadata": {
    "ExecuteTime": {
     "end_time": "2025-02-19T13:22:55.708885Z",
     "start_time": "2025-02-19T13:22:55.684854Z"
    }
   },
   "outputs": [],
   "source": [
    "# Initialize a counter for variable IDs\n",
    "next_var_id = 1\n",
    "\n",
    "def get_next_var_id():\n",
    "    global next_var_id\n",
    "    var_id = next_var_id\n",
    "    next_var_id += 1\n",
    "    return var_id\n",
    "\n",
    "\n",
    "# create the CNF clauses for the edge constraints\n",
    "def add_edge_constraints(edges, all_nodes):\n",
    "    cnf = []\n",
    "    for n1, n2, edge_type in edges:\n",
    "            if edge_type == '-->': # A is a direct cause of B\n",
    "\n",
    "                # Direct causation must be true\n",
    "                cnf.append([var_mapping[(n1, n2, 'direct')]])\n",
    "                cnf.append([-var_mapping[(n2, n1, 'direct')]])\n",
    "\n",
    "                # No latent common cause\n",
    "                cnf.append([-var_mapping[(n1, n2, 'latent')]])\n",
    "\n",
    "            elif edge_type == 'o->': # B is not an ancestor of A\n",
    "\n",
    "                cnf.append([-var_mapping[(n2, n1, 'direct')]])\n",
    "                cnf.append([var_mapping((n1, n2, 'direct'))])\n",
    "                cnf.append([var_mapping((n2, n1, 'latent'))])\n",
    "                cnf.append([var_mapping((n1, n2, 'latent'))])\n",
    "\n",
    "                # # For ancestral relationships, we need to prevent all paths from B to A\n",
    "                # # This requires additional variables to represent transitive relationships\n",
    "                # for intermediate in all_nodes:\n",
    "                #     if intermediate != n1 and intermediate != n2:\n",
    "                #         # If B→C and C→A, then B is an ancestor of A, which is prohibited\n",
    "                #         cnf.append([\n",
    "                #             -var_mapping[(n2, intermediate, 'direct')],\n",
    "                #             -var_mapping[(intermediate, n1, 'direct')]\n",
    "                #         ])\n",
    "                #\n",
    "                #         # For longer paths, we would need to recursively consider all possible paths\n",
    "                #         # This is complicated in pure SAT, but can be handled more easily with auxiliary variables\n",
    "\n",
    "            elif edge_type == 'o-o': # no set d-separate A and B\n",
    "\n",
    "                # Either direct causation or latent common cause must exist\n",
    "                cnf.append([\n",
    "                    var_mapping[(n1, n2, 'direct')],\n",
    "                    var_mapping[(n2, n1, 'direct')],\n",
    "                    var_mapping[(n1, n2, 'latent')],\n",
    "                    var_mapping[(n2, n1, 'latent')],\n",
    "                ])\n",
    "\n",
    "            elif edge_type == '<->': # There is a latent common cause of A and B\n",
    "\n",
    "                # Must have latent common cause\n",
    "                cnf.append([var_mapping[(n1, n2, 'latent')]])\n",
    "                cnf.append([var_mapping[(n2, n1, 'latent')]])\n",
    "\n",
    "                # No direct causation in either direction\n",
    "                cnf.append([-var_mapping[(n2, n1, 'direct')]])\n",
    "                cnf.append([-var_mapping[(n1, n2, 'direct')]])\n",
    "\n",
    "    return cnf\n",
    "\n",
    "def add_transitive_closure_constraints(all_nodes, var_mapping):\n",
    "    cnf = []\n",
    "\n",
    "    # Create mapping for transitive relationships\n",
    "    for i, node_i in enumerate(all_nodes):\n",
    "        for j, node_j in enumerate(all_nodes):\n",
    "            if i != j:\n",
    "                # Define: transitive(i,j) iff i is an ancestor of j through any path\n",
    "                var_mapping[(node_i, node_j, 'transitive')] = get_next_var_id()\n",
    "\n",
    "                # Direct edge implies transitive relationship\n",
    "                cnf.append([-var_mapping[(node_i, node_j, 'direct')],\n",
    "                           var_mapping[(node_i, node_j, 'transitive')]])\n",
    "\n",
    "                # Build transitive relationships\n",
    "                for k, node_k in enumerate(all_nodes):\n",
    "                    if i != k and j != k:\n",
    "                        # If i→k and k→j transitively, then i→j transitively\n",
    "                        cnf.append([\n",
    "                            -var_mapping[(node_i, node_k, 'transitive')],\n",
    "                            -var_mapping[(node_k, node_j, 'transitive')],\n",
    "                            var_mapping[(node_i, node_j, 'transitive')]\n",
    "                        ])\n",
    "\n",
    "    return cnf\n",
    "\n",
    "def add_no_ancestor_constraints(edges, var_mapping):\n",
    "    cnf = []\n",
    "\n",
    "    for n1, n2, edge_type in edges:\n",
    "        if edge_type == 'o->':  # B is not an ancestor of A\n",
    "            # Use the transitive relationship variable to enforce no ancestry\n",
    "            cnf.append([-var_mapping[(n2, n1, 'transitive')]])\n",
    "\n",
    "    return cnf"
   ]
  },
  {
   "cell_type": "code",
   "execution_count": 136,
   "id": "595edd1d24c1e998",
   "metadata": {
    "ExecuteTime": {
     "end_time": "2025-02-19T13:22:55.721159Z",
     "start_time": "2025-02-19T13:22:55.715749Z"
    }
   },
   "outputs": [],
   "source": [
    "cnf = add_edge_constraints(formatted_edges, nodes)\n",
    "\n",
    "# Add transitive closure constraints\n",
    "# cnf.extend(add_transitive_closure_constraints(nodes, var_mapping))\n",
    "\n",
    "# Add the no-ancestor constraints\n",
    "# cnf.extend(add_no_ancestor_constraints(formatted_edges, var_mapping))"
   ]
  },
  {
   "cell_type": "code",
   "execution_count": 137,
   "id": "195578a01672e262",
   "metadata": {
    "ExecuteTime": {
     "end_time": "2025-02-19T13:22:55.790915Z",
     "start_time": "2025-02-19T13:22:55.781289Z"
    }
   },
   "outputs": [
    {
     "data": {
      "text/plain": [
       "[[19, 7, 20, 8], [22, 16, 23, 17], [4, 10, 5, 11]]"
      ]
     },
     "execution_count": 137,
     "metadata": {},
     "output_type": "execute_result"
    }
   ],
   "source": [
    "cnf"
   ]
  },
  {
   "cell_type": "code",
   "execution_count": 138,
   "id": "ca7412d0a1ef538f",
   "metadata": {
    "ExecuteTime": {
     "end_time": "2025-02-19T13:22:55.855253Z",
     "start_time": "2025-02-19T13:22:55.849055Z"
    }
   },
   "outputs": [],
   "source": [
    "# iterate through the clauses and count the number of variables\n",
    "variable_set = set()\n",
    "for clause in cnf:\n",
    "    for var in clause:\n",
    "        variable_set.add(abs(var))"
   ]
  },
  {
   "cell_type": "code",
   "execution_count": 139,
   "id": "3aa06ae4e14dffc0",
   "metadata": {
    "ExecuteTime": {
     "end_time": "2025-02-19T13:22:55.957622Z",
     "start_time": "2025-02-19T13:22:55.950514Z"
    }
   },
   "outputs": [
    {
     "data": {
      "text/plain": [
       "[1, 2, 3, 4, 5, 6, 7, 8, 9, 10, 11, 12]"
      ]
     },
     "execution_count": 139,
     "metadata": {},
     "output_type": "execute_result"
    }
   ],
   "source": [
    "new_var = list(range(1, len(variable_set) + 1))\n",
    "new_var"
   ]
  },
  {
   "cell_type": "code",
   "execution_count": 140,
   "id": "7459b430a3ee1cc8",
   "metadata": {
    "ExecuteTime": {
     "end_time": "2025-02-19T13:22:55.992534Z",
     "start_time": "2025-02-19T13:22:55.983978Z"
    }
   },
   "outputs": [],
   "source": [
    "# create a mapping from old variable to new variable\n",
    "cnf_variable_mapping = {}\n",
    "for i, var in enumerate(variable_set):\n",
    "    cnf_variable_mapping[var] = new_var[i]"
   ]
  },
  {
   "cell_type": "code",
   "execution_count": 141,
   "id": "7622650ed7f41f04",
   "metadata": {
    "ExecuteTime": {
     "end_time": "2025-02-19T13:22:56.059409Z",
     "start_time": "2025-02-19T13:22:56.047471Z"
    }
   },
   "outputs": [
    {
     "data": {
      "text/plain": [
       "{4: 1,\n",
       " 5: 2,\n",
       " 7: 3,\n",
       " 8: 4,\n",
       " 10: 5,\n",
       " 11: 6,\n",
       " 16: 7,\n",
       " 17: 8,\n",
       " 19: 9,\n",
       " 20: 10,\n",
       " 22: 11,\n",
       " 23: 12}"
      ]
     },
     "execution_count": 141,
     "metadata": {},
     "output_type": "execute_result"
    }
   ],
   "source": [
    "cnf_variable_mapping"
   ]
  },
  {
   "cell_type": "code",
   "execution_count": 142,
   "id": "ce7b1ebcc28541bf",
   "metadata": {
    "ExecuteTime": {
     "end_time": "2025-02-19T13:22:56.124073Z",
     "start_time": "2025-02-19T13:22:56.117449Z"
    }
   },
   "outputs": [],
   "source": [
    "new_cnf = []\n",
    "for clause in cnf:\n",
    "    new_clause = []\n",
    "    for var in clause:\n",
    "        new_var = cnf_variable_mapping[abs(var)]\n",
    "        new_clause.append(new_var if var > 0 else -new_var)\n",
    "    new_cnf.append(new_clause)"
   ]
  },
  {
   "cell_type": "code",
   "execution_count": 143,
   "id": "3cfce8f5466a6f8b",
   "metadata": {
    "ExecuteTime": {
     "end_time": "2025-02-19T13:22:56.307077Z",
     "start_time": "2025-02-19T13:22:56.299281Z"
    }
   },
   "outputs": [
    {
     "data": {
      "text/plain": [
       "[[9, 3, 10, 4], [11, 7, 12, 8], [1, 5, 2, 6]]"
      ]
     },
     "execution_count": 143,
     "metadata": {},
     "output_type": "execute_result"
    }
   ],
   "source": [
    "new_cnf"
   ]
  },
  {
   "cell_type": "code",
   "execution_count": 144,
   "id": "5bcd5110d13f496a",
   "metadata": {
    "ExecuteTime": {
     "end_time": "2025-02-19T13:22:56.346805Z",
     "start_time": "2025-02-19T13:22:56.340392Z"
    }
   },
   "outputs": [],
   "source": [
    "# create the formula as CNF\n",
    "formula = CNF(from_clauses=new_cnf)"
   ]
  },
  {
   "cell_type": "code",
   "execution_count": 145,
   "id": "fca3ebc92c3a4be3",
   "metadata": {
    "ExecuteTime": {
     "end_time": "2025-02-19T13:22:56.415962Z",
     "start_time": "2025-02-19T13:22:56.404294Z"
    }
   },
   "outputs": [
    {
     "data": {
      "text/plain": [
       "CNF(from_string='p cnf 12 3\\n9 3 10 4 0\\n11 7 12 8 0\\n1 5 2 6 0')"
      ]
     },
     "execution_count": 145,
     "metadata": {},
     "output_type": "execute_result"
    }
   ],
   "source": [
    "formula"
   ]
  },
  {
   "cell_type": "code",
   "execution_count": 146,
   "id": "e5509091341869ea",
   "metadata": {
    "ExecuteTime": {
     "end_time": "2025-02-19T13:22:56.487902Z",
     "start_time": "2025-02-19T13:22:56.481220Z"
    }
   },
   "outputs": [],
   "source": [
    "solver = Glucose3()\n",
    "solver.append_formula(formula)"
   ]
  },
  {
   "cell_type": "code",
   "execution_count": 147,
   "id": "cb0f5a999e48e9b8",
   "metadata": {
    "ExecuteTime": {
     "end_time": "2025-02-19T13:22:56.584130Z",
     "start_time": "2025-02-19T13:22:56.578556Z"
    }
   },
   "outputs": [],
   "source": [
    "is_sat = solver.solve()"
   ]
  },
  {
   "cell_type": "code",
   "execution_count": 148,
   "id": "764d34418b935b3a",
   "metadata": {
    "ExecuteTime": {
     "end_time": "2025-02-19T13:22:56.657157Z",
     "start_time": "2025-02-19T13:22:56.646163Z"
    }
   },
   "outputs": [
    {
     "data": {
      "text/plain": [
       "True"
      ]
     },
     "execution_count": 148,
     "metadata": {},
     "output_type": "execute_result"
    }
   ],
   "source": [
    "is_sat"
   ]
  },
  {
   "cell_type": "code",
   "execution_count": 149,
   "id": "5396014254eb7147",
   "metadata": {
    "ExecuteTime": {
     "end_time": "2025-02-19T13:22:56.732051Z",
     "start_time": "2025-02-19T13:22:56.725726Z"
    }
   },
   "outputs": [],
   "source": [
    "model = solver.get_model()"
   ]
  },
  {
   "cell_type": "code",
   "execution_count": 150,
   "id": "3e417fe60abca96b",
   "metadata": {
    "ExecuteTime": {
     "end_time": "2025-02-19T13:22:56.878379Z",
     "start_time": "2025-02-19T13:22:56.868928Z"
    }
   },
   "outputs": [
    {
     "data": {
      "text/plain": [
       "[1, -2, 3, -4, -5, -6, 7, -8, -9, -10, -11, -12]"
      ]
     },
     "execution_count": 150,
     "metadata": {},
     "output_type": "execute_result"
    }
   ],
   "source": [
    "model"
   ]
  },
  {
   "cell_type": "code",
   "execution_count": 151,
   "id": "6533d588a2d0a1af",
   "metadata": {
    "ExecuteTime": {
     "end_time": "2025-02-19T13:22:56.992694Z",
     "start_time": "2025-02-19T13:22:56.978430Z"
    }
   },
   "outputs": [
    {
     "data": {
      "text/plain": [
       "{1: 4,\n",
       " 2: 5,\n",
       " 3: 7,\n",
       " 4: 8,\n",
       " 5: 10,\n",
       " 6: 11,\n",
       " 7: 16,\n",
       " 8: 17,\n",
       " 9: 19,\n",
       " 10: 20,\n",
       " 11: 22,\n",
       " 12: 23}"
      ]
     },
     "execution_count": 151,
     "metadata": {},
     "output_type": "execute_result"
    }
   ],
   "source": [
    "# map back with cnf_variable_mapping\n",
    "# reverse mapping\n",
    "reverse_cnf_variable_mapping = {v: k for k, v in cnf_variable_mapping.items()}\n",
    "reverse_cnf_variable_mapping"
   ]
  },
  {
   "cell_type": "code",
   "execution_count": 152,
   "id": "1ca678953886f3d9",
   "metadata": {
    "ExecuteTime": {
     "end_time": "2025-02-19T13:22:57.083596Z",
     "start_time": "2025-02-19T13:22:57.072891Z"
    }
   },
   "outputs": [],
   "source": [
    "temp = []\n",
    "for item in model:\n",
    "    temp.append(reverse_cnf_variable_mapping[abs(item)] if item > 0 else -reverse_cnf_variable_mapping[abs(item)])\n",
    "model = temp"
   ]
  },
  {
   "cell_type": "code",
   "execution_count": 153,
   "id": "299fb1152accaa8f",
   "metadata": {
    "ExecuteTime": {
     "end_time": "2025-02-19T13:22:57.161908Z",
     "start_time": "2025-02-19T13:22:57.148605Z"
    }
   },
   "outputs": [
    {
     "data": {
      "text/plain": [
       "[4, -5, 7, -8, -10, -11, 16, -17, -19, -20, -22, -23]"
      ]
     },
     "execution_count": 153,
     "metadata": {},
     "output_type": "execute_result"
    }
   ],
   "source": [
    "model"
   ]
  },
  {
   "cell_type": "code",
   "execution_count": 154,
   "id": "b9ab741323e592ba",
   "metadata": {
    "ExecuteTime": {
     "end_time": "2025-02-19T13:22:57.235581Z",
     "start_time": "2025-02-19T13:22:57.229594Z"
    }
   },
   "outputs": [],
   "source": [
    "# Create reverse mapping for interpretation\n",
    "reverse_mapping = {v: k for k, v in var_mapping.items()}"
   ]
  },
  {
   "cell_type": "code",
   "execution_count": 155,
   "id": "b162f611b2c27ad8",
   "metadata": {
    "ExecuteTime": {
     "end_time": "2025-02-19T13:22:57.340714Z",
     "start_time": "2025-02-19T13:22:57.318460Z"
    }
   },
   "outputs": [
    {
     "data": {
      "text/plain": [
       "{1: ('Y', 'Y', 'direct'),\n",
       " 2: ('Y', 'Y', 'latent'),\n",
       " 3: ('Y', 'Y', 'transitive'),\n",
       " 4: ('Y', 'Z', 'direct'),\n",
       " 5: ('Y', 'Z', 'latent'),\n",
       " 6: ('Y', 'Z', 'transitive'),\n",
       " 7: ('Y', 'X', 'direct'),\n",
       " 8: ('Y', 'X', 'latent'),\n",
       " 9: ('Y', 'X', 'transitive'),\n",
       " 10: ('Z', 'Y', 'direct'),\n",
       " 11: ('Z', 'Y', 'latent'),\n",
       " 12: ('Z', 'Y', 'transitive'),\n",
       " 13: ('Z', 'Z', 'direct'),\n",
       " 14: ('Z', 'Z', 'latent'),\n",
       " 15: ('Z', 'Z', 'transitive'),\n",
       " 16: ('Z', 'X', 'direct'),\n",
       " 17: ('Z', 'X', 'latent'),\n",
       " 18: ('Z', 'X', 'transitive'),\n",
       " 19: ('X', 'Y', 'direct'),\n",
       " 20: ('X', 'Y', 'latent'),\n",
       " 21: ('X', 'Y', 'transitive'),\n",
       " 22: ('X', 'Z', 'direct'),\n",
       " 23: ('X', 'Z', 'latent'),\n",
       " 24: ('X', 'Z', 'transitive'),\n",
       " 25: ('X', 'X', 'direct'),\n",
       " 26: ('X', 'X', 'latent'),\n",
       " 27: ('X', 'X', 'transitive')}"
      ]
     },
     "execution_count": 155,
     "metadata": {},
     "output_type": "execute_result"
    }
   ],
   "source": [
    "reverse_mapping"
   ]
  },
  {
   "cell_type": "code",
   "execution_count": 156,
   "id": "4a0836fdf843d42c",
   "metadata": {
    "ExecuteTime": {
     "end_time": "2025-02-19T13:22:57.426558Z",
     "start_time": "2025-02-19T13:22:57.414577Z"
    }
   },
   "outputs": [],
   "source": [
    "causal_relationship = []\n",
    "\n",
    "for item in model:\n",
    "    absolute_value = abs(item)\n",
    "    if absolute_value in reverse_mapping:\n",
    "        node1, node2, edge = reverse_mapping[absolute_value]\n",
    "        causal_relationship.append({\n",
    "            \"node1\": node1,\n",
    "            \"node2\": node2,\n",
    "            \"edge\": edge,\n",
    "            \"exists\": True if item > 0 else False\n",
    "        })"
   ]
  },
  {
   "cell_type": "code",
   "execution_count": 157,
   "id": "2ffc8ebfec6f9121",
   "metadata": {
    "ExecuteTime": {
     "end_time": "2025-02-19T13:22:57.574072Z",
     "start_time": "2025-02-19T13:22:57.558948Z"
    }
   },
   "outputs": [
    {
     "data": {
      "text/plain": [
       "[{'node1': 'Y', 'node2': 'Z', 'edge': 'direct', 'exists': True},\n",
       " {'node1': 'Y', 'node2': 'Z', 'edge': 'latent', 'exists': False},\n",
       " {'node1': 'Y', 'node2': 'X', 'edge': 'direct', 'exists': True},\n",
       " {'node1': 'Y', 'node2': 'X', 'edge': 'latent', 'exists': False},\n",
       " {'node1': 'Z', 'node2': 'Y', 'edge': 'direct', 'exists': False},\n",
       " {'node1': 'Z', 'node2': 'Y', 'edge': 'latent', 'exists': False},\n",
       " {'node1': 'Z', 'node2': 'X', 'edge': 'direct', 'exists': True},\n",
       " {'node1': 'Z', 'node2': 'X', 'edge': 'latent', 'exists': False},\n",
       " {'node1': 'X', 'node2': 'Y', 'edge': 'direct', 'exists': False},\n",
       " {'node1': 'X', 'node2': 'Y', 'edge': 'latent', 'exists': False},\n",
       " {'node1': 'X', 'node2': 'Z', 'edge': 'direct', 'exists': False},\n",
       " {'node1': 'X', 'node2': 'Z', 'edge': 'latent', 'exists': False}]"
      ]
     },
     "execution_count": 157,
     "metadata": {},
     "output_type": "execute_result"
    }
   ],
   "source": [
    "causal_relationship"
   ]
  },
  {
   "cell_type": "code",
   "execution_count": 158,
   "id": "98f252d143134b8e",
   "metadata": {
    "ExecuteTime": {
     "end_time": "2025-02-19T13:22:57.664325Z",
     "start_time": "2025-02-19T13:22:57.658454Z"
    }
   },
   "outputs": [],
   "source": [
    "solver.delete()"
   ]
  },
  {
   "cell_type": "code",
   "execution_count": 159,
   "id": "823e7ab6b05effae",
   "metadata": {
    "ExecuteTime": {
     "end_time": "2025-02-19T13:22:57.769085Z",
     "start_time": "2025-02-19T13:22:57.760306Z"
    }
   },
   "outputs": [],
   "source": [
    "direct_causes = [rel for rel in causal_relationship if rel[\"edge\"] == \"direct\" and rel[\"exists\"]]\n",
    "latent_causes = [rel for rel in causal_relationship if rel[\"edge\"] == \"latent\" and rel[\"exists\"]]"
   ]
  },
  {
   "cell_type": "code",
   "execution_count": 160,
   "id": "7022069848f4c93f",
   "metadata": {
    "ExecuteTime": {
     "end_time": "2025-02-19T13:22:57.841246Z",
     "start_time": "2025-02-19T13:22:57.830372Z"
    }
   },
   "outputs": [
    {
     "name": "stdout",
     "output_type": "stream",
     "text": [
      "Y -> Z\n",
      "Y -> X\n",
      "Z -> X\n"
     ]
    }
   ],
   "source": [
    "for rel in direct_causes:\n",
    "    print(f\"{rel['node1']} -> {rel['node2']}\")"
   ]
  },
  {
   "cell_type": "code",
   "execution_count": 161,
   "id": "66447dfa46026ee0",
   "metadata": {
    "ExecuteTime": {
     "end_time": "2025-02-19T13:22:57.916901Z",
     "start_time": "2025-02-19T13:22:57.910450Z"
    }
   },
   "outputs": [],
   "source": [
    "for rel in latent_causes:\n",
    "    print(f\"{rel['node1']} <- {rel['node2']}\")"
   ]
  },
  {
   "cell_type": "code",
   "execution_count": 162,
   "id": "c5fef48a5f4ab05b",
   "metadata": {
    "ExecuteTime": {
     "end_time": "2025-02-19T13:22:58.062512Z",
     "start_time": "2025-02-19T13:22:58.049124Z"
    }
   },
   "outputs": [],
   "source": [
    "# create a set of variables which will be the nodes\n",
    "nodes = set()\n",
    "for rel in causal_relationship:\n",
    "    nodes.add(rel[\"node1\"])\n",
    "    nodes.add(rel[\"node2\"])\n",
    "graph = pydot.Dot(\"my_graph\", graph_type=\"digraph\")\n",
    "for node in nodes:\n",
    "    graph.add_node(pydot.Node(node))\n",
    "\n",
    "for rel in causal_relationship:\n",
    "    if rel[\"edge\"] == \"direct\" and rel[\"exists\"]:\n",
    "        graph.add_edge(pydot.Edge(rel[\"node1\"], rel[\"node2\"], arrowhead=\"\"))\n",
    "    elif rel[\"edge\"] == \"latent\" and rel[\"exists\"]:\n",
    "        graph.add_edge(pydot.Edge(rel[\"node2\"], rel[\"node1\"], arrowhead=\"normal\"))"
   ]
  },
  {
   "cell_type": "code",
   "execution_count": 163,
   "id": "6ab36d62a2223faf",
   "metadata": {
    "ExecuteTime": {
     "end_time": "2025-02-19T13:22:58.220197Z",
     "start_time": "2025-02-19T13:22:58.077820Z"
    }
   },
   "outputs": [],
   "source": [
    "graph.write_png(\"output/output.png\")"
   ]
  },
  {
   "cell_type": "code",
   "execution_count": null,
   "id": "66ab06c1429b55f7",
   "metadata": {
    "ExecuteTime": {
     "end_time": "2025-02-19T13:22:58.267345Z",
     "start_time": "2025-02-19T13:22:58.263024Z"
    }
   },
   "outputs": [],
   "source": []
  }
 ],
 "metadata": {
  "kernelspec": {
   "display_name": "Python 3",
   "language": "python",
   "name": "python3"
  },
  "language_info": {
   "codemirror_mode": {
    "name": "ipython",
    "version": 2
   },
   "file_extension": ".py",
   "mimetype": "text/x-python",
   "name": "python",
   "nbconvert_exporter": "python",
   "pygments_lexer": "ipython2",
   "version": "2.7.6"
  }
 },
 "nbformat": 4,
 "nbformat_minor": 5
}
