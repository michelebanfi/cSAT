{
 "cells": [
  {
   "metadata": {
    "ExecuteTime": {
     "end_time": "2025-02-17T18:33:39.564485Z",
     "start_time": "2025-02-17T18:33:39.553887Z"
    }
   },
   "cell_type": "code",
   "source": [
    "# standard imports\n",
    "import numpy as np\n",
    "import matplotlib.pyplot as plt\n",
    "import pandas as pd\n",
    "\n",
    "# causal-learn imports\n",
    "from causallearn.search.ConstraintBased.FCI import fci\n",
    "from causallearn.graph.Edge import Edge\n",
    "from causallearn.utils.GraphUtils import GraphUtils\n",
    "\n",
    "# pysat imports\n",
    "from pysat.formula import CNF\n",
    "from pysat.solvers import Glucose3\n",
    "\n",
    "from main import direct_causes, latent_causes"
   ],
   "id": "2ea94e93aabedce9",
   "outputs": [],
   "execution_count": 40
  },
  {
   "metadata": {
    "ExecuteTime": {
     "end_time": "2025-02-17T18:33:39.583678Z",
     "start_time": "2025-02-17T18:33:39.574013Z"
    }
   },
   "cell_type": "code",
   "source": [
    "# Generate data where X -> Y <- Z\n",
    "X = np.random.uniform(size=1000)\n",
    "eps = np.random.normal(size=1000)\n",
    "delta = np.random.uniform(size=1000)\n",
    "Z = -7*X + 0.5*delta\n",
    "Y = 2*X + Z + eps\n",
    "\n",
    "# Create DataFrame with named variables\n",
    "data = pd.DataFrame({'X': X, 'Y': Y, 'Z': Z})"
   ],
   "id": "f869d749085b1ab5",
   "outputs": [],
   "execution_count": 41
  },
  {
   "metadata": {
    "ExecuteTime": {
     "end_time": "2025-02-17T18:33:39.684808Z",
     "start_time": "2025-02-17T18:33:39.614195Z"
    }
   },
   "cell_type": "code",
   "source": [
    "# Store original column names\n",
    "variable_names = list(data.columns)\n",
    "\n",
    "# Run FCI\n",
    "g, edges = fci(data.to_numpy(), alpha=0.2)\n",
    "\n",
    "# Get the dot representation to be plotted\n",
    "dot = GraphUtils.to_pydot(g)\n",
    "\n",
    "# Relabel the nodes with original variable names\n",
    "for i, node in enumerate(dot.get_nodes()):\n",
    "    if node.get_name().isdigit() and int(node.get_name()) < len(variable_names):\n",
    "        # Replace the node label with the original variable name\n",
    "        node.set_label(f'\"{variable_names[int(node.get_name())]}\"')\n",
    "\n",
    "\n",
    "dot.write_png('labeled_graph.png')\n",
    "\n",
    "# rename the nodes with the original variable names since FCI do whatever he likes\n",
    "for i, node in enumerate(g.nodes):\n",
    "    node.name = variable_names[i]"
   ],
   "id": "9b87270b497f0bbc",
   "outputs": [
    {
     "name": "stderr",
     "output_type": "stream",
     "text": [
      "Depth=0, working on node 2: 100%|██████████| 3/3 [00:00<?, ?it/s]\n"
     ]
    }
   ],
   "execution_count": 42
  },
  {
   "metadata": {
    "ExecuteTime": {
     "end_time": "2025-02-17T18:33:39.724738Z",
     "start_time": "2025-02-17T18:33:39.714728Z"
    }
   },
   "cell_type": "code",
   "source": [
    "# translate the edges to a more readable format\n",
    "def get_endpoint_type(endpoint: int, isFirst: bool):\n",
    "    if endpoint == -1:\n",
    "        return \"-\"\n",
    "    elif endpoint == 1:\n",
    "        return \"<\" if isFirst else \">\"\n",
    "    elif endpoint == 2:\n",
    "        return \"o\"\n",
    "\n",
    "def get_edge(edge: Edge):\n",
    "    start = edge.numerical_endpoint_1\n",
    "    end = edge.numerical_endpoint_2\n",
    "\n",
    "    return f\"{get_endpoint_type(start, True)}-{get_endpoint_type(end, False)}\"\n",
    "\n",
    "\n",
    "sat_clauses = []\n",
    "formatted_edges = []\n",
    "for edge in edges:\n",
    "    formatted_edges.append((edge.node1.name, edge.node2.name, get_edge(edge)))\n",
    "\n",
    "print(formatted_edges)"
   ],
   "id": "2a6d29cfabc81f4b",
   "outputs": [
    {
     "name": "stdout",
     "output_type": "stream",
     "text": [
      "[('X', 'Z', 'o-o'), ('Y', 'Z', 'o-o')]\n"
     ]
    }
   ],
   "execution_count": 43
  },
  {
   "metadata": {
    "ExecuteTime": {
     "end_time": "2025-02-17T18:33:39.763920Z",
     "start_time": "2025-02-17T18:33:39.754896Z"
    }
   },
   "cell_type": "code",
   "source": [
    "def get_unique_nodes(edges):\n",
    "    nodes = set()\n",
    "    for edge in edges:\n",
    "        nodes.add(edge[0])\n",
    "        nodes.add(edge[1])\n",
    "    return nodes\n",
    "\n",
    "nodes = get_unique_nodes(formatted_edges)"
   ],
   "id": "858e83b8958fb9f3",
   "outputs": [],
   "execution_count": 44
  },
  {
   "metadata": {
    "ExecuteTime": {
     "end_time": "2025-02-17T18:33:39.805507Z",
     "start_time": "2025-02-17T18:33:39.795920Z"
    }
   },
   "cell_type": "code",
   "source": "nodes",
   "id": "e3f80118c4179027",
   "outputs": [
    {
     "data": {
      "text/plain": [
       "{'X', 'Y', 'Z'}"
      ]
     },
     "execution_count": 45,
     "metadata": {},
     "output_type": "execute_result"
    }
   ],
   "execution_count": 45
  },
  {
   "metadata": {
    "ExecuteTime": {
     "end_time": "2025-02-17T18:33:39.842081Z",
     "start_time": "2025-02-17T18:33:39.834183Z"
    }
   },
   "cell_type": "code",
   "source": [
    "# create a variable mapping for the nodes, with all possible edge types\n",
    "var_mapping = {}\n",
    "def create_variable_mapping(nodes):\n",
    "    for n1 in nodes:\n",
    "        for n2 in nodes:\n",
    "            for edge_type in [\"direct\", \"latent\"]:\n",
    "                var_mapping[(n1, n2, edge_type)] = len(var_mapping) + 1\n",
    "    return var_mapping\n",
    "\n",
    "var_mapping = create_variable_mapping(nodes)"
   ],
   "id": "443379f221cc20c4",
   "outputs": [],
   "execution_count": 46
  },
  {
   "metadata": {
    "ExecuteTime": {
     "end_time": "2025-02-17T18:33:39.889097Z",
     "start_time": "2025-02-17T18:33:39.874189Z"
    }
   },
   "cell_type": "code",
   "source": "var_mapping",
   "id": "e36417cf36125c2f",
   "outputs": [
    {
     "data": {
      "text/plain": [
       "{('Z', 'Z', 'direct'): 1,\n",
       " ('Z', 'Z', 'latent'): 2,\n",
       " ('Z', 'X', 'direct'): 3,\n",
       " ('Z', 'X', 'latent'): 4,\n",
       " ('Z', 'Y', 'direct'): 5,\n",
       " ('Z', 'Y', 'latent'): 6,\n",
       " ('X', 'Z', 'direct'): 7,\n",
       " ('X', 'Z', 'latent'): 8,\n",
       " ('X', 'X', 'direct'): 9,\n",
       " ('X', 'X', 'latent'): 10,\n",
       " ('X', 'Y', 'direct'): 11,\n",
       " ('X', 'Y', 'latent'): 12,\n",
       " ('Y', 'Z', 'direct'): 13,\n",
       " ('Y', 'Z', 'latent'): 14,\n",
       " ('Y', 'X', 'direct'): 15,\n",
       " ('Y', 'X', 'latent'): 16,\n",
       " ('Y', 'Y', 'direct'): 17,\n",
       " ('Y', 'Y', 'latent'): 18}"
      ]
     },
     "execution_count": 47,
     "metadata": {},
     "output_type": "execute_result"
    }
   ],
   "execution_count": 47
  },
  {
   "metadata": {
    "ExecuteTime": {
     "end_time": "2025-02-17T18:33:39.934704Z",
     "start_time": "2025-02-17T18:33:39.923654Z"
    }
   },
   "cell_type": "code",
   "source": [
    "# create the CNF clauses for the edge constraints\n",
    "def add_edge_constraints(edges):\n",
    "    cnf = []\n",
    "    for n1, n2, edge_type in edges:\n",
    "            if edge_type == '-->':\n",
    "\n",
    "                # Direct causation must be true\n",
    "                cnf.append([var_mapping[(n1, n2, 'direct')]])\n",
    "\n",
    "                # No latent common cause\n",
    "                cnf.append([-var_mapping[(n1, n2, 'latent')]])\n",
    "\n",
    "            elif edge_type == 'o->':\n",
    "\n",
    "                # n2 cannot be ancestor of n1\n",
    "                cnf.append([-var_mapping[(n2, n1, 'direct')]])\n",
    "\n",
    "            elif edge_type == 'o-o':\n",
    "\n",
    "                # Either direct causation or latent common cause must exist\n",
    "                cnf.append([\n",
    "                    var_mapping[(n1, n2, 'direct')],\n",
    "                    var_mapping[(n1, n2, 'latent')]\n",
    "                ])\n",
    "\n",
    "            elif edge_type == '<->':\n",
    "\n",
    "                # Must have latent common cause\n",
    "                cnf.append([var_mapping[(n1, n2, 'latent')]])\n",
    "\n",
    "                # No direct causation in either direction\n",
    "                cnf.append([-var_mapping[(n2, n1, 'direct')]])\n",
    "                cnf.append([-var_mapping[(n1, n2, 'direct')]])\n",
    "\n",
    "    return cnf\n",
    "\n",
    "cnf = add_edge_constraints(formatted_edges)"
   ],
   "id": "595edd1d24c1e998",
   "outputs": [],
   "execution_count": 48
  },
  {
   "metadata": {
    "ExecuteTime": {
     "end_time": "2025-02-17T18:33:39.977221Z",
     "start_time": "2025-02-17T18:33:39.966680Z"
    }
   },
   "cell_type": "code",
   "source": "cnf",
   "id": "195578a01672e262",
   "outputs": [
    {
     "data": {
      "text/plain": [
       "[[7, 8], [13, 14]]"
      ]
     },
     "execution_count": 49,
     "metadata": {},
     "output_type": "execute_result"
    }
   ],
   "execution_count": 49
  },
  {
   "metadata": {
    "ExecuteTime": {
     "end_time": "2025-02-17T18:42:23.746932Z",
     "start_time": "2025-02-17T18:42:23.738815Z"
    }
   },
   "cell_type": "code",
   "source": [
    "# create the formula as CNF\n",
    "formula = CNF(from_clauses=cnf)"
   ],
   "id": "5bcd5110d13f496a",
   "outputs": [],
   "execution_count": 69
  },
  {
   "metadata": {
    "ExecuteTime": {
     "end_time": "2025-02-17T18:42:24.807441Z",
     "start_time": "2025-02-17T18:42:24.794253Z"
    }
   },
   "cell_type": "code",
   "source": "formula",
   "id": "fca3ebc92c3a4be3",
   "outputs": [
    {
     "data": {
      "text/plain": [
       "CNF(from_string='p cnf 14 2\\n7 8 0\\n13 14 0')"
      ]
     },
     "execution_count": 70,
     "metadata": {},
     "output_type": "execute_result"
    }
   ],
   "execution_count": 70
  },
  {
   "metadata": {
    "ExecuteTime": {
     "end_time": "2025-02-17T18:42:27.830216Z",
     "start_time": "2025-02-17T18:42:27.823922Z"
    }
   },
   "cell_type": "code",
   "source": [
    "solver = Glucose3()\n",
    "solver.append_formula(formula)"
   ],
   "id": "e5509091341869ea",
   "outputs": [],
   "execution_count": 71
  },
  {
   "metadata": {
    "ExecuteTime": {
     "end_time": "2025-02-17T18:42:27.990127Z",
     "start_time": "2025-02-17T18:42:27.983963Z"
    }
   },
   "cell_type": "code",
   "source": "is_sat = solver.solve()",
   "id": "cb0f5a999e48e9b8",
   "outputs": [],
   "execution_count": 72
  },
  {
   "metadata": {
    "ExecuteTime": {
     "end_time": "2025-02-17T18:42:28.136518Z",
     "start_time": "2025-02-17T18:42:28.128076Z"
    }
   },
   "cell_type": "code",
   "source": "is_sat",
   "id": "764d34418b935b3a",
   "outputs": [
    {
     "data": {
      "text/plain": [
       "True"
      ]
     },
     "execution_count": 73,
     "metadata": {},
     "output_type": "execute_result"
    }
   ],
   "execution_count": 73
  },
  {
   "metadata": {
    "ExecuteTime": {
     "end_time": "2025-02-17T18:42:28.275958Z",
     "start_time": "2025-02-17T18:42:28.268672Z"
    }
   },
   "cell_type": "code",
   "source": "model = solver.get_model()",
   "id": "5396014254eb7147",
   "outputs": [],
   "execution_count": 74
  },
  {
   "metadata": {
    "ExecuteTime": {
     "end_time": "2025-02-17T18:42:28.456033Z",
     "start_time": "2025-02-17T18:42:28.443998Z"
    }
   },
   "cell_type": "code",
   "source": "model",
   "id": "3e417fe60abca96b",
   "outputs": [
    {
     "data": {
      "text/plain": [
       "[-1, -2, -3, -4, -5, -6, 7, -8, -9, -10, -11, -12, 13, -14]"
      ]
     },
     "execution_count": 75,
     "metadata": {},
     "output_type": "execute_result"
    }
   ],
   "execution_count": 75
  },
  {
   "metadata": {
    "ExecuteTime": {
     "end_time": "2025-02-17T18:34:14.570489Z",
     "start_time": "2025-02-17T18:34:14.564154Z"
    }
   },
   "cell_type": "code",
   "source": [
    "# Create reverse mapping for interpretation\n",
    "reverse_mapping = {v: k for k, v in var_mapping.items()}"
   ],
   "id": "b9ab741323e592ba",
   "outputs": [],
   "execution_count": 57
  },
  {
   "metadata": {
    "ExecuteTime": {
     "end_time": "2025-02-17T18:34:16.232720Z",
     "start_time": "2025-02-17T18:34:16.216160Z"
    }
   },
   "cell_type": "code",
   "source": "reverse_mapping",
   "id": "b162f611b2c27ad8",
   "outputs": [
    {
     "data": {
      "text/plain": [
       "{1: ('Z', 'Z', 'direct'),\n",
       " 2: ('Z', 'Z', 'latent'),\n",
       " 3: ('Z', 'X', 'direct'),\n",
       " 4: ('Z', 'X', 'latent'),\n",
       " 5: ('Z', 'Y', 'direct'),\n",
       " 6: ('Z', 'Y', 'latent'),\n",
       " 7: ('X', 'Z', 'direct'),\n",
       " 8: ('X', 'Z', 'latent'),\n",
       " 9: ('X', 'X', 'direct'),\n",
       " 10: ('X', 'X', 'latent'),\n",
       " 11: ('X', 'Y', 'direct'),\n",
       " 12: ('X', 'Y', 'latent'),\n",
       " 13: ('Y', 'Z', 'direct'),\n",
       " 14: ('Y', 'Z', 'latent'),\n",
       " 15: ('Y', 'X', 'direct'),\n",
       " 16: ('Y', 'X', 'latent'),\n",
       " 17: ('Y', 'Y', 'direct'),\n",
       " 18: ('Y', 'Y', 'latent')}"
      ]
     },
     "execution_count": 58,
     "metadata": {},
     "output_type": "execute_result"
    }
   ],
   "execution_count": 58
  },
  {
   "metadata": {
    "ExecuteTime": {
     "end_time": "2025-02-17T18:38:26.431679Z",
     "start_time": "2025-02-17T18:38:26.424878Z"
    }
   },
   "cell_type": "code",
   "source": [
    "causal_relationship = []\n",
    "\n",
    "for item in model:\n",
    "    absolute_value = abs(item)\n",
    "    if absolute_value in reverse_mapping:\n",
    "        node1, node2, edge = reverse_mapping[absolute_value]\n",
    "        causal_relationship.append({\n",
    "            \"node1\": node1,\n",
    "            \"node2\": node2,\n",
    "            \"edge\": edge,\n",
    "            \"exists\": True if item > 0 else False\n",
    "        })"
   ],
   "id": "4a0836fdf843d42c",
   "outputs": [],
   "execution_count": 59
  },
  {
   "metadata": {
    "ExecuteTime": {
     "end_time": "2025-02-17T18:38:28.578593Z",
     "start_time": "2025-02-17T18:38:28.564689Z"
    }
   },
   "cell_type": "code",
   "source": "causal_relationship",
   "id": "2ffc8ebfec6f9121",
   "outputs": [
    {
     "data": {
      "text/plain": [
       "[{'node1': 'Z', 'node2': 'Z', 'edge': 'direct', 'exists': False},\n",
       " {'node1': 'Z', 'node2': 'Z', 'edge': 'latent', 'exists': False},\n",
       " {'node1': 'Z', 'node2': 'X', 'edge': 'direct', 'exists': False},\n",
       " {'node1': 'Z', 'node2': 'X', 'edge': 'latent', 'exists': False},\n",
       " {'node1': 'Z', 'node2': 'Y', 'edge': 'direct', 'exists': False},\n",
       " {'node1': 'Z', 'node2': 'Y', 'edge': 'latent', 'exists': False},\n",
       " {'node1': 'X', 'node2': 'Z', 'edge': 'direct', 'exists': True},\n",
       " {'node1': 'X', 'node2': 'Z', 'edge': 'latent', 'exists': False},\n",
       " {'node1': 'X', 'node2': 'X', 'edge': 'direct', 'exists': False},\n",
       " {'node1': 'X', 'node2': 'X', 'edge': 'latent', 'exists': False},\n",
       " {'node1': 'X', 'node2': 'Y', 'edge': 'direct', 'exists': False},\n",
       " {'node1': 'X', 'node2': 'Y', 'edge': 'latent', 'exists': False},\n",
       " {'node1': 'Y', 'node2': 'Z', 'edge': 'direct', 'exists': True},\n",
       " {'node1': 'Y', 'node2': 'Z', 'edge': 'latent', 'exists': False}]"
      ]
     },
     "execution_count": 60,
     "metadata": {},
     "output_type": "execute_result"
    }
   ],
   "execution_count": 60
  },
  {
   "metadata": {
    "ExecuteTime": {
     "end_time": "2025-02-17T18:38:45.660552Z",
     "start_time": "2025-02-17T18:38:45.653785Z"
    }
   },
   "cell_type": "code",
   "source": "solver.delete()",
   "id": "98f252d143134b8e",
   "outputs": [],
   "execution_count": 61
  },
  {
   "metadata": {
    "ExecuteTime": {
     "end_time": "2025-02-17T18:39:56.350580Z",
     "start_time": "2025-02-17T18:39:56.343678Z"
    }
   },
   "cell_type": "code",
   "source": [
    "direct_causes = [rel for rel in causal_relationship if rel[\"edge\"] == \"direct\" and rel[\"exists\"]]\n",
    "latent_causes = [rel for rel in causal_relationship if rel[\"edge\"] == \"latent\" and rel[\"exists\"]]"
   ],
   "id": "823e7ab6b05effae",
   "outputs": [],
   "execution_count": 62
  },
  {
   "metadata": {
    "ExecuteTime": {
     "end_time": "2025-02-17T18:40:30.965146Z",
     "start_time": "2025-02-17T18:40:30.957645Z"
    }
   },
   "cell_type": "code",
   "source": [
    "for rel in direct_causes:\n",
    "    print(f\"{rel['node1']} -> {rel['node2']}\")"
   ],
   "id": "7022069848f4c93f",
   "outputs": [
    {
     "name": "stdout",
     "output_type": "stream",
     "text": [
      "X -> Z\n",
      "Y -> Z\n"
     ]
    }
   ],
   "execution_count": 65
  },
  {
   "metadata": {
    "ExecuteTime": {
     "end_time": "2025-02-17T18:40:43.864711Z",
     "start_time": "2025-02-17T18:40:43.854110Z"
    }
   },
   "cell_type": "code",
   "source": [
    "for rel in latent_causes:\n",
    "    print(f\"{rel['node1']} <- {rel['node2']}\")"
   ],
   "id": "66447dfa46026ee0",
   "outputs": [],
   "execution_count": 67
  },
  {
   "metadata": {},
   "cell_type": "code",
   "outputs": [],
   "execution_count": null,
   "source": "",
   "id": "1fd939e6a31df9e9"
  }
 ],
 "metadata": {
  "kernelspec": {
   "display_name": "Python 3",
   "language": "python",
   "name": "python3"
  },
  "language_info": {
   "codemirror_mode": {
    "name": "ipython",
    "version": 2
   },
   "file_extension": ".py",
   "mimetype": "text/x-python",
   "name": "python",
   "nbconvert_exporter": "python",
   "pygments_lexer": "ipython2",
   "version": "2.7.6"
  }
 },
 "nbformat": 4,
 "nbformat_minor": 5
}
