{
 "cells": [
  {
   "metadata": {
    "ExecuteTime": {
     "end_time": "2025-02-19T14:23:35.629756Z",
     "start_time": "2025-02-19T14:23:32.551967Z"
    }
   },
   "cell_type": "code",
   "source": [
    "import pandas as pd\n",
    "import numpy as np\n",
    "\n",
    "from causallearn.search.ConstraintBased.PC import pc"
   ],
   "id": "64b80d7d47352bd2",
   "outputs": [
    {
     "name": "stderr",
     "output_type": "stream",
     "text": [
      "/opt/anaconda3/envs/tesi/lib/python3.12/site-packages/tqdm/auto.py:21: TqdmWarning: IProgress not found. Please update jupyter and ipywidgets. See https://ipywidgets.readthedocs.io/en/stable/user_install.html\n",
      "  from .autonotebook import tqdm as notebook_tqdm\n"
     ]
    }
   ],
   "execution_count": 3
  },
  {
   "cell_type": "code",
   "id": "initial_id",
   "metadata": {
    "collapsed": true,
    "ExecuteTime": {
     "end_time": "2025-02-19T14:27:16.070020Z",
     "start_time": "2025-02-19T14:27:16.063439Z"
    }
   },
   "source": [
    "# Generate data where X -> Y <- Z\n",
    "X = np.random.uniform(size=10000)\n",
    "eps = np.random.normal(size=10000)\n",
    "delta = np.random.uniform(size=10000)\n",
    "Y = -7*X + 0.5*delta\n",
    "Z = 2*X + Y + eps\n",
    "\n",
    "# Create DataFrame with named variables\n",
    "data = pd.DataFrame({'X': X, 'Y': Y, 'Z': Z})"
   ],
   "outputs": [],
   "execution_count": 7
  },
  {
   "metadata": {
    "ExecuteTime": {
     "end_time": "2025-02-19T14:27:16.351547Z",
     "start_time": "2025-02-19T14:27:16.323420Z"
    }
   },
   "cell_type": "code",
   "source": [
    "# Store original column names\n",
    "variable_names = list(data.columns)\n",
    "\n",
    "g = pc(data.to_numpy())"
   ],
   "id": "1be68e4c9c083459",
   "outputs": [
    {
     "name": "stderr",
     "output_type": "stream",
     "text": [
      "Depth=1, working on node 2: 100%|██████████| 3/3 [00:00<00:00, 302.85it/s] \n"
     ]
    }
   ],
   "execution_count": 8
  },
  {
   "metadata": {
    "ExecuteTime": {
     "end_time": "2025-02-19T14:27:16.646494Z",
     "start_time": "2025-02-19T14:27:16.642561Z"
    }
   },
   "cell_type": "code",
   "source": [
    "for i, node in enumerate(g.G.nodes):\n",
    "    node.name = variable_names[i]"
   ],
   "id": "ac4d5d201e2c4402",
   "outputs": [],
   "execution_count": 9
  },
  {
   "metadata": {},
   "cell_type": "code",
   "outputs": [],
   "execution_count": null,
   "source": "",
   "id": "678a594520616128"
  }
 ],
 "metadata": {
  "kernelspec": {
   "display_name": "Python 3",
   "language": "python",
   "name": "python3"
  },
  "language_info": {
   "codemirror_mode": {
    "name": "ipython",
    "version": 2
   },
   "file_extension": ".py",
   "mimetype": "text/x-python",
   "name": "python",
   "nbconvert_exporter": "python",
   "pygments_lexer": "ipython2",
   "version": "2.7.6"
  }
 },
 "nbformat": 4,
 "nbformat_minor": 5
}
