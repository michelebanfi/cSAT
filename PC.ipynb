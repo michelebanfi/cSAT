{
 "cells": [
  {
   "cell_type": "code",
   "execution_count": null,
   "id": "64b80d7d47352bd2",
   "metadata": {
    "ExecuteTime": {
     "end_time": "2025-02-21T08:32:10.403849Z",
     "start_time": "2025-02-21T08:32:06.994181Z"
    }
   },
   "outputs": [],
   "source": [
    "# basic imports\n",
    "import pandas as pd\n",
    "import numpy as np\n",
    "import pydot\n",
    "import math\n",
    "import re\n",
    "import matplotlib.pyplot as plt\n",
    "from colorsys import hls_to_rgb\n",
    "\n",
    "# causallearn imports\n",
    "from causallearn.search.ConstraintBased.PC import pc\n",
    "\n",
    "# pysat imports\n",
    "from pysat.formula import CNF\n",
    "from pysat.solvers import Glucose3\n",
    "\n",
    "# sympy imports\n",
    "from sympy.logic.boolalg import is_cnf, to_cnf\n",
    "\n",
    "# qiskit imports\n",
    "from qiskit import QuantumCircuit\n",
    "from qiskit.visualization import plot_histogram\n",
    "from qiskit.quantum_info import Statevector\n",
    "from qiskit.primitives import StatevectorSampler as Sampler\n",
    "from qiskit.visualization import circuit_drawer\n",
    "\n",
    "from qiskit import transpile\n",
    "from qiskit.transpiler.passes import RemoveBarriers"
   ]
  },
  {
   "cell_type": "markdown",
   "id": "dd796371",
   "metadata": {},
   "source": [
    "Generate some synthetic data"
   ]
  },
  {
   "cell_type": "code",
   "execution_count": 77,
   "id": "initial_id",
   "metadata": {
    "ExecuteTime": {
     "end_time": "2025-02-21T08:44:04.411560Z",
     "start_time": "2025-02-21T08:44:04.403193Z"
    },
    "collapsed": true
   },
   "outputs": [],
   "source": [
    "# Generate data where X -> Y <- Z\n",
    "X = np.random.uniform(size=10000)\n",
    "eps = np.random.normal(size=10000)\n",
    "delta = np.random.uniform(size=10000)\n",
    "Y = -7*X + 0.5*delta\n",
    "Z = 2*X + Y + eps\n",
    "\n",
    "# Create DataFrame with named variables\n",
    "data = pd.DataFrame({'X': X, 'Y': Y, 'Z': Z})"
   ]
  },
  {
   "cell_type": "markdown",
   "id": "84d78e01",
   "metadata": {},
   "source": [
    "Run PC"
   ]
  },
  {
   "cell_type": "code",
   "execution_count": 78,
   "id": "1be68e4c9c083459",
   "metadata": {
    "ExecuteTime": {
     "end_time": "2025-02-21T08:44:04.614452Z",
     "start_time": "2025-02-21T08:44:04.582204Z"
    }
   },
   "outputs": [
    {
     "name": "stderr",
     "output_type": "stream",
     "text": [
      "Depth=1, working on node 2: 100%|██████████| 3/3 [00:00<00:00, 391.99it/s]\n"
     ]
    }
   ],
   "source": [
    "# Store original column names\n",
    "variable_names = list(data.columns)\n",
    "\n",
    "g = pc(data.to_numpy())"
   ]
  },
  {
   "cell_type": "code",
   "execution_count": 79,
   "id": "ac4d5d201e2c4402",
   "metadata": {
    "ExecuteTime": {
     "end_time": "2025-02-21T08:44:05.899252Z",
     "start_time": "2025-02-21T08:44:05.894292Z"
    }
   },
   "outputs": [],
   "source": [
    "for i, node in enumerate(g.G.nodes):\n",
    "    node.name = variable_names[i]"
   ]
  },
  {
   "cell_type": "code",
   "execution_count": 80,
   "id": "678a594520616128",
   "metadata": {
    "ExecuteTime": {
     "end_time": "2025-02-21T08:44:06.790063Z",
     "start_time": "2025-02-21T08:44:06.784468Z"
    }
   },
   "outputs": [
    {
     "data": {
      "text/plain": [
       "array([[ 0, -1, -1],\n",
       "       [-1,  0, -1],\n",
       "       [-1, -1,  0]])"
      ]
     },
     "execution_count": 80,
     "metadata": {},
     "output_type": "execute_result"
    }
   ],
   "source": [
    "g.G.graph"
   ]
  },
  {
   "cell_type": "code",
   "execution_count": 81,
   "id": "d7f8437d",
   "metadata": {},
   "outputs": [
    {
     "data": {
      "text/plain": [
       "{'X': 0, 'Y': 1, 'Z': 2}"
      ]
     },
     "execution_count": 81,
     "metadata": {},
     "output_type": "execute_result"
    }
   ],
   "source": [
    "node_mapping = {node.name: index for index, node in enumerate(g.G.nodes)}\n",
    "node_mapping\n"
   ]
  },
  {
   "cell_type": "code",
   "execution_count": 82,
   "id": "18ca4476",
   "metadata": {},
   "outputs": [
    {
     "data": {
      "text/plain": [
       "{0: 'X', 1: 'Y', 2: 'Z'}"
      ]
     },
     "execution_count": 82,
     "metadata": {},
     "output_type": "execute_result"
    }
   ],
   "source": [
    "reversed_node_mapping = {index: node.name for index, node in enumerate(g.G.nodes)}\n",
    "reversed_node_mapping"
   ]
  },
  {
   "cell_type": "markdown",
   "id": "44642161",
   "metadata": {},
   "source": [
    "Extract edges, since some of them are not order dependent"
   ]
  },
  {
   "cell_type": "code",
   "execution_count": 83,
   "id": "df41a6d60d7f47ec",
   "metadata": {
    "ExecuteTime": {
     "end_time": "2025-02-21T08:46:25.408362Z",
     "start_time": "2025-02-21T08:46:25.219411Z"
    }
   },
   "outputs": [],
   "source": [
    "edges = []\n",
    "indices = np.where(g.G.graph != 0)\n",
    "processed_pairs = set()\n",
    "\n",
    "for i, j in zip(indices[0], indices[1]):\n",
    "    \n",
    "    node_pair = frozenset([i.item(), j.item()])\n",
    "    \n",
    "    if node_pair in processed_pairs:\n",
    "        continue\n",
    "        \n",
    "    if g.G.graph[i,j] == 1 and g.G.graph[j,i] == -1:\n",
    "        edges.append({\n",
    "            'from': reversed_node_mapping[i.item()],\n",
    "            'to': reversed_node_mapping[j.item()],\n",
    "            'type': \"->\"\n",
    "        })\n",
    "    \n",
    "    elif g.G.graph[i,j] == -1 and g.G.graph[j,i] == -1:\n",
    "        edges.append({\n",
    "            'from': reversed_node_mapping[i.item()],\n",
    "            'to': reversed_node_mapping[j.item()],\n",
    "            'type': \"--\"\n",
    "        })\n",
    "        processed_pairs.add(node_pair) \n",
    "    \n",
    "    elif g.G.graph[i,j] == 1 and g.G.graph[j,i] == 1:\n",
    "        edges.append({\n",
    "            'from': reversed_node_mapping[i.item()],\n",
    "            'to': reversed_node_mapping[j.item()],\n",
    "            'type': \"<->\"\n",
    "        })\n",
    "        processed_pairs.add(node_pair)"
   ]
  },
  {
   "cell_type": "code",
   "execution_count": 84,
   "id": "6a1c39ab2907380c",
   "metadata": {},
   "outputs": [
    {
     "data": {
      "text/plain": [
       "[{'from': 'X', 'to': 'Y', 'type': '--'},\n",
       " {'from': 'X', 'to': 'Z', 'type': '--'},\n",
       " {'from': 'Y', 'to': 'Z', 'type': '--'}]"
      ]
     },
     "execution_count": 84,
     "metadata": {},
     "output_type": "execute_result"
    }
   ],
   "source": [
    "edges"
   ]
  },
  {
   "cell_type": "code",
   "execution_count": 85,
   "id": "e2fc8fc3",
   "metadata": {},
   "outputs": [],
   "source": [
    "causal_dict = {}\n",
    "for node1 in node_mapping:\n",
    "    for node2 in node_mapping:\n",
    "        for edge in ['direct']:\n",
    "            causal_dict[(node1, node2, edge)] = len(causal_dict) + 1"
   ]
  },
  {
   "cell_type": "code",
   "execution_count": 86,
   "id": "f91c2ad5",
   "metadata": {},
   "outputs": [
    {
     "data": {
      "text/plain": [
       "{('X', 'X', 'direct'): 1,\n",
       " ('X', 'Y', 'direct'): 2,\n",
       " ('X', 'Z', 'direct'): 3,\n",
       " ('Y', 'X', 'direct'): 4,\n",
       " ('Y', 'Y', 'direct'): 5,\n",
       " ('Y', 'Z', 'direct'): 6,\n",
       " ('Z', 'X', 'direct'): 7,\n",
       " ('Z', 'Y', 'direct'): 8,\n",
       " ('Z', 'Z', 'direct'): 9}"
      ]
     },
     "execution_count": 86,
     "metadata": {},
     "output_type": "execute_result"
    }
   ],
   "source": [
    "causal_dict"
   ]
  },
  {
   "cell_type": "markdown",
   "id": "213c07ab",
   "metadata": {},
   "source": [
    "Now we need to create logical Clauses from the edges. Logical clauses should be in CNF formula, which is a set of clauses is in or, but the clauses togeter are in and."
   ]
  },
  {
   "cell_type": "code",
   "execution_count": 87,
   "id": "e4aecc50",
   "metadata": {},
   "outputs": [],
   "source": [
    "SATClauses = []\n",
    "index = 0\n",
    "\n",
    "for item in edges:\n",
    "    \n",
    "    if item['type'] == '->':\n",
    "        # there MUST be a direct edge from node1 to node2 and NO direct edge from node2 to node1\n",
    "        SATClauses.append([causal_dict[(item['from'], item['to'], 'direct')]])\n",
    "        SATClauses.append([-causal_dict[(item['to'], item['from'], 'direct')]])\n",
    "    elif item['type'] == '--':\n",
    "        # there MUST be a direct edge from node1 to node2 OR a direct edge from node2 to node1\n",
    "        SATClauses.append([causal_dict[(item['from'], item['to'], 'direct')], causal_dict[(item['to'], item['from'], 'direct')]])\n",
    "    elif item['type'] == '<->':\n",
    "        # there MUSTN'T be a direct edge from node1 to node2 AND a direct edge from node2 to node1\n",
    "        SATClauses.append([-causal_dict[(item['from'], item['to'], 'direct')]])\n",
    "        SATClauses.append([-causal_dict[(item['to'], item['from'], 'direct')]])"
   ]
  },
  {
   "cell_type": "code",
   "execution_count": 88,
   "id": "b2203b02",
   "metadata": {},
   "outputs": [
    {
     "data": {
      "text/plain": [
       "[[2, 4], [3, 7], [6, 8]]"
      ]
     },
     "execution_count": 88,
     "metadata": {},
     "output_type": "execute_result"
    }
   ],
   "source": [
    "SATClauses"
   ]
  },
  {
   "cell_type": "code",
   "execution_count": 89,
   "id": "2a2e12c0",
   "metadata": {},
   "outputs": [],
   "source": [
    "# iterate through the clauses and count the number of variables\n",
    "variable_set = set()\n",
    "for clause in SATClauses:\n",
    "    for var in clause:\n",
    "        variable_set.add(abs(var))"
   ]
  },
  {
   "cell_type": "code",
   "execution_count": 90,
   "id": "2b3050b3",
   "metadata": {},
   "outputs": [
    {
     "data": {
      "text/plain": [
       "[1, 2, 3, 4, 5, 6]"
      ]
     },
     "execution_count": 90,
     "metadata": {},
     "output_type": "execute_result"
    }
   ],
   "source": [
    "new_var = list(range(1, len(variable_set) + 1))\n",
    "new_var"
   ]
  },
  {
   "cell_type": "code",
   "execution_count": 91,
   "id": "ba385658",
   "metadata": {},
   "outputs": [
    {
     "data": {
      "text/plain": [
       "{2: 1, 3: 2, 4: 3, 6: 4, 7: 5, 8: 6}"
      ]
     },
     "execution_count": 91,
     "metadata": {},
     "output_type": "execute_result"
    }
   ],
   "source": [
    "# create a mapping from old variable to new variable\n",
    "cnf_variable_mapping = {}\n",
    "for i, var in enumerate(variable_set):\n",
    "    cnf_variable_mapping[var] = new_var[i]\n",
    "    \n",
    "cnf_variable_mapping"
   ]
  },
  {
   "cell_type": "code",
   "execution_count": 92,
   "id": "75e46e31",
   "metadata": {},
   "outputs": [
    {
     "data": {
      "text/plain": [
       "[[1, 3], [2, 5], [4, 6]]"
      ]
     },
     "execution_count": 92,
     "metadata": {},
     "output_type": "execute_result"
    }
   ],
   "source": [
    "new_cnf = []\n",
    "for clause in SATClauses:\n",
    "    new_clause = []\n",
    "    for var in clause:\n",
    "        new_var = cnf_variable_mapping[abs(var)]\n",
    "        new_clause.append(new_var if var > 0 else -new_var)\n",
    "    new_cnf.append(new_clause)\n",
    "\n",
    "new_cnf"
   ]
  },
  {
   "cell_type": "code",
   "execution_count": 93,
   "id": "c78f0fc8",
   "metadata": {},
   "outputs": [
    {
     "data": {
      "text/plain": [
       "CNF(from_string='p cnf 6 3\\n1 3 0\\n2 5 0\\n4 6 0')"
      ]
     },
     "execution_count": 93,
     "metadata": {},
     "output_type": "execute_result"
    }
   ],
   "source": [
    "formula = CNF(from_clauses=new_cnf)\n",
    "formula"
   ]
  },
  {
   "cell_type": "code",
   "execution_count": 94,
   "id": "e93fd94f",
   "metadata": {},
   "outputs": [],
   "source": [
    "solver = Glucose3()\n",
    "solver.append_formula(formula)"
   ]
  },
  {
   "cell_type": "code",
   "execution_count": 95,
   "id": "c0ed16e6",
   "metadata": {},
   "outputs": [
    {
     "data": {
      "text/plain": [
       "True"
      ]
     },
     "execution_count": 95,
     "metadata": {},
     "output_type": "execute_result"
    }
   ],
   "source": [
    "isSat = solver.solve()\n",
    "isSat"
   ]
  },
  {
   "cell_type": "code",
   "execution_count": 96,
   "id": "520111eb",
   "metadata": {},
   "outputs": [
    {
     "data": {
      "text/plain": [
       "[1, 2, -3, 4, -5, -6]"
      ]
     },
     "execution_count": 96,
     "metadata": {},
     "output_type": "execute_result"
    }
   ],
   "source": [
    "model = solver.get_model()\n",
    "model"
   ]
  },
  {
   "cell_type": "code",
   "execution_count": 97,
   "id": "619ce47b",
   "metadata": {},
   "outputs": [
    {
     "data": {
      "text/plain": [
       "{1: 2, 2: 3, 3: 4, 4: 6, 5: 7, 6: 8}"
      ]
     },
     "execution_count": 97,
     "metadata": {},
     "output_type": "execute_result"
    }
   ],
   "source": [
    "# map back with cnf_variable_mapping\n",
    "# reverse mapping\n",
    "reverse_cnf_variable_mapping = {v: k for k, v in cnf_variable_mapping.items()}\n",
    "reverse_cnf_variable_mapping"
   ]
  },
  {
   "cell_type": "code",
   "execution_count": 98,
   "id": "b3c07f48",
   "metadata": {},
   "outputs": [
    {
     "data": {
      "text/plain": [
       "[2, 3, -4, 6, -7, -8]"
      ]
     },
     "execution_count": 98,
     "metadata": {},
     "output_type": "execute_result"
    }
   ],
   "source": [
    "temp = []\n",
    "for item in model:\n",
    "    temp.append(reverse_cnf_variable_mapping[abs(item)] if item > 0 else -reverse_cnf_variable_mapping[abs(item)])\n",
    "model = temp\n",
    "model"
   ]
  },
  {
   "cell_type": "code",
   "execution_count": 99,
   "id": "a4eb7eb1",
   "metadata": {},
   "outputs": [],
   "source": [
    "# Create reverse mapping for interpretation\n",
    "reversed_causal_dict = {v: k for k, v in causal_dict.items()}"
   ]
  },
  {
   "cell_type": "code",
   "execution_count": 100,
   "id": "a36ea63c",
   "metadata": {},
   "outputs": [
    {
     "data": {
      "text/plain": [
       "[{'node1': 'X', 'node2': 'Y', 'edge': 'direct', 'exists': True},\n",
       " {'node1': 'X', 'node2': 'Z', 'edge': 'direct', 'exists': True},\n",
       " {'node1': 'Y', 'node2': 'X', 'edge': 'direct', 'exists': False},\n",
       " {'node1': 'Y', 'node2': 'Z', 'edge': 'direct', 'exists': True},\n",
       " {'node1': 'Z', 'node2': 'X', 'edge': 'direct', 'exists': False},\n",
       " {'node1': 'Z', 'node2': 'Y', 'edge': 'direct', 'exists': False}]"
      ]
     },
     "execution_count": 100,
     "metadata": {},
     "output_type": "execute_result"
    }
   ],
   "source": [
    "causal_relationship = []\n",
    "\n",
    "for item in model:\n",
    "    absolute_value = abs(item)\n",
    "    if absolute_value in reversed_causal_dict:\n",
    "        node1, node2, edge = reversed_causal_dict[absolute_value]\n",
    "        causal_relationship.append({\n",
    "            \"node1\": node1,\n",
    "            \"node2\": node2,\n",
    "            \"edge\": edge,\n",
    "            \"exists\": True if item > 0 else False\n",
    "        })\n",
    "causal_relationship"
   ]
  },
  {
   "cell_type": "code",
   "execution_count": 101,
   "id": "06bec42e",
   "metadata": {},
   "outputs": [],
   "source": [
    "solver.delete()"
   ]
  },
  {
   "cell_type": "code",
   "execution_count": 102,
   "id": "2d9034e3",
   "metadata": {},
   "outputs": [],
   "source": [
    "direct_causes = [rel for rel in causal_relationship if rel[\"edge\"] == \"direct\" and rel[\"exists\"]]"
   ]
  },
  {
   "cell_type": "code",
   "execution_count": 103,
   "id": "6f491f86",
   "metadata": {},
   "outputs": [
    {
     "name": "stdout",
     "output_type": "stream",
     "text": [
      "X -> Y\n",
      "X -> Z\n",
      "Y -> Z\n"
     ]
    }
   ],
   "source": [
    "for rel in direct_causes:\n",
    "    print(f\"{rel['node1']} -> {rel['node2']}\")"
   ]
  },
  {
   "cell_type": "code",
   "execution_count": 104,
   "id": "e13d8880",
   "metadata": {},
   "outputs": [],
   "source": [
    "# create a set of variables which will be the nodes\n",
    "nodes = set()\n",
    "for rel in causal_relationship:\n",
    "    nodes.add(rel[\"node1\"])\n",
    "    nodes.add(rel[\"node2\"])\n",
    "graph = pydot.Dot(\"my_graph\", graph_type=\"digraph\")\n",
    "for node in nodes:\n",
    "    graph.add_node(pydot.Node(node))\n",
    "\n",
    "for rel in causal_relationship:\n",
    "    if rel[\"edge\"] == \"direct\" and rel[\"exists\"]:\n",
    "        graph.add_edge(pydot.Edge(rel[\"node1\"], rel[\"node2\"], arrowhead=\"\"))\n",
    "    elif rel[\"edge\"] == \"latent\" and rel[\"exists\"]:\n",
    "        graph.add_edge(pydot.Edge(rel[\"node2\"], rel[\"node1\"], arrowhead=\"normal\"))"
   ]
  },
  {
   "cell_type": "code",
   "execution_count": 105,
   "id": "d48cdbbd",
   "metadata": {},
   "outputs": [],
   "source": [
    "graph.write_png(\"output/output.png\")"
   ]
  },
  {
   "cell_type": "code",
   "execution_count": 106,
   "id": "1127361a",
   "metadata": {},
   "outputs": [
    {
     "data": {
      "text/plain": [
       "[[1, 3], [2, 5], [4, 6]]"
      ]
     },
     "execution_count": 106,
     "metadata": {},
     "output_type": "execute_result"
    }
   ],
   "source": [
    "new_cnf"
   ]
  },
  {
   "cell_type": "code",
   "execution_count": 107,
   "id": "a0a1644d",
   "metadata": {},
   "outputs": [
    {
     "data": {
      "text/plain": [
       "[1, 2, 3, 4, 5, 6]"
      ]
     },
     "execution_count": 107,
     "metadata": {},
     "output_type": "execute_result"
    }
   ],
   "source": [
    "new_mapping = list(range(1, len(variable_set) + 1))\n",
    "new_mapping"
   ]
  },
  {
   "cell_type": "code",
   "execution_count": null,
   "id": "dbc32853",
   "metadata": {},
   "outputs": [
    {
     "data": {
      "text/plain": [
       "{1: 'A', 2: 'B', 3: 'C', 4: 'D', 5: 'F', 6: 'G'}"
      ]
     },
     "execution_count": 108,
     "metadata": {},
     "output_type": "execute_result"
    }
   ],
   "source": [
    "alphabet = \"ABCDFGHIJKLMNOPQRSTUVWXYZ\" # LOL, E is not a valid symbol for SYMPY... imagine how much did it took do discover this......\n",
    "alphabet_dict = {}\n",
    "for var in new_mapping:\n",
    "    alphabet_dict.update({var: alphabet[var - 1]})\n",
    "\n",
    "alphabet_dict"
   ]
  },
  {
   "cell_type": "code",
   "execution_count": 109,
   "id": "0082ed09",
   "metadata": {},
   "outputs": [
    {
     "name": "stdout",
     "output_type": "stream",
     "text": [
      "(A \\lor C) \\land (B \\lor F) \\land (D \\lor G)\n"
     ]
    },
    {
     "name": "stderr",
     "output_type": "stream",
     "text": [
      "<>:10: SyntaxWarning: invalid escape sequence '\\l'\n",
      "<>:13: SyntaxWarning: invalid escape sequence '\\l'\n",
      "<>:10: SyntaxWarning: invalid escape sequence '\\l'\n",
      "<>:13: SyntaxWarning: invalid escape sequence '\\l'\n",
      "/var/folders/5d/lh100_9d5d7bwtxzmg0zcdmh0000gn/T/ipykernel_82183/4095721582.py:10: SyntaxWarning: invalid escape sequence '\\l'\n",
      "  latex_formula += (\" \\lor \")\n",
      "/var/folders/5d/lh100_9d5d7bwtxzmg0zcdmh0000gn/T/ipykernel_82183/4095721582.py:13: SyntaxWarning: invalid escape sequence '\\l'\n",
      "  latex_formula += (\" \\land \")\n"
     ]
    }
   ],
   "source": [
    "# transform the formula into the LaTex formulation, since the previous code did that\n",
    "# each number will correspond to a letter in the alphabet, A = 1, B = 2,...\n",
    "\n",
    "latex_formula = \"\"\n",
    "for clause in new_cnf:\n",
    "    latex_formula += (\"(\")\n",
    "    for var in clause:\n",
    "        latex_formula += alphabet_dict[abs(var)] if var > 0 else \"\\neg\" + alphabet_dict[abs(var)]\n",
    "        if var != clause[-1]:\n",
    "            latex_formula += (\" \\lor \")\n",
    "    latex_formula += (\")\")\n",
    "    if clause != new_cnf[-1]:\n",
    "        latex_formula += (\" \\land \")\n",
    "\n",
    "print(latex_formula)"
   ]
  },
  {
   "cell_type": "code",
   "execution_count": 110,
   "id": "7cb22f56",
   "metadata": {},
   "outputs": [
    {
     "data": {
      "text/plain": [
       "'(A \\\\lor C) \\\\land (B \\\\lor F) \\\\land (D \\\\lor G)'"
      ]
     },
     "execution_count": 110,
     "metadata": {},
     "output_type": "execute_result"
    }
   ],
   "source": [
    "formula = latex_formula\n",
    "# print(formula)\n",
    "# formula = \"(A \\lor B) \\land (\\neg A \\lor C) \\land (\\neg B \\lor \\neg C) \\land (A \\lor C)\"\n",
    "formula"
   ]
  },
  {
   "cell_type": "code",
   "execution_count": 111,
   "id": "dd29cf28",
   "metadata": {},
   "outputs": [],
   "source": [
    "# function to plot phases of the states\n",
    "def plot_statevector_circles(statevector, figsize=(8, 8)):\n",
    "    num_qubits = int(np.log2(len(statevector)))\n",
    "    num_states = len(statevector)\n",
    "\n",
    "    # Calculate grid dimensions\n",
    "    grid_size = int(np.ceil(np.sqrt(num_states)))\n",
    "\n",
    "    fig, ax = plt.subplots(figsize=figsize)\n",
    "    ax.set_aspect('equal')\n",
    "\n",
    "    # Calculate radius for circles (adjust based on grid size)\n",
    "    radius = 0.4 / grid_size\n",
    "\n",
    "    # Iterate through basis states and position circles on the grid\n",
    "    for i, amp in enumerate(statevector):\n",
    "        row = grid_size - (i // grid_size) - 1\n",
    "        col = i % grid_size\n",
    "\n",
    "        x = col * 2 * radius + radius  # Center x-coordinate of the circle\n",
    "        y = row * 2 * radius + radius  # Center y-coordinate of the circle\n",
    "\n",
    "        phase = np.angle(amp)\n",
    "        hue = (phase + np.pi) / (2 * np.pi)  # Map phase to hue (0 to 1)\n",
    "        color = hls_to_rgb(hue, 0.5, 1)\n",
    "\n",
    "        circle = plt.Circle((x, y), np.abs(amp) * radius, color=color, alpha=0.5)\n",
    "        ax.add_artist(circle)\n",
    "\n",
    "        ax.text(x, y, f\"{bin(i)[2:].zfill(num_qubits)}\", ha='center', va='center', fontsize=6)\n",
    "\n",
    "        # Set plot limits (adjust as needed)\n",
    "    ax.set_xlim([0, grid_size * 2 * radius])\n",
    "    ax.set_ylim([0, grid_size * 2 * radius])\n",
    "    ax.set_title(\"Statevector Circle Notation\")\n",
    "    ax.set_xticks([])  # Remove x-axis ticks\n",
    "    ax.set_yticks([])  # Remove y-axis ticks\n",
    "    plt.show()"
   ]
  },
  {
   "cell_type": "code",
   "execution_count": 112,
   "id": "ef8f2f69",
   "metadata": {},
   "outputs": [],
   "source": [
    "# we need a way to parse the boolean expressions as LaTex strings\n",
    "def tokenize(formula: str):\n",
    "    # Replace LaTeX sequences with simple tokens and trim white spaces\n",
    "    formula = repr(formula.replace(r'\\land', '&').replace(r'\\lor', '|')).replace(r'\\neg', '~').replace(r\" \", \"\")\n",
    "    # Now, you can split by parentheses and operators. For a naive approach:\n",
    "    tokens = re.findall(r'[A-Za-z]+|~[A-Za-z]+|[\\(\\)&|]', formula)\n",
    "    return tokens\n",
    "\n",
    "# Function to count unique uppercase letters\n",
    "def count_unique_uppercase(tokens):\n",
    "    # Extract all variable names (e.g., A, B, C) and store only their uppercase part\n",
    "    variables = set(token for token in tokens if token.isalpha() and token.isupper())\n",
    "    return len(variables), variables"
   ]
  },
  {
   "cell_type": "code",
   "execution_count": 114,
   "id": "999434aa",
   "metadata": {},
   "outputs": [],
   "source": [
    "tokens = tokenize(formula)\n",
    "token_string = \" \".join(tokens)\n",
    "\n",
    "# Count uppercase variables\n",
    "unique_count, unique_variables = count_unique_uppercase(tokens)\n",
    "\n",
    "\n",
    "sorted_variables = sorted(unique_variables)  # Ensures the order is consistent\n",
    "\n",
    "\n",
    "var_dict = {var: idx for idx, var in enumerate(sorted_variables)}\n",
    "\n",
    "\n",
    "was_cnf = is_cnf(token_string)\n",
    "\n",
    "# if it is not a CNF convert it to a CNF with Sympy\n",
    "if (not was_cnf):\n",
    "    print(\"Not a CNF\")\n",
    "    token_string = to_cnf(token_string)\n",
    "\n",
    "or_clauses = token_string.split(\"&\")\n",
    "\n",
    "# we count how many qubits we need. We sum the number of unique_count with the number of clauses\n",
    "n = unique_count + len(or_clauses)"
   ]
  },
  {
   "cell_type": "markdown",
   "id": "609b1523",
   "metadata": {},
   "source": [
    "Some methods for Grover"
   ]
  },
  {
   "cell_type": "code",
   "execution_count": 115,
   "id": "d7c98951",
   "metadata": {},
   "outputs": [],
   "source": [
    "def get_repr(qc, is_inv, clause, i):\n",
    "    clause = clause.replace(\"(\", \"\").replace(\")\", \"\").replace(\" \", \"\")\n",
    "    sub_clause = clause.split(\"|\")\n",
    "    first = False\n",
    "    second = False\n",
    "    if len(sub_clause[0]) == 2: first = True # means that the formula is notted\n",
    "    if len(sub_clause[1]) == 2: second = True # same as above\n",
    "\n",
    "    # look up positions\n",
    "    clause = clause.replace(\"~\", \"\")\n",
    "    sub_clause = clause.split(\"|\")\n",
    "    pos1 = var_dict[sub_clause[0]]\n",
    "    pos2 = var_dict[sub_clause[1]]\n",
    "    # put notted synbols\n",
    "    if first: qc.x(pos1)\n",
    "    if second: qc.x(pos2)\n",
    "\n",
    "    qc.x(pos1)\n",
    "    qc.x(pos2)\n",
    "\n",
    "    if is_inv:\n",
    "        qc.x(i)\n",
    "\n",
    "    qc.mcx([pos1, pos2], i)\n",
    "\n",
    "    if not is_inv:\n",
    "        qc.x(i)\n",
    "\n",
    "    qc.x(pos1)\n",
    "    qc.x(pos2)\n",
    "\n",
    "    if first: qc.x(pos1)\n",
    "    if second: qc.x(pos2)\n",
    "    qc.barrier()\n",
    "\n",
    "def oracle(qc):\n",
    "    for i, clause in enumerate(or_clauses):\n",
    "        get_repr(qc, False, clause, unique_count + i)\n",
    "\n",
    "    qc.mcp(np.pi, list(range(unique_count,n-1)), n-1)\n",
    "    qc.barrier()\n",
    "\n",
    "    reversed_or_clauses = or_clauses[::-1]\n",
    "\n",
    "    for clause in reversed_or_clauses:\n",
    "        get_repr(qc, True, clause, unique_count + i)\n",
    "        i -= 1\n",
    "\n",
    "def diffuser(qc, n):\n",
    "    qc.h(range(n))\n",
    "    qc.x(range(n))\n",
    "    qc.mcp(np.pi, list(range(n-1)), n - 1)\n",
    "    qc.x(range(n))\n",
    "    qc.h(range(n))\n",
    "    qc.barrier()\n",
    "\n",
    "def create_circuit(qc):\n",
    "    oracle(qc)\n",
    "    diffuser(qc, unique_count)\n"
   ]
  },
  {
   "cell_type": "code",
   "execution_count": 116,
   "id": "732e7c64",
   "metadata": {},
   "outputs": [
    {
     "ename": "NameError",
     "evalue": "name 'hls_to_rgb' is not defined",
     "output_type": "error",
     "traceback": [
      "\u001b[0;31m---------------------------------------------------------------------------\u001b[0m",
      "\u001b[0;31mNameError\u001b[0m                                 Traceback (most recent call last)",
      "Cell \u001b[0;32mIn[116], line 15\u001b[0m\n\u001b[1;32m     13\u001b[0m statevector \u001b[38;5;241m=\u001b[39m Statevector(qc)\n\u001b[1;32m     14\u001b[0m \u001b[38;5;66;03m# plot statevector\u001b[39;00m\n\u001b[0;32m---> 15\u001b[0m \u001b[43mplot_statevector_circles\u001b[49m\u001b[43m(\u001b[49m\u001b[43mstatevector\u001b[49m\u001b[43m)\u001b[49m\n\u001b[1;32m     17\u001b[0m qc\u001b[38;5;241m.\u001b[39mmeasure_all()\n\u001b[1;32m     18\u001b[0m result \u001b[38;5;241m=\u001b[39m Sampler()\u001b[38;5;241m.\u001b[39mrun([qc], shots\u001b[38;5;241m=\u001b[39m\u001b[38;5;241m100\u001b[39m)\u001b[38;5;241m.\u001b[39mresult()[\u001b[38;5;241m0\u001b[39m]\n",
      "Cell \u001b[0;32mIn[111], line 25\u001b[0m, in \u001b[0;36mplot_statevector_circles\u001b[0;34m(statevector, figsize)\u001b[0m\n\u001b[1;32m     23\u001b[0m phase \u001b[38;5;241m=\u001b[39m np\u001b[38;5;241m.\u001b[39mangle(amp)\n\u001b[1;32m     24\u001b[0m hue \u001b[38;5;241m=\u001b[39m (phase \u001b[38;5;241m+\u001b[39m np\u001b[38;5;241m.\u001b[39mpi) \u001b[38;5;241m/\u001b[39m (\u001b[38;5;241m2\u001b[39m \u001b[38;5;241m*\u001b[39m np\u001b[38;5;241m.\u001b[39mpi)  \u001b[38;5;66;03m# Map phase to hue (0 to 1)\u001b[39;00m\n\u001b[0;32m---> 25\u001b[0m color \u001b[38;5;241m=\u001b[39m \u001b[43mhls_to_rgb\u001b[49m(hue, \u001b[38;5;241m0.5\u001b[39m, \u001b[38;5;241m1\u001b[39m)\n\u001b[1;32m     27\u001b[0m circle \u001b[38;5;241m=\u001b[39m plt\u001b[38;5;241m.\u001b[39mCircle((x, y), np\u001b[38;5;241m.\u001b[39mabs(amp) \u001b[38;5;241m*\u001b[39m radius, color\u001b[38;5;241m=\u001b[39mcolor, alpha\u001b[38;5;241m=\u001b[39m\u001b[38;5;241m0.5\u001b[39m)\n\u001b[1;32m     28\u001b[0m ax\u001b[38;5;241m.\u001b[39madd_artist(circle)\n",
      "\u001b[0;31mNameError\u001b[0m: name 'hls_to_rgb' is not defined"
     ]
    },
    {
     "data": {
      "image/png": "[encoded data removed]",
      "text/plain": [
       "<Figure size 800x800 with 1 Axes>"
      ]
     },
     "metadata": {},
     "output_type": "display_data"
    }
   ],
   "source": [
    "qc = QuantumCircuit(n)\n",
    "create_circuit(qc)\n",
    "\n",
    "# now we want to repeat the oracle and the diffuser sqrt(2^n) times\n",
    "reps = math.ceil( math.sqrt( 2**unique_count ))\n",
    "\n",
    "qc = QuantumCircuit(n)\n",
    "qc.h(list(range(unique_count)))\n",
    "for i in range(reps):\n",
    "    create_circuit(qc)\n",
    "\n",
    "# create statevector\n",
    "statevector = Statevector(qc)\n",
    "# plot statevector\n",
    "plot_statevector_circles(statevector)\n",
    "\n",
    "qc.measure_all()\n",
    "result = Sampler().run([qc], shots=100).result()[0]\n",
    "co = result.data.meas.get_counts()\n",
    "\n",
    "circuit_drawer(qc, output=\"mpl\")\n",
    "\n",
    "plot_histogram(co)\n",
    "plt.show()\n",
    "\n",
    "qc = RemoveBarriers()(qc)\n",
    "\n",
    "print(qc.count_ops())\n",
    "\n",
    "optimized_qc = transpile(qc, optimization_level=3)\n",
    "\n",
    "print(optimized_qc.count_ops())\n",
    "\n",
    "circuit_drawer(optimized_qc, output=\"mpl\")\n",
    "plt.show()"
   ]
  },
  {
   "cell_type": "code",
   "execution_count": null,
   "id": "8f5ee511",
   "metadata": {},
   "outputs": [],
   "source": []
  }
 ],
 "metadata": {
  "kernelspec": {
   "display_name": "tesi",
   "language": "python",
   "name": "python3"
  },
  "language_info": {
   "codemirror_mode": {
    "name": "ipython",
    "version": 3
   },
   "file_extension": ".py",
   "mimetype": "text/x-python",
   "name": "python",
   "nbconvert_exporter": "python",
   "pygments_lexer": "ipython3",
   "version": "3.12.9"
  }
 },
 "nbformat": 4,
 "nbformat_minor": 5
}
