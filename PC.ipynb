{
 "cells": [
  {
   "cell_type": "code",
   "execution_count": 9,
   "id": "64b80d7d47352bd2",
   "metadata": {
    "ExecuteTime": {
     "end_time": "2025-02-21T08:32:10.403849Z",
     "start_time": "2025-02-21T08:32:06.994181Z"
    }
   },
   "outputs": [],
   "source": [
    "import pandas as pd\n",
    "import numpy as np\n",
    "\n",
    "from causallearn.search.ConstraintBased.PC import pc"
   ]
  },
  {
   "cell_type": "code",
   "execution_count": 10,
   "id": "initial_id",
   "metadata": {
    "ExecuteTime": {
     "end_time": "2025-02-21T08:44:04.411560Z",
     "start_time": "2025-02-21T08:44:04.403193Z"
    },
    "collapsed": true
   },
   "outputs": [],
   "source": [
    "# Generate data where X -> Y <- Z\n",
    "X = np.random.uniform(size=10000)\n",
    "eps = np.random.normal(size=10000)\n",
    "delta = np.random.uniform(size=10000)\n",
    "Y = -7*X + 0.5*delta\n",
    "Z = 2*X + Y + eps\n",
    "\n",
    "# Create DataFrame with named variables\n",
    "data = pd.DataFrame({'X': X, 'Y': Y, 'Z': Z})"
   ]
  },
  {
   "cell_type": "code",
   "execution_count": 11,
   "id": "1be68e4c9c083459",
   "metadata": {
    "ExecuteTime": {
     "end_time": "2025-02-21T08:44:04.614452Z",
     "start_time": "2025-02-21T08:44:04.582204Z"
    }
   },
   "outputs": [
    {
     "name": "stderr",
     "output_type": "stream",
     "text": [
      "Depth=1, working on node 2: 100%|██████████| 3/3 [00:00<00:00, 292.91it/s]\n"
     ]
    }
   ],
   "source": [
    "# Store original column names\n",
    "variable_names = list(data.columns)\n",
    "\n",
    "g = pc(data.to_numpy())"
   ]
  },
  {
   "cell_type": "code",
   "execution_count": 12,
   "id": "ac4d5d201e2c4402",
   "metadata": {
    "ExecuteTime": {
     "end_time": "2025-02-21T08:44:05.899252Z",
     "start_time": "2025-02-21T08:44:05.894292Z"
    }
   },
   "outputs": [],
   "source": [
    "for i, node in enumerate(g.G.nodes):\n",
    "    node.name = variable_names[i]"
   ]
  },
  {
   "cell_type": "code",
   "execution_count": 13,
   "id": "678a594520616128",
   "metadata": {
    "ExecuteTime": {
     "end_time": "2025-02-21T08:44:06.790063Z",
     "start_time": "2025-02-21T08:44:06.784468Z"
    }
   },
   "outputs": [
    {
     "data": {
      "text/plain": [
       "array([[ 0, -1, -1],\n",
       "       [-1,  0, -1],\n",
       "       [-1, -1,  0]])"
      ]
     },
     "execution_count": 13,
     "metadata": {},
     "output_type": "execute_result"
    }
   ],
   "source": [
    "g.G.graph"
   ]
  },
  {
   "cell_type": "code",
   "execution_count": null,
   "id": "df41a6d60d7f47ec",
   "metadata": {
    "ExecuteTime": {
     "end_time": "2025-02-21T08:46:25.408362Z",
     "start_time": "2025-02-21T08:46:25.219411Z"
    }
   },
   "outputs": [],
   "source": [
    "edges = []\n",
    "indices = np.where(g.G.graph != 0)\n",
    "processed_pairs = set()\n",
    "\n",
    "for i, j in zip(indices[0], indices[1]):\n",
    "    \n",
    "    node_pair = frozenset([i.item(), j.item()])\n",
    "    \n",
    "    if node_pair in processed_pairs:\n",
    "        continue\n",
    "        \n",
    "    if g.G.graph[i,j] == 1 and g.G.graph[j,i] == -1:\n",
    "        edges.append({\n",
    "            'from': i.item(),\n",
    "            'to': j.item(),\n",
    "            'type': \"->\"\n",
    "        })\n",
    "    \n",
    "    elif g.G.graph[i,j] == -1 and g.G.graph[j,i] == -1:\n",
    "        edges.append({\n",
    "            'from': i.item(),\n",
    "            'to': j.item(),\n",
    "            'type': \"--\"\n",
    "        })\n",
    "        processed_pairs.add(node_pair) \n",
    "    \n",
    "    elif g.G.graph[i,j] == 1 and g.G.graph[j,i] == 1:\n",
    "        edges.append({\n",
    "            'from': i.item(),\n",
    "            'to': j.item(),\n",
    "            'type': \"<->\"\n",
    "        })\n",
    "        processed_pairs.add(node_pair)"
   ]
  },
  {
   "cell_type": "code",
   "execution_count": 15,
   "id": "6a1c39ab2907380c",
   "metadata": {},
   "outputs": [
    {
     "data": {
      "text/plain": [
       "[{'from': 0, 'to': 1, 'type': '--'},\n",
       " {'from': 0, 'to': 2, 'type': '--'},\n",
       " {'from': 1, 'to': 2, 'type': '--'}]"
      ]
     },
     "execution_count": 15,
     "metadata": {},
     "output_type": "execute_result"
    }
   ],
   "source": [
    "edges"
   ]
  },
  {
   "cell_type": "code",
   "execution_count": null,
   "id": "e4aecc50",
   "metadata": {},
   "outputs": [],
   "source": []
  }
 ],
 "metadata": {
  "kernelspec": {
   "display_name": "tesi",
   "language": "python",
   "name": "python3"
  },
  "language_info": {
   "codemirror_mode": {
    "name": "ipython",
    "version": 3
   },
   "file_extension": ".py",
   "mimetype": "text/x-python",
   "name": "python",
   "nbconvert_exporter": "python",
   "pygments_lexer": "ipython3",
   "version": "3.12.9"
  }
 },
 "nbformat": 4,
 "nbformat_minor": 5
}
