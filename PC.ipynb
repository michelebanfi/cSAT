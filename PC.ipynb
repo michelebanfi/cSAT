{
 "cells": [
  {
   "cell_type": "code",
   "execution_count": 97,
   "id": "64b80d7d47352bd2",
   "metadata": {
    "ExecuteTime": {
     "end_time": "2025-02-21T08:32:10.403849Z",
     "start_time": "2025-02-21T08:32:06.994181Z"
    }
   },
   "outputs": [],
   "source": [
    "# basic imports\n",
    "import pandas as pd\n",
    "import numpy as np\n",
    "import pydot\n",
    "\n",
    "# causallearn imports\n",
    "from causallearn.search.ConstraintBased.PC import pc\n",
    "\n",
    "# pysat imports\n",
    "from pysat.formula import CNF\n",
    "from pysat.solvers import Glucose3"
   ]
  },
  {
   "cell_type": "markdown",
   "id": "dd796371",
   "metadata": {},
   "source": [
    "Generate some synthetic data"
   ]
  },
  {
   "cell_type": "code",
   "execution_count": 57,
   "id": "initial_id",
   "metadata": {
    "ExecuteTime": {
     "end_time": "2025-02-21T08:44:04.411560Z",
     "start_time": "2025-02-21T08:44:04.403193Z"
    },
    "collapsed": true
   },
   "outputs": [],
   "source": [
    "# Generate data where X -> Y <- Z\n",
    "X = np.random.uniform(size=10000)\n",
    "eps = np.random.normal(size=10000)\n",
    "delta = np.random.uniform(size=10000)\n",
    "Y = -7*X + 0.5*delta\n",
    "Z = 2*X + Y + eps\n",
    "\n",
    "# Create DataFrame with named variables\n",
    "data = pd.DataFrame({'X': X, 'Y': Y, 'Z': Z})"
   ]
  },
  {
   "cell_type": "markdown",
   "id": "84d78e01",
   "metadata": {},
   "source": [
    "Run PC"
   ]
  },
  {
   "cell_type": "code",
   "execution_count": 58,
   "id": "1be68e4c9c083459",
   "metadata": {
    "ExecuteTime": {
     "end_time": "2025-02-21T08:44:04.614452Z",
     "start_time": "2025-02-21T08:44:04.582204Z"
    }
   },
   "outputs": [
    {
     "name": "stderr",
     "output_type": "stream",
     "text": [
      "Depth=1, working on node 2: 100%|██████████| 3/3 [00:00<00:00, 530.34it/s] \n"
     ]
    }
   ],
   "source": [
    "# Store original column names\n",
    "variable_names = list(data.columns)\n",
    "\n",
    "g = pc(data.to_numpy())"
   ]
  },
  {
   "cell_type": "code",
   "execution_count": 59,
   "id": "ac4d5d201e2c4402",
   "metadata": {
    "ExecuteTime": {
     "end_time": "2025-02-21T08:44:05.899252Z",
     "start_time": "2025-02-21T08:44:05.894292Z"
    }
   },
   "outputs": [],
   "source": [
    "for i, node in enumerate(g.G.nodes):\n",
    "    node.name = variable_names[i]"
   ]
  },
  {
   "cell_type": "code",
   "execution_count": 60,
   "id": "678a594520616128",
   "metadata": {
    "ExecuteTime": {
     "end_time": "2025-02-21T08:44:06.790063Z",
     "start_time": "2025-02-21T08:44:06.784468Z"
    }
   },
   "outputs": [
    {
     "data": {
      "text/plain": [
       "array([[ 0, -1, -1],\n",
       "       [-1,  0, -1],\n",
       "       [-1, -1,  0]])"
      ]
     },
     "execution_count": 60,
     "metadata": {},
     "output_type": "execute_result"
    }
   ],
   "source": [
    "g.G.graph"
   ]
  },
  {
   "cell_type": "code",
   "execution_count": 61,
   "id": "d7f8437d",
   "metadata": {},
   "outputs": [
    {
     "data": {
      "text/plain": [
       "{'X': 0, 'Y': 1, 'Z': 2}"
      ]
     },
     "execution_count": 61,
     "metadata": {},
     "output_type": "execute_result"
    }
   ],
   "source": [
    "node_mapping = {node.name: index for index, node in enumerate(g.G.nodes)}\n",
    "node_mapping\n"
   ]
  },
  {
   "cell_type": "code",
   "execution_count": 62,
   "id": "18ca4476",
   "metadata": {},
   "outputs": [
    {
     "data": {
      "text/plain": [
       "{0: 'X', 1: 'Y', 2: 'Z'}"
      ]
     },
     "execution_count": 62,
     "metadata": {},
     "output_type": "execute_result"
    }
   ],
   "source": [
    "reversed_node_mapping = {index: node.name for index, node in enumerate(g.G.nodes)}\n",
    "reversed_node_mapping"
   ]
  },
  {
   "cell_type": "markdown",
   "id": "44642161",
   "metadata": {},
   "source": [
    "Extract edges, since some of them are not order dependent"
   ]
  },
  {
   "cell_type": "code",
   "execution_count": 63,
   "id": "df41a6d60d7f47ec",
   "metadata": {
    "ExecuteTime": {
     "end_time": "2025-02-21T08:46:25.408362Z",
     "start_time": "2025-02-21T08:46:25.219411Z"
    }
   },
   "outputs": [],
   "source": [
    "edges = []\n",
    "indices = np.where(g.G.graph != 0)\n",
    "processed_pairs = set()\n",
    "\n",
    "for i, j in zip(indices[0], indices[1]):\n",
    "    \n",
    "    node_pair = frozenset([i.item(), j.item()])\n",
    "    \n",
    "    if node_pair in processed_pairs:\n",
    "        continue\n",
    "        \n",
    "    if g.G.graph[i,j] == 1 and g.G.graph[j,i] == -1:\n",
    "        edges.append({\n",
    "            'from': reversed_node_mapping[i.item()],\n",
    "            'to': reversed_node_mapping[j.item()],\n",
    "            'type': \"->\"\n",
    "        })\n",
    "    \n",
    "    elif g.G.graph[i,j] == -1 and g.G.graph[j,i] == -1:\n",
    "        edges.append({\n",
    "            'from': reversed_node_mapping[i.item()],\n",
    "            'to': reversed_node_mapping[j.item()],\n",
    "            'type': \"--\"\n",
    "        })\n",
    "        processed_pairs.add(node_pair) \n",
    "    \n",
    "    elif g.G.graph[i,j] == 1 and g.G.graph[j,i] == 1:\n",
    "        edges.append({\n",
    "            'from': reversed_node_mapping[i.item()],\n",
    "            'to': reversed_node_mapping[j.item()],\n",
    "            'type': \"<->\"\n",
    "        })\n",
    "        processed_pairs.add(node_pair)"
   ]
  },
  {
   "cell_type": "code",
   "execution_count": 64,
   "id": "6a1c39ab2907380c",
   "metadata": {},
   "outputs": [
    {
     "data": {
      "text/plain": [
       "[{'from': 'X', 'to': 'Y', 'type': '--'},\n",
       " {'from': 'X', 'to': 'Z', 'type': '--'},\n",
       " {'from': 'Y', 'to': 'Z', 'type': '--'}]"
      ]
     },
     "execution_count": 64,
     "metadata": {},
     "output_type": "execute_result"
    }
   ],
   "source": [
    "edges"
   ]
  },
  {
   "cell_type": "code",
   "execution_count": 65,
   "id": "e2fc8fc3",
   "metadata": {},
   "outputs": [],
   "source": [
    "causal_dict = {}\n",
    "for node1 in node_mapping:\n",
    "    for node2 in node_mapping:\n",
    "        for edge in ['direct']:\n",
    "            causal_dict[(node1, node2, edge)] = len(causal_dict) + 1"
   ]
  },
  {
   "cell_type": "code",
   "execution_count": 66,
   "id": "f91c2ad5",
   "metadata": {},
   "outputs": [
    {
     "data": {
      "text/plain": [
       "{('X', 'X', 'direct'): 1,\n",
       " ('X', 'Y', 'direct'): 2,\n",
       " ('X', 'Z', 'direct'): 3,\n",
       " ('Y', 'X', 'direct'): 4,\n",
       " ('Y', 'Y', 'direct'): 5,\n",
       " ('Y', 'Z', 'direct'): 6,\n",
       " ('Z', 'X', 'direct'): 7,\n",
       " ('Z', 'Y', 'direct'): 8,\n",
       " ('Z', 'Z', 'direct'): 9}"
      ]
     },
     "execution_count": 66,
     "metadata": {},
     "output_type": "execute_result"
    }
   ],
   "source": [
    "causal_dict"
   ]
  },
  {
   "cell_type": "markdown",
   "id": "213c07ab",
   "metadata": {},
   "source": [
    "Now we need to create logical Clauses from the edges. Logical clauses should be in CNF formula, which is a set of clauses is in or, but the clauses togeter are in and."
   ]
  },
  {
   "cell_type": "code",
   "execution_count": 67,
   "id": "e4aecc50",
   "metadata": {},
   "outputs": [],
   "source": [
    "SATClauses = []\n",
    "index = 0\n",
    "\n",
    "for item in edges:\n",
    "    \n",
    "    if item['type'] == '->':\n",
    "        # there MUST be a direct edge from node1 to node2 and NO direct edge from node2 to node1\n",
    "        SATClauses.append([causal_dict[(item['from'], item['to'], 'direct')]])\n",
    "        SATClauses.append([-causal_dict[(item['to'], item['from'], 'direct')]])\n",
    "    elif item['type'] == '--':\n",
    "        # there MUST be a direct edge from node1 to node2 OR a direct edge from node2 to node1\n",
    "        SATClauses.append([causal_dict[(item['from'], item['to'], 'direct')], causal_dict[(item['to'], item['from'], 'direct')]])\n",
    "    elif item['type'] == '<->':\n",
    "        # there MUSTN'T be a direct edge from node1 to node2 AND a direct edge from node2 to node1\n",
    "        SATClauses.append([-causal_dict[(item['from'], item['to'], 'direct')]])\n",
    "        SATClauses.append([-causal_dict[(item['to'], item['from'], 'direct')]])"
   ]
  },
  {
   "cell_type": "code",
   "execution_count": 68,
   "id": "b2203b02",
   "metadata": {},
   "outputs": [
    {
     "data": {
      "text/plain": [
       "[[2, 4], [3, 7], [6, 8]]"
      ]
     },
     "execution_count": 68,
     "metadata": {},
     "output_type": "execute_result"
    }
   ],
   "source": [
    "SATClauses"
   ]
  },
  {
   "cell_type": "code",
   "execution_count": 74,
   "id": "2a2e12c0",
   "metadata": {},
   "outputs": [],
   "source": [
    "# iterate through the clauses and count the number of variables\n",
    "variable_set = set()\n",
    "for clause in SATClauses:\n",
    "    for var in clause:\n",
    "        variable_set.add(abs(var))"
   ]
  },
  {
   "cell_type": "code",
   "execution_count": 75,
   "id": "2b3050b3",
   "metadata": {},
   "outputs": [
    {
     "data": {
      "text/plain": [
       "[1, 2, 3, 4, 5, 6]"
      ]
     },
     "execution_count": 75,
     "metadata": {},
     "output_type": "execute_result"
    }
   ],
   "source": [
    "new_var = list(range(1, len(variable_set) + 1))\n",
    "new_var"
   ]
  },
  {
   "cell_type": "code",
   "execution_count": 76,
   "id": "ba385658",
   "metadata": {},
   "outputs": [
    {
     "data": {
      "text/plain": [
       "{2: 1, 3: 2, 4: 3, 6: 4, 7: 5, 8: 6}"
      ]
     },
     "execution_count": 76,
     "metadata": {},
     "output_type": "execute_result"
    }
   ],
   "source": [
    "# create a mapping from old variable to new variable\n",
    "cnf_variable_mapping = {}\n",
    "for i, var in enumerate(variable_set):\n",
    "    cnf_variable_mapping[var] = new_var[i]\n",
    "    \n",
    "cnf_variable_mapping"
   ]
  },
  {
   "cell_type": "code",
   "execution_count": 79,
   "id": "75e46e31",
   "metadata": {},
   "outputs": [
    {
     "data": {
      "text/plain": [
       "[[1, 3], [2, 5], [4, 6]]"
      ]
     },
     "execution_count": 79,
     "metadata": {},
     "output_type": "execute_result"
    }
   ],
   "source": [
    "new_cnf = []\n",
    "for clause in SATClauses:\n",
    "    new_clause = []\n",
    "    for var in clause:\n",
    "        new_var = cnf_variable_mapping[abs(var)]\n",
    "        new_clause.append(new_var if var > 0 else -new_var)\n",
    "    new_cnf.append(new_clause)\n",
    "\n",
    "new_cnf"
   ]
  },
  {
   "cell_type": "code",
   "execution_count": 80,
   "id": "c78f0fc8",
   "metadata": {},
   "outputs": [
    {
     "data": {
      "text/plain": [
       "CNF(from_string='p cnf 6 3\\n1 3 0\\n2 5 0\\n4 6 0')"
      ]
     },
     "execution_count": 80,
     "metadata": {},
     "output_type": "execute_result"
    }
   ],
   "source": [
    "formula = CNF(from_clauses=new_cnf)\n",
    "formula"
   ]
  },
  {
   "cell_type": "code",
   "execution_count": 81,
   "id": "e93fd94f",
   "metadata": {},
   "outputs": [],
   "source": [
    "solver = Glucose3()\n",
    "solver.append_formula(formula)"
   ]
  },
  {
   "cell_type": "code",
   "execution_count": 82,
   "id": "c0ed16e6",
   "metadata": {},
   "outputs": [
    {
     "data": {
      "text/plain": [
       "True"
      ]
     },
     "execution_count": 82,
     "metadata": {},
     "output_type": "execute_result"
    }
   ],
   "source": [
    "isSat = solver.solve()\n",
    "isSat"
   ]
  },
  {
   "cell_type": "code",
   "execution_count": 83,
   "id": "520111eb",
   "metadata": {},
   "outputs": [
    {
     "data": {
      "text/plain": [
       "[1, 2, -3, 4, -5, -6]"
      ]
     },
     "execution_count": 83,
     "metadata": {},
     "output_type": "execute_result"
    }
   ],
   "source": [
    "model = solver.get_model()\n",
    "model"
   ]
  },
  {
   "cell_type": "code",
   "execution_count": 84,
   "id": "619ce47b",
   "metadata": {},
   "outputs": [
    {
     "data": {
      "text/plain": [
       "{1: 2, 2: 3, 3: 4, 4: 6, 5: 7, 6: 8}"
      ]
     },
     "execution_count": 84,
     "metadata": {},
     "output_type": "execute_result"
    }
   ],
   "source": [
    "# map back with cnf_variable_mapping\n",
    "# reverse mapping\n",
    "reverse_cnf_variable_mapping = {v: k for k, v in cnf_variable_mapping.items()}\n",
    "reverse_cnf_variable_mapping"
   ]
  },
  {
   "cell_type": "code",
   "execution_count": 85,
   "id": "b3c07f48",
   "metadata": {},
   "outputs": [
    {
     "data": {
      "text/plain": [
       "[2, 3, -4, 6, -7, -8]"
      ]
     },
     "execution_count": 85,
     "metadata": {},
     "output_type": "execute_result"
    }
   ],
   "source": [
    "temp = []\n",
    "for item in model:\n",
    "    temp.append(reverse_cnf_variable_mapping[abs(item)] if item > 0 else -reverse_cnf_variable_mapping[abs(item)])\n",
    "model = temp\n",
    "model"
   ]
  },
  {
   "cell_type": "code",
   "execution_count": 87,
   "id": "a4eb7eb1",
   "metadata": {},
   "outputs": [],
   "source": [
    "# Create reverse mapping for interpretation\n",
    "reversed_causal_dict = {v: k for k, v in causal_dict.items()}"
   ]
  },
  {
   "cell_type": "code",
   "execution_count": 91,
   "id": "a36ea63c",
   "metadata": {},
   "outputs": [
    {
     "data": {
      "text/plain": [
       "[{'node1': 'X', 'node2': 'Y', 'edge': 'direct', 'exists': True},\n",
       " {'node1': 'X', 'node2': 'Z', 'edge': 'direct', 'exists': True},\n",
       " {'node1': 'Y', 'node2': 'X', 'edge': 'direct', 'exists': False},\n",
       " {'node1': 'Y', 'node2': 'Z', 'edge': 'direct', 'exists': True},\n",
       " {'node1': 'Z', 'node2': 'X', 'edge': 'direct', 'exists': False},\n",
       " {'node1': 'Z', 'node2': 'Y', 'edge': 'direct', 'exists': False}]"
      ]
     },
     "execution_count": 91,
     "metadata": {},
     "output_type": "execute_result"
    }
   ],
   "source": [
    "causal_relationship = []\n",
    "\n",
    "for item in model:\n",
    "    absolute_value = abs(item)\n",
    "    if absolute_value in reversed_causal_dict:\n",
    "        node1, node2, edge = reversed_causal_dict[absolute_value]\n",
    "        causal_relationship.append({\n",
    "            \"node1\": node1,\n",
    "            \"node2\": node2,\n",
    "            \"edge\": edge,\n",
    "            \"exists\": True if item > 0 else False\n",
    "        })\n",
    "causal_relationship"
   ]
  },
  {
   "cell_type": "code",
   "execution_count": 92,
   "id": "06bec42e",
   "metadata": {},
   "outputs": [],
   "source": [
    "solver.delete()"
   ]
  },
  {
   "cell_type": "code",
   "execution_count": 94,
   "id": "2d9034e3",
   "metadata": {},
   "outputs": [],
   "source": [
    "direct_causes = [rel for rel in causal_relationship if rel[\"edge\"] == \"direct\" and rel[\"exists\"]]"
   ]
  },
  {
   "cell_type": "code",
   "execution_count": 95,
   "id": "6f491f86",
   "metadata": {},
   "outputs": [
    {
     "name": "stdout",
     "output_type": "stream",
     "text": [
      "X -> Y\n",
      "X -> Z\n",
      "Y -> Z\n"
     ]
    }
   ],
   "source": [
    "for rel in direct_causes:\n",
    "    print(f\"{rel['node1']} -> {rel['node2']}\")"
   ]
  },
  {
   "cell_type": "code",
   "execution_count": 98,
   "id": "e13d8880",
   "metadata": {},
   "outputs": [],
   "source": [
    "# create a set of variables which will be the nodes\n",
    "nodes = set()\n",
    "for rel in causal_relationship:\n",
    "    nodes.add(rel[\"node1\"])\n",
    "    nodes.add(rel[\"node2\"])\n",
    "graph = pydot.Dot(\"my_graph\", graph_type=\"digraph\")\n",
    "for node in nodes:\n",
    "    graph.add_node(pydot.Node(node))\n",
    "\n",
    "for rel in causal_relationship:\n",
    "    if rel[\"edge\"] == \"direct\" and rel[\"exists\"]:\n",
    "        graph.add_edge(pydot.Edge(rel[\"node1\"], rel[\"node2\"], arrowhead=\"\"))\n",
    "    elif rel[\"edge\"] == \"latent\" and rel[\"exists\"]:\n",
    "        graph.add_edge(pydot.Edge(rel[\"node2\"], rel[\"node1\"], arrowhead=\"normal\"))"
   ]
  },
  {
   "cell_type": "code",
   "execution_count": 99,
   "id": "d48cdbbd",
   "metadata": {},
   "outputs": [],
   "source": [
    "graph.write_png(\"output/output.png\")"
   ]
  },
  {
   "cell_type": "code",
   "execution_count": null,
   "id": "a0a1644d",
   "metadata": {},
   "outputs": [],
   "source": []
  }
 ],
 "metadata": {
  "kernelspec": {
   "display_name": "tesi",
   "language": "python",
   "name": "python3"
  },
  "language_info": {
   "codemirror_mode": {
    "name": "ipython",
    "version": 3
   },
   "file_extension": ".py",
   "mimetype": "text/x-python",
   "name": "python",
   "nbconvert_exporter": "python",
   "pygments_lexer": "ipython3",
   "version": "3.12.9"
  }
 },
 "nbformat": 4,
 "nbformat_minor": 5
}
