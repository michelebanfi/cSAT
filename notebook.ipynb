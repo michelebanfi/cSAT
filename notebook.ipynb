{
 "cells": [
  {
   "cell_type": "code",
   "id": "initial_id",
   "metadata": {
    "collapsed": true,
    "ExecuteTime": {
     "end_time": "2025-02-16T13:29:39.460049Z",
     "start_time": "2025-02-16T13:29:39.450672Z"
    }
   },
   "source": [
    "from causallearn.graph.Edge import Edge\n",
    "from causallearn.search.ConstraintBased.FCI import fci\n",
    "from causallearn.utils.GraphUtils import GraphUtils\n",
    "from causallearn.utils.Dataset import load_dataset"
   ],
   "outputs": [],
   "execution_count": 25
  },
  {
   "metadata": {
    "ExecuteTime": {
     "end_time": "2025-02-16T13:29:39.724955Z",
     "start_time": "2025-02-16T13:29:39.484456Z"
    }
   },
   "cell_type": "code",
   "source": "data, labels = load_dataset(\"boston_housing\")",
   "id": "a5a92a5bc2995f74",
   "outputs": [],
   "execution_count": 26
  },
  {
   "metadata": {
    "ExecuteTime": {
     "end_time": "2025-02-16T13:29:39.739148Z",
     "start_time": "2025-02-16T13:29:39.724955Z"
    }
   },
   "cell_type": "code",
   "source": "labels",
   "id": "bf71ffb628f716fa",
   "outputs": [
    {
     "data": {
      "text/plain": [
       "['CRIM',\n",
       " 'ZN',\n",
       " 'INDUS',\n",
       " 'CHAS',\n",
       " 'NOX',\n",
       " 'RM',\n",
       " 'AGE',\n",
       " 'DIS',\n",
       " 'RAD',\n",
       " 'TAX',\n",
       " 'PTRATIO',\n",
       " 'B',\n",
       " 'LSTAT',\n",
       " 'MEDV']"
      ]
     },
     "execution_count": 27,
     "metadata": {},
     "output_type": "execute_result"
    }
   ],
   "execution_count": 27
  },
  {
   "metadata": {
    "ExecuteTime": {
     "end_time": "2025-02-16T13:29:39.776968Z",
     "start_time": "2025-02-16T13:29:39.762746Z"
    }
   },
   "cell_type": "code",
   "source": "data",
   "id": "93435522e2ef8417",
   "outputs": [
    {
     "data": {
      "text/plain": [
       "array([[6.3000e-03, 1.8000e+01, 2.3100e+00, ..., 3.9690e+02, 4.9800e+00,\n",
       "        2.4000e+01],\n",
       "       [2.7300e-02, 0.0000e+00, 7.0700e+00, ..., 3.9690e+02, 9.1400e+00,\n",
       "        2.1600e+01],\n",
       "       [2.7300e-02, 0.0000e+00, 7.0700e+00, ..., 3.9283e+02, 4.0300e+00,\n",
       "        3.4700e+01],\n",
       "       ...,\n",
       "       [6.0800e-02, 0.0000e+00, 1.1930e+01, ..., 3.9690e+02, 5.6400e+00,\n",
       "        2.3900e+01],\n",
       "       [1.0960e-01, 0.0000e+00, 1.1930e+01, ..., 3.9345e+02, 6.4800e+00,\n",
       "        2.2000e+01],\n",
       "       [4.7400e-02, 0.0000e+00, 1.1930e+01, ..., 3.9690e+02, 7.8800e+00,\n",
       "        1.1900e+01]], shape=(506, 14))"
      ]
     },
     "execution_count": 28,
     "metadata": {},
     "output_type": "execute_result"
    }
   ],
   "execution_count": 28
  },
  {
   "metadata": {
    "ExecuteTime": {
     "end_time": "2025-02-16T13:29:40.656946Z",
     "start_time": "2025-02-16T13:29:39.867075Z"
    }
   },
   "cell_type": "code",
   "source": [
    "g, edges = fci(data)\n",
    "pdy = GraphUtils.to_pydot(g)\n",
    "# pdy.write_png('boston_housing.png')"
   ],
   "id": "38a52a0eb337e17f",
   "outputs": [
    {
     "name": "stderr",
     "output_type": "stream",
     "text": [
      "Depth=0, working on node 13: 100%|██████████| 14/14 [00:00<00:00, 295.36it/s]\n"
     ]
    },
    {
     "name": "stdout",
     "output_type": "stream",
     "text": [
      "X9 --> X1\n",
      "X1 --> X12\n",
      "X5 --> X3\n",
      "X3 --> X10\n",
      "X7 --> X5\n",
      "X14 --> X6\n",
      "X9 --> X10\n",
      "X14 --> X11\n",
      "X13 --> X14\n"
     ]
    }
   ],
   "execution_count": 29
  },
  {
   "metadata": {
    "ExecuteTime": {
     "end_time": "2025-02-16T13:29:40.751974Z",
     "start_time": "2025-02-16T13:29:40.737681Z"
    }
   },
   "cell_type": "code",
   "source": [
    "# create an ENUM for the edge types\n",
    "def get_endpoint_type(endpoint: int, isFirst: bool):\n",
    "    if endpoint == -1:\n",
    "        return \"-\"\n",
    "    elif endpoint == 1:\n",
    "        return \"<\" if isFirst else \">\"\n",
    "    elif endpoint == 2:\n",
    "        return \"o\"\n",
    "\n",
    "def get_edge(edge: Edge):\n",
    "    start = edge.numerical_endpoint_1\n",
    "    end = edge.numerical_endpoint_2\n",
    "\n",
    "    return f\"{get_endpoint_type(start, True)}-{get_endpoint_type(end, False)}\"\n"
   ],
   "id": "3a89c7d05a092fe1",
   "outputs": [],
   "execution_count": 30
  },
  {
   "metadata": {
    "ExecuteTime": {
     "end_time": "2025-02-16T13:29:40.801036Z",
     "start_time": "2025-02-16T13:29:40.793425Z"
    }
   },
   "cell_type": "code",
   "source": [
    "sat_clauses = []\n",
    "formatted_edges = []\n",
    "for edge in edges:\n",
    "    formatted_edges.append((edge.node1.name, edge.node2.name, get_edge(edge)))\n",
    "\n",
    "print(formatted_edges)"
   ],
   "id": "a0c3d58e050d3559",
   "outputs": [
    {
     "name": "stdout",
     "output_type": "stream",
     "text": [
      "[('X9', 'X1', '-->'), ('X1', 'X12', '-->'), ('X2', 'X8', 'o-o'), ('X2', 'X11', '-->'), ('X5', 'X3', '-->'), ('X8', 'X3', '-->'), ('X3', 'X9', '<->'), ('X3', 'X10', '-->'), ('X4', 'X14', 'o->'), ('X7', 'X5', '-->'), ('X8', 'X5', '-->'), ('X6', 'X13', '<->'), ('X14', 'X6', '-->'), ('X8', 'X7', '-->'), ('X7', 'X13', '<->'), ('X9', 'X10', '-->'), ('X9', 'X11', '<->'), ('X14', 'X11', '-->'), ('X13', 'X14', '-->')]\n"
     ]
    }
   ],
   "execution_count": 31
  },
  {
   "metadata": {
    "ExecuteTime": {
     "end_time": "2025-02-16T13:29:40.857345Z",
     "start_time": "2025-02-16T13:29:40.839793Z"
    }
   },
   "cell_type": "code",
   "source": [
    "def get_unique_nodes(edges):\n",
    "    nodes = set()\n",
    "    for edge in edges:\n",
    "        nodes.add(edge[0])\n",
    "        nodes.add(edge[1])\n",
    "    return nodes"
   ],
   "id": "7d175dab26bfeccb",
   "outputs": [],
   "execution_count": 32
  },
  {
   "metadata": {
    "ExecuteTime": {
     "end_time": "2025-02-16T13:29:40.909931Z",
     "start_time": "2025-02-16T13:29:40.900921Z"
    }
   },
   "cell_type": "code",
   "source": "nodes = get_unique_nodes(formatted_edges)",
   "id": "ce656b7b2758347a",
   "outputs": [],
   "execution_count": 33
  },
  {
   "metadata": {
    "ExecuteTime": {
     "end_time": "2025-02-16T13:29:40.926072Z",
     "start_time": "2025-02-16T13:29:40.909931Z"
    }
   },
   "cell_type": "code",
   "source": "nodes",
   "id": "3eae93b1348f45b4",
   "outputs": [
    {
     "data": {
      "text/plain": [
       "{'X1',\n",
       " 'X10',\n",
       " 'X11',\n",
       " 'X12',\n",
       " 'X13',\n",
       " 'X14',\n",
       " 'X2',\n",
       " 'X3',\n",
       " 'X4',\n",
       " 'X5',\n",
       " 'X6',\n",
       " 'X7',\n",
       " 'X8',\n",
       " 'X9'}"
      ]
     },
     "execution_count": 34,
     "metadata": {},
     "output_type": "execute_result"
    }
   ],
   "execution_count": 34
  },
  {
   "metadata": {
    "ExecuteTime": {
     "end_time": "2025-02-16T13:29:40.959850Z",
     "start_time": "2025-02-16T13:29:40.948012Z"
    }
   },
   "cell_type": "code",
   "source": [
    "var_mapping = {}\n",
    "def create_variable_mapping(nodes):\n",
    "    for n1 in nodes:\n",
    "        for n2 in nodes:\n",
    "            for edge_type in [\"direct\", \"latent\"]:\n",
    "                var_mapping[(n1, n2, edge_type)] = len(var_mapping) + 1\n",
    "    return var_mapping"
   ],
   "id": "5afd891200867c9",
   "outputs": [],
   "execution_count": 35
  },
  {
   "metadata": {
    "ExecuteTime": {
     "end_time": "2025-02-16T13:29:40.988042Z",
     "start_time": "2025-02-16T13:29:40.978213Z"
    }
   },
   "cell_type": "code",
   "source": "var_mapping = create_variable_mapping(nodes)",
   "id": "422e36f575ee1a26",
   "outputs": [],
   "execution_count": 36
  },
  {
   "metadata": {
    "ExecuteTime": {
     "end_time": "2025-02-16T13:29:41.070139Z",
     "start_time": "2025-02-16T13:29:41.009248Z"
    }
   },
   "cell_type": "code",
   "source": "var_mapping",
   "id": "b6b2fb5985bcb18e",
   "outputs": [
    {
     "data": {
      "text/plain": [
       "{('X6', 'X6', 'direct'): 1,\n",
       " ('X6', 'X6', 'latent'): 2,\n",
       " ('X6', 'X9', 'direct'): 3,\n",
       " ('X6', 'X9', 'latent'): 4,\n",
       " ('X6', 'X4', 'direct'): 5,\n",
       " ('X6', 'X4', 'latent'): 6,\n",
       " ('X6', 'X8', 'direct'): 7,\n",
       " ('X6', 'X8', 'latent'): 8,\n",
       " ('X6', 'X12', 'direct'): 9,\n",
       " ('X6', 'X12', 'latent'): 10,\n",
       " ('X6', 'X13', 'direct'): 11,\n",
       " ('X6', 'X13', 'latent'): 12,\n",
       " ('X6', 'X3', 'direct'): 13,\n",
       " ('X6', 'X3', 'latent'): 14,\n",
       " ('X6', 'X11', 'direct'): 15,\n",
       " ('X6', 'X11', 'latent'): 16,\n",
       " ('X6', 'X14', 'direct'): 17,\n",
       " ('X6', 'X14', 'latent'): 18,\n",
       " ('X6', 'X1', 'direct'): 19,\n",
       " ('X6', 'X1', 'latent'): 20,\n",
       " ('X6', 'X10', 'direct'): 21,\n",
       " ('X6', 'X10', 'latent'): 22,\n",
       " ('X6', 'X7', 'direct'): 23,\n",
       " ('X6', 'X7', 'latent'): 24,\n",
       " ('X6', 'X2', 'direct'): 25,\n",
       " ('X6', 'X2', 'latent'): 26,\n",
       " ('X6', 'X5', 'direct'): 27,\n",
       " ('X6', 'X5', 'latent'): 28,\n",
       " ('X9', 'X6', 'direct'): 29,\n",
       " ('X9', 'X6', 'latent'): 30,\n",
       " ('X9', 'X9', 'direct'): 31,\n",
       " ('X9', 'X9', 'latent'): 32,\n",
       " ('X9', 'X4', 'direct'): 33,\n",
       " ('X9', 'X4', 'latent'): 34,\n",
       " ('X9', 'X8', 'direct'): 35,\n",
       " ('X9', 'X8', 'latent'): 36,\n",
       " ('X9', 'X12', 'direct'): 37,\n",
       " ('X9', 'X12', 'latent'): 38,\n",
       " ('X9', 'X13', 'direct'): 39,\n",
       " ('X9', 'X13', 'latent'): 40,\n",
       " ('X9', 'X3', 'direct'): 41,\n",
       " ('X9', 'X3', 'latent'): 42,\n",
       " ('X9', 'X11', 'direct'): 43,\n",
       " ('X9', 'X11', 'latent'): 44,\n",
       " ('X9', 'X14', 'direct'): 45,\n",
       " ('X9', 'X14', 'latent'): 46,\n",
       " ('X9', 'X1', 'direct'): 47,\n",
       " ('X9', 'X1', 'latent'): 48,\n",
       " ('X9', 'X10', 'direct'): 49,\n",
       " ('X9', 'X10', 'latent'): 50,\n",
       " ('X9', 'X7', 'direct'): 51,\n",
       " ('X9', 'X7', 'latent'): 52,\n",
       " ('X9', 'X2', 'direct'): 53,\n",
       " ('X9', 'X2', 'latent'): 54,\n",
       " ('X9', 'X5', 'direct'): 55,\n",
       " ('X9', 'X5', 'latent'): 56,\n",
       " ('X4', 'X6', 'direct'): 57,\n",
       " ('X4', 'X6', 'latent'): 58,\n",
       " ('X4', 'X9', 'direct'): 59,\n",
       " ('X4', 'X9', 'latent'): 60,\n",
       " ('X4', 'X4', 'direct'): 61,\n",
       " ('X4', 'X4', 'latent'): 62,\n",
       " ('X4', 'X8', 'direct'): 63,\n",
       " ('X4', 'X8', 'latent'): 64,\n",
       " ('X4', 'X12', 'direct'): 65,\n",
       " ('X4', 'X12', 'latent'): 66,\n",
       " ('X4', 'X13', 'direct'): 67,\n",
       " ('X4', 'X13', 'latent'): 68,\n",
       " ('X4', 'X3', 'direct'): 69,\n",
       " ('X4', 'X3', 'latent'): 70,\n",
       " ('X4', 'X11', 'direct'): 71,\n",
       " ('X4', 'X11', 'latent'): 72,\n",
       " ('X4', 'X14', 'direct'): 73,\n",
       " ('X4', 'X14', 'latent'): 74,\n",
       " ('X4', 'X1', 'direct'): 75,\n",
       " ('X4', 'X1', 'latent'): 76,\n",
       " ('X4', 'X10', 'direct'): 77,\n",
       " ('X4', 'X10', 'latent'): 78,\n",
       " ('X4', 'X7', 'direct'): 79,\n",
       " ('X4', 'X7', 'latent'): 80,\n",
       " ('X4', 'X2', 'direct'): 81,\n",
       " ('X4', 'X2', 'latent'): 82,\n",
       " ('X4', 'X5', 'direct'): 83,\n",
       " ('X4', 'X5', 'latent'): 84,\n",
       " ('X8', 'X6', 'direct'): 85,\n",
       " ('X8', 'X6', 'latent'): 86,\n",
       " ('X8', 'X9', 'direct'): 87,\n",
       " ('X8', 'X9', 'latent'): 88,\n",
       " ('X8', 'X4', 'direct'): 89,\n",
       " ('X8', 'X4', 'latent'): 90,\n",
       " ('X8', 'X8', 'direct'): 91,\n",
       " ('X8', 'X8', 'latent'): 92,\n",
       " ('X8', 'X12', 'direct'): 93,\n",
       " ('X8', 'X12', 'latent'): 94,\n",
       " ('X8', 'X13', 'direct'): 95,\n",
       " ('X8', 'X13', 'latent'): 96,\n",
       " ('X8', 'X3', 'direct'): 97,\n",
       " ('X8', 'X3', 'latent'): 98,\n",
       " ('X8', 'X11', 'direct'): 99,\n",
       " ('X8', 'X11', 'latent'): 100,\n",
       " ('X8', 'X14', 'direct'): 101,\n",
       " ('X8', 'X14', 'latent'): 102,\n",
       " ('X8', 'X1', 'direct'): 103,\n",
       " ('X8', 'X1', 'latent'): 104,\n",
       " ('X8', 'X10', 'direct'): 105,\n",
       " ('X8', 'X10', 'latent'): 106,\n",
       " ('X8', 'X7', 'direct'): 107,\n",
       " ('X8', 'X7', 'latent'): 108,\n",
       " ('X8', 'X2', 'direct'): 109,\n",
       " ('X8', 'X2', 'latent'): 110,\n",
       " ('X8', 'X5', 'direct'): 111,\n",
       " ('X8', 'X5', 'latent'): 112,\n",
       " ('X12', 'X6', 'direct'): 113,\n",
       " ('X12', 'X6', 'latent'): 114,\n",
       " ('X12', 'X9', 'direct'): 115,\n",
       " ('X12', 'X9', 'latent'): 116,\n",
       " ('X12', 'X4', 'direct'): 117,\n",
       " ('X12', 'X4', 'latent'): 118,\n",
       " ('X12', 'X8', 'direct'): 119,\n",
       " ('X12', 'X8', 'latent'): 120,\n",
       " ('X12', 'X12', 'direct'): 121,\n",
       " ('X12', 'X12', 'latent'): 122,\n",
       " ('X12', 'X13', 'direct'): 123,\n",
       " ('X12', 'X13', 'latent'): 124,\n",
       " ('X12', 'X3', 'direct'): 125,\n",
       " ('X12', 'X3', 'latent'): 126,\n",
       " ('X12', 'X11', 'direct'): 127,\n",
       " ('X12', 'X11', 'latent'): 128,\n",
       " ('X12', 'X14', 'direct'): 129,\n",
       " ('X12', 'X14', 'latent'): 130,\n",
       " ('X12', 'X1', 'direct'): 131,\n",
       " ('X12', 'X1', 'latent'): 132,\n",
       " ('X12', 'X10', 'direct'): 133,\n",
       " ('X12', 'X10', 'latent'): 134,\n",
       " ('X12', 'X7', 'direct'): 135,\n",
       " ('X12', 'X7', 'latent'): 136,\n",
       " ('X12', 'X2', 'direct'): 137,\n",
       " ('X12', 'X2', 'latent'): 138,\n",
       " ('X12', 'X5', 'direct'): 139,\n",
       " ('X12', 'X5', 'latent'): 140,\n",
       " ('X13', 'X6', 'direct'): 141,\n",
       " ('X13', 'X6', 'latent'): 142,\n",
       " ('X13', 'X9', 'direct'): 143,\n",
       " ('X13', 'X9', 'latent'): 144,\n",
       " ('X13', 'X4', 'direct'): 145,\n",
       " ('X13', 'X4', 'latent'): 146,\n",
       " ('X13', 'X8', 'direct'): 147,\n",
       " ('X13', 'X8', 'latent'): 148,\n",
       " ('X13', 'X12', 'direct'): 149,\n",
       " ('X13', 'X12', 'latent'): 150,\n",
       " ('X13', 'X13', 'direct'): 151,\n",
       " ('X13', 'X13', 'latent'): 152,\n",
       " ('X13', 'X3', 'direct'): 153,\n",
       " ('X13', 'X3', 'latent'): 154,\n",
       " ('X13', 'X11', 'direct'): 155,\n",
       " ('X13', 'X11', 'latent'): 156,\n",
       " ('X13', 'X14', 'direct'): 157,\n",
       " ('X13', 'X14', 'latent'): 158,\n",
       " ('X13', 'X1', 'direct'): 159,\n",
       " ('X13', 'X1', 'latent'): 160,\n",
       " ('X13', 'X10', 'direct'): 161,\n",
       " ('X13', 'X10', 'latent'): 162,\n",
       " ('X13', 'X7', 'direct'): 163,\n",
       " ('X13', 'X7', 'latent'): 164,\n",
       " ('X13', 'X2', 'direct'): 165,\n",
       " ('X13', 'X2', 'latent'): 166,\n",
       " ('X13', 'X5', 'direct'): 167,\n",
       " ('X13', 'X5', 'latent'): 168,\n",
       " ('X3', 'X6', 'direct'): 169,\n",
       " ('X3', 'X6', 'latent'): 170,\n",
       " ('X3', 'X9', 'direct'): 171,\n",
       " ('X3', 'X9', 'latent'): 172,\n",
       " ('X3', 'X4', 'direct'): 173,\n",
       " ('X3', 'X4', 'latent'): 174,\n",
       " ('X3', 'X8', 'direct'): 175,\n",
       " ('X3', 'X8', 'latent'): 176,\n",
       " ('X3', 'X12', 'direct'): 177,\n",
       " ('X3', 'X12', 'latent'): 178,\n",
       " ('X3', 'X13', 'direct'): 179,\n",
       " ('X3', 'X13', 'latent'): 180,\n",
       " ('X3', 'X3', 'direct'): 181,\n",
       " ('X3', 'X3', 'latent'): 182,\n",
       " ('X3', 'X11', 'direct'): 183,\n",
       " ('X3', 'X11', 'latent'): 184,\n",
       " ('X3', 'X14', 'direct'): 185,\n",
       " ('X3', 'X14', 'latent'): 186,\n",
       " ('X3', 'X1', 'direct'): 187,\n",
       " ('X3', 'X1', 'latent'): 188,\n",
       " ('X3', 'X10', 'direct'): 189,\n",
       " ('X3', 'X10', 'latent'): 190,\n",
       " ('X3', 'X7', 'direct'): 191,\n",
       " ('X3', 'X7', 'latent'): 192,\n",
       " ('X3', 'X2', 'direct'): 193,\n",
       " ('X3', 'X2', 'latent'): 194,\n",
       " ('X3', 'X5', 'direct'): 195,\n",
       " ('X3', 'X5', 'latent'): 196,\n",
       " ('X11', 'X6', 'direct'): 197,\n",
       " ('X11', 'X6', 'latent'): 198,\n",
       " ('X11', 'X9', 'direct'): 199,\n",
       " ('X11', 'X9', 'latent'): 200,\n",
       " ('X11', 'X4', 'direct'): 201,\n",
       " ('X11', 'X4', 'latent'): 202,\n",
       " ('X11', 'X8', 'direct'): 203,\n",
       " ('X11', 'X8', 'latent'): 204,\n",
       " ('X11', 'X12', 'direct'): 205,\n",
       " ('X11', 'X12', 'latent'): 206,\n",
       " ('X11', 'X13', 'direct'): 207,\n",
       " ('X11', 'X13', 'latent'): 208,\n",
       " ('X11', 'X3', 'direct'): 209,\n",
       " ('X11', 'X3', 'latent'): 210,\n",
       " ('X11', 'X11', 'direct'): 211,\n",
       " ('X11', 'X11', 'latent'): 212,\n",
       " ('X11', 'X14', 'direct'): 213,\n",
       " ('X11', 'X14', 'latent'): 214,\n",
       " ('X11', 'X1', 'direct'): 215,\n",
       " ('X11', 'X1', 'latent'): 216,\n",
       " ('X11', 'X10', 'direct'): 217,\n",
       " ('X11', 'X10', 'latent'): 218,\n",
       " ('X11', 'X7', 'direct'): 219,\n",
       " ('X11', 'X7', 'latent'): 220,\n",
       " ('X11', 'X2', 'direct'): 221,\n",
       " ('X11', 'X2', 'latent'): 222,\n",
       " ('X11', 'X5', 'direct'): 223,\n",
       " ('X11', 'X5', 'latent'): 224,\n",
       " ('X14', 'X6', 'direct'): 225,\n",
       " ('X14', 'X6', 'latent'): 226,\n",
       " ('X14', 'X9', 'direct'): 227,\n",
       " ('X14', 'X9', 'latent'): 228,\n",
       " ('X14', 'X4', 'direct'): 229,\n",
       " ('X14', 'X4', 'latent'): 230,\n",
       " ('X14', 'X8', 'direct'): 231,\n",
       " ('X14', 'X8', 'latent'): 232,\n",
       " ('X14', 'X12', 'direct'): 233,\n",
       " ('X14', 'X12', 'latent'): 234,\n",
       " ('X14', 'X13', 'direct'): 235,\n",
       " ('X14', 'X13', 'latent'): 236,\n",
       " ('X14', 'X3', 'direct'): 237,\n",
       " ('X14', 'X3', 'latent'): 238,\n",
       " ('X14', 'X11', 'direct'): 239,\n",
       " ('X14', 'X11', 'latent'): 240,\n",
       " ('X14', 'X14', 'direct'): 241,\n",
       " ('X14', 'X14', 'latent'): 242,\n",
       " ('X14', 'X1', 'direct'): 243,\n",
       " ('X14', 'X1', 'latent'): 244,\n",
       " ('X14', 'X10', 'direct'): 245,\n",
       " ('X14', 'X10', 'latent'): 246,\n",
       " ('X14', 'X7', 'direct'): 247,\n",
       " ('X14', 'X7', 'latent'): 248,\n",
       " ('X14', 'X2', 'direct'): 249,\n",
       " ('X14', 'X2', 'latent'): 250,\n",
       " ('X14', 'X5', 'direct'): 251,\n",
       " ('X14', 'X5', 'latent'): 252,\n",
       " ('X1', 'X6', 'direct'): 253,\n",
       " ('X1', 'X6', 'latent'): 254,\n",
       " ('X1', 'X9', 'direct'): 255,\n",
       " ('X1', 'X9', 'latent'): 256,\n",
       " ('X1', 'X4', 'direct'): 257,\n",
       " ('X1', 'X4', 'latent'): 258,\n",
       " ('X1', 'X8', 'direct'): 259,\n",
       " ('X1', 'X8', 'latent'): 260,\n",
       " ('X1', 'X12', 'direct'): 261,\n",
       " ('X1', 'X12', 'latent'): 262,\n",
       " ('X1', 'X13', 'direct'): 263,\n",
       " ('X1', 'X13', 'latent'): 264,\n",
       " ('X1', 'X3', 'direct'): 265,\n",
       " ('X1', 'X3', 'latent'): 266,\n",
       " ('X1', 'X11', 'direct'): 267,\n",
       " ('X1', 'X11', 'latent'): 268,\n",
       " ('X1', 'X14', 'direct'): 269,\n",
       " ('X1', 'X14', 'latent'): 270,\n",
       " ('X1', 'X1', 'direct'): 271,\n",
       " ('X1', 'X1', 'latent'): 272,\n",
       " ('X1', 'X10', 'direct'): 273,\n",
       " ('X1', 'X10', 'latent'): 274,\n",
       " ('X1', 'X7', 'direct'): 275,\n",
       " ('X1', 'X7', 'latent'): 276,\n",
       " ('X1', 'X2', 'direct'): 277,\n",
       " ('X1', 'X2', 'latent'): 278,\n",
       " ('X1', 'X5', 'direct'): 279,\n",
       " ('X1', 'X5', 'latent'): 280,\n",
       " ('X10', 'X6', 'direct'): 281,\n",
       " ('X10', 'X6', 'latent'): 282,\n",
       " ('X10', 'X9', 'direct'): 283,\n",
       " ('X10', 'X9', 'latent'): 284,\n",
       " ('X10', 'X4', 'direct'): 285,\n",
       " ('X10', 'X4', 'latent'): 286,\n",
       " ('X10', 'X8', 'direct'): 287,\n",
       " ('X10', 'X8', 'latent'): 288,\n",
       " ('X10', 'X12', 'direct'): 289,\n",
       " ('X10', 'X12', 'latent'): 290,\n",
       " ('X10', 'X13', 'direct'): 291,\n",
       " ('X10', 'X13', 'latent'): 292,\n",
       " ('X10', 'X3', 'direct'): 293,\n",
       " ('X10', 'X3', 'latent'): 294,\n",
       " ('X10', 'X11', 'direct'): 295,\n",
       " ('X10', 'X11', 'latent'): 296,\n",
       " ('X10', 'X14', 'direct'): 297,\n",
       " ('X10', 'X14', 'latent'): 298,\n",
       " ('X10', 'X1', 'direct'): 299,\n",
       " ('X10', 'X1', 'latent'): 300,\n",
       " ('X10', 'X10', 'direct'): 301,\n",
       " ('X10', 'X10', 'latent'): 302,\n",
       " ('X10', 'X7', 'direct'): 303,\n",
       " ('X10', 'X7', 'latent'): 304,\n",
       " ('X10', 'X2', 'direct'): 305,\n",
       " ('X10', 'X2', 'latent'): 306,\n",
       " ('X10', 'X5', 'direct'): 307,\n",
       " ('X10', 'X5', 'latent'): 308,\n",
       " ('X7', 'X6', 'direct'): 309,\n",
       " ('X7', 'X6', 'latent'): 310,\n",
       " ('X7', 'X9', 'direct'): 311,\n",
       " ('X7', 'X9', 'latent'): 312,\n",
       " ('X7', 'X4', 'direct'): 313,\n",
       " ('X7', 'X4', 'latent'): 314,\n",
       " ('X7', 'X8', 'direct'): 315,\n",
       " ('X7', 'X8', 'latent'): 316,\n",
       " ('X7', 'X12', 'direct'): 317,\n",
       " ('X7', 'X12', 'latent'): 318,\n",
       " ('X7', 'X13', 'direct'): 319,\n",
       " ('X7', 'X13', 'latent'): 320,\n",
       " ('X7', 'X3', 'direct'): 321,\n",
       " ('X7', 'X3', 'latent'): 322,\n",
       " ('X7', 'X11', 'direct'): 323,\n",
       " ('X7', 'X11', 'latent'): 324,\n",
       " ('X7', 'X14', 'direct'): 325,\n",
       " ('X7', 'X14', 'latent'): 326,\n",
       " ('X7', 'X1', 'direct'): 327,\n",
       " ('X7', 'X1', 'latent'): 328,\n",
       " ('X7', 'X10', 'direct'): 329,\n",
       " ('X7', 'X10', 'latent'): 330,\n",
       " ('X7', 'X7', 'direct'): 331,\n",
       " ('X7', 'X7', 'latent'): 332,\n",
       " ('X7', 'X2', 'direct'): 333,\n",
       " ('X7', 'X2', 'latent'): 334,\n",
       " ('X7', 'X5', 'direct'): 335,\n",
       " ('X7', 'X5', 'latent'): 336,\n",
       " ('X2', 'X6', 'direct'): 337,\n",
       " ('X2', 'X6', 'latent'): 338,\n",
       " ('X2', 'X9', 'direct'): 339,\n",
       " ('X2', 'X9', 'latent'): 340,\n",
       " ('X2', 'X4', 'direct'): 341,\n",
       " ('X2', 'X4', 'latent'): 342,\n",
       " ('X2', 'X8', 'direct'): 343,\n",
       " ('X2', 'X8', 'latent'): 344,\n",
       " ('X2', 'X12', 'direct'): 345,\n",
       " ('X2', 'X12', 'latent'): 346,\n",
       " ('X2', 'X13', 'direct'): 347,\n",
       " ('X2', 'X13', 'latent'): 348,\n",
       " ('X2', 'X3', 'direct'): 349,\n",
       " ('X2', 'X3', 'latent'): 350,\n",
       " ('X2', 'X11', 'direct'): 351,\n",
       " ('X2', 'X11', 'latent'): 352,\n",
       " ('X2', 'X14', 'direct'): 353,\n",
       " ('X2', 'X14', 'latent'): 354,\n",
       " ('X2', 'X1', 'direct'): 355,\n",
       " ('X2', 'X1', 'latent'): 356,\n",
       " ('X2', 'X10', 'direct'): 357,\n",
       " ('X2', 'X10', 'latent'): 358,\n",
       " ('X2', 'X7', 'direct'): 359,\n",
       " ('X2', 'X7', 'latent'): 360,\n",
       " ('X2', 'X2', 'direct'): 361,\n",
       " ('X2', 'X2', 'latent'): 362,\n",
       " ('X2', 'X5', 'direct'): 363,\n",
       " ('X2', 'X5', 'latent'): 364,\n",
       " ('X5', 'X6', 'direct'): 365,\n",
       " ('X5', 'X6', 'latent'): 366,\n",
       " ('X5', 'X9', 'direct'): 367,\n",
       " ('X5', 'X9', 'latent'): 368,\n",
       " ('X5', 'X4', 'direct'): 369,\n",
       " ('X5', 'X4', 'latent'): 370,\n",
       " ('X5', 'X8', 'direct'): 371,\n",
       " ('X5', 'X8', 'latent'): 372,\n",
       " ('X5', 'X12', 'direct'): 373,\n",
       " ('X5', 'X12', 'latent'): 374,\n",
       " ('X5', 'X13', 'direct'): 375,\n",
       " ('X5', 'X13', 'latent'): 376,\n",
       " ('X5', 'X3', 'direct'): 377,\n",
       " ('X5', 'X3', 'latent'): 378,\n",
       " ('X5', 'X11', 'direct'): 379,\n",
       " ('X5', 'X11', 'latent'): 380,\n",
       " ('X5', 'X14', 'direct'): 381,\n",
       " ('X5', 'X14', 'latent'): 382,\n",
       " ('X5', 'X1', 'direct'): 383,\n",
       " ('X5', 'X1', 'latent'): 384,\n",
       " ('X5', 'X10', 'direct'): 385,\n",
       " ('X5', 'X10', 'latent'): 386,\n",
       " ('X5', 'X7', 'direct'): 387,\n",
       " ('X5', 'X7', 'latent'): 388,\n",
       " ('X5', 'X2', 'direct'): 389,\n",
       " ('X5', 'X2', 'latent'): 390,\n",
       " ('X5', 'X5', 'direct'): 391,\n",
       " ('X5', 'X5', 'latent'): 392}"
      ]
     },
     "execution_count": 37,
     "metadata": {},
     "output_type": "execute_result"
    }
   ],
   "execution_count": 37
  },
  {
   "metadata": {
    "ExecuteTime": {
     "end_time": "2025-02-16T13:29:41.100140Z",
     "start_time": "2025-02-16T13:29:41.089411Z"
    }
   },
   "cell_type": "code",
   "source": [
    "def add_edge_constraints(edges):\n",
    "    cnf = []\n",
    "    for n1, n2, edge_type in edges:\n",
    "            if edge_type == '-->':\n",
    "                # Direct causation must be true\n",
    "                cnf.append([var_mapping[(n1, n2, 'direct')]])\n",
    "                # No latent common cause\n",
    "                cnf.append([-var_mapping[(n1, n2, 'latent')]])\n",
    "\n",
    "            elif edge_type == 'o->':\n",
    "                # n2 cannot be ancestor of n1\n",
    "                cnf.append([-var_mapping[(n2, n1, 'direct')]])\n",
    "\n",
    "            elif edge_type == 'o-o':\n",
    "                # Either direct causation or latent common cause must exist\n",
    "                cnf.append([\n",
    "                    var_mapping[(n1, n2, 'direct')],\n",
    "                    var_mapping[(n1, n2, 'latent')]\n",
    "                ])\n",
    "\n",
    "            elif edge_type == '<->':\n",
    "                # Must have latent common cause\n",
    "                cnf.append([var_mapping[(n1, n2, 'latent')]])\n",
    "                # No direct causation in either direction\n",
    "                cnf.append([-var_mapping[(n2, n1, 'direct')]])\n",
    "                cnf.append([-var_mapping[(n1, n2, 'direct')]])\n",
    "\n",
    "    return cnf"
   ],
   "id": "44f054bc431ed632",
   "outputs": [],
   "execution_count": 38
  },
  {
   "metadata": {
    "ExecuteTime": {
     "end_time": "2025-02-16T13:29:41.132413Z",
     "start_time": "2025-02-16T13:29:41.123119Z"
    }
   },
   "cell_type": "code",
   "source": "cnf = add_edge_constraints(formatted_edges)",
   "id": "4344247b6f68740c",
   "outputs": [],
   "execution_count": 39
  },
  {
   "metadata": {
    "ExecuteTime": {
     "end_time": "2025-02-16T13:29:41.170682Z",
     "start_time": "2025-02-16T13:29:41.157367Z"
    }
   },
   "cell_type": "code",
   "source": "cnf",
   "id": "468b1c4fd38621",
   "outputs": [
    {
     "data": {
      "text/plain": [
       "[[47],\n",
       " [-48],\n",
       " [261],\n",
       " [-262],\n",
       " [343, 344],\n",
       " [351],\n",
       " [-352],\n",
       " [377],\n",
       " [-378],\n",
       " [97],\n",
       " [-98],\n",
       " [172],\n",
       " [-41],\n",
       " [-171],\n",
       " [189],\n",
       " [-190],\n",
       " [-229],\n",
       " [335],\n",
       " [-336],\n",
       " [111],\n",
       " [-112],\n",
       " [12],\n",
       " [-141],\n",
       " [-11],\n",
       " [225],\n",
       " [-226],\n",
       " [107],\n",
       " [-108],\n",
       " [320],\n",
       " [-163],\n",
       " [-319],\n",
       " [49],\n",
       " [-50],\n",
       " [44],\n",
       " [-199],\n",
       " [-43],\n",
       " [239],\n",
       " [-240],\n",
       " [157],\n",
       " [-158]]"
      ]
     },
     "execution_count": 40,
     "metadata": {},
     "output_type": "execute_result"
    }
   ],
   "execution_count": 40
  },
  {
   "metadata": {
    "ExecuteTime": {
     "end_time": "2025-02-16T13:29:41.212467Z",
     "start_time": "2025-02-16T13:29:41.197655Z"
    }
   },
   "cell_type": "code",
   "source": [
    "def decode_cnf(cnf, var_mapping):\n",
    "    # Create reverse mapping\n",
    "    reverse_mapping = {v: k for k, v in var_mapping.items()}\n",
    "\n",
    "    decoded_clauses = []\n",
    "    for clause in cnf:\n",
    "        decoded_clause = []\n",
    "        for literal in clause:\n",
    "            # Get the absolute value of the literal to find the variable\n",
    "            var_num = abs(literal)\n",
    "            var_info = reverse_mapping[var_num]\n",
    "            node1, node2, edge_type = var_info\n",
    "\n",
    "            # Create readable representation\n",
    "            if literal > 0:\n",
    "                decoded_clause.append(f\"{node1}-{edge_type}->{node2}\")\n",
    "            else:\n",
    "                decoded_clause.append(f\"NOT({node1}-{edge_type}->{node2})\")\n",
    "\n",
    "        decoded_clauses.append(decoded_clause)\n",
    "\n",
    "    return decoded_clauses\n",
    "\n",
    "# Function to pretty print the decoded CNF\n",
    "def print_decoded_cnf(decoded_clauses):\n",
    "    print(\"Interpreted CNF formula:\")\n",
    "    print(\"Each line represents a clause (OR between terms)\")\n",
    "    print(\"The entire formula is an AND between all clauses\")\n",
    "    print(\"\\nClauses:\")\n",
    "    for i, clause in enumerate(decoded_clauses, 1):\n",
    "        terms = \" OR \".join(clause)\n",
    "        print(f\"{i}. {terms}\")\n",
    "\n",
    "# Use the functions\n",
    "decoded = decode_cnf(cnf, var_mapping)\n",
    "print_decoded_cnf(decoded)"
   ],
   "id": "75607aa18204528",
   "outputs": [
    {
     "name": "stdout",
     "output_type": "stream",
     "text": [
      "Interpreted CNF formula:\n",
      "Each line represents a clause (OR between terms)\n",
      "The entire formula is an AND between all clauses\n",
      "\n",
      "Clauses:\n",
      "1. X9-direct->X1\n",
      "2. NOT(X9-latent->X1)\n",
      "3. X1-direct->X12\n",
      "4. NOT(X1-latent->X12)\n",
      "5. X2-direct->X8 OR X2-latent->X8\n",
      "6. X2-direct->X11\n",
      "7. NOT(X2-latent->X11)\n",
      "8. X5-direct->X3\n",
      "9. NOT(X5-latent->X3)\n",
      "10. X8-direct->X3\n",
      "11. NOT(X8-latent->X3)\n",
      "12. X3-latent->X9\n",
      "13. NOT(X9-direct->X3)\n",
      "14. NOT(X3-direct->X9)\n",
      "15. X3-direct->X10\n",
      "16. NOT(X3-latent->X10)\n",
      "17. NOT(X14-direct->X4)\n",
      "18. X7-direct->X5\n",
      "19. NOT(X7-latent->X5)\n",
      "20. X8-direct->X5\n",
      "21. NOT(X8-latent->X5)\n",
      "22. X6-latent->X13\n",
      "23. NOT(X13-direct->X6)\n",
      "24. NOT(X6-direct->X13)\n",
      "25. X14-direct->X6\n",
      "26. NOT(X14-latent->X6)\n",
      "27. X8-direct->X7\n",
      "28. NOT(X8-latent->X7)\n",
      "29. X7-latent->X13\n",
      "30. NOT(X13-direct->X7)\n",
      "31. NOT(X7-direct->X13)\n",
      "32. X9-direct->X10\n",
      "33. NOT(X9-latent->X10)\n",
      "34. X9-latent->X11\n",
      "35. NOT(X11-direct->X9)\n",
      "36. NOT(X9-direct->X11)\n",
      "37. X14-direct->X11\n",
      "38. NOT(X14-latent->X11)\n",
      "39. X13-direct->X14\n",
      "40. NOT(X13-latent->X14)\n"
     ]
    }
   ],
   "execution_count": 41
  },
  {
   "metadata": {
    "ExecuteTime": {
     "end_time": "2025-02-16T13:29:41.315992Z",
     "start_time": "2025-02-16T13:29:41.284816Z"
    }
   },
   "cell_type": "code",
   "source": [
    "from pysat.formula import CNF\n",
    "from pysat.solvers import Glucose3\n",
    "\n",
    "def solve_causal_sat(cnf_clauses, var_mapping):\n",
    "    # Create a CNF formula object\n",
    "    formula = CNF()\n",
    "    for clause in cnf_clauses:\n",
    "        formula.append(clause)\n",
    "\n",
    "    # Create solver and add the formula\n",
    "    solver = Glucose3()\n",
    "    solver.append_formula(formula)\n",
    "\n",
    "    # Solve the formula\n",
    "    is_sat = solver.solve()\n",
    "\n",
    "    if not is_sat:\n",
    "        return False, None\n",
    "\n",
    "    # Get the solution\n",
    "    model = solver.get_model()\n",
    "\n",
    "    # Create reverse mapping for interpretation\n",
    "    reverse_mapping = {v: k for k, v in var_mapping.items()}\n",
    "\n",
    "    # Interpret the solution\n",
    "    causal_relationships = []\n",
    "    for var in model:\n",
    "        var_num = abs(var)\n",
    "        if var_num in reverse_mapping:\n",
    "            node1, node2, edge_type = reverse_mapping[var_num]\n",
    "            if var > 0:  # If the variable is positive in the solution\n",
    "                causal_relationships.append({\n",
    "                    'from': node1,\n",
    "                    'to': node2,\n",
    "                    'type': edge_type,\n",
    "                    'exists': True\n",
    "                })\n",
    "            else:  # If the variable is negative in the solution\n",
    "                causal_relationships.append({\n",
    "                    'from': node1,\n",
    "                    'to': node2,\n",
    "                    'type': edge_type,\n",
    "                    'exists': False\n",
    "                })\n",
    "\n",
    "    # Clean up\n",
    "    solver.delete()\n",
    "    return True, causal_relationships\n",
    "\n",
    "satisfiable, solution = solve_causal_sat(cnf, var_mapping)\n",
    "\n",
    "if satisfiable:\n",
    "    print(\"Solution found!\")\n",
    "    print(\"\\nCausal relationships:\")\n",
    "    # Group relationships by type for clearer output\n",
    "    direct_causes = [rel for rel in solution if rel['type'] == 'direct' and rel['exists']]\n",
    "    latent_causes = [rel for rel in solution if rel['type'] == 'latent' and rel['exists']]\n",
    "\n",
    "    print(\"\\nDirect causal relationships:\")\n",
    "    for rel in direct_causes:\n",
    "        print(f\"{rel['from']} --> {rel['to']}\")\n",
    "\n",
    "    print(\"\\nLatent common causes:\")\n",
    "    for rel in latent_causes:\n",
    "        print(f\"{rel['from']} <-> {rel['to']}\")\n",
    "else:\n",
    "    print(\"No solution exists - the constraints are unsatisfiable\")"
   ],
   "id": "fb64866a5a87f94",
   "outputs": [
    {
     "name": "stdout",
     "output_type": "stream",
     "text": [
      "Solution found!\n",
      "\n",
      "Causal relationships:\n",
      "\n",
      "Direct causal relationships:\n",
      "X9 --> X1\n",
      "X9 --> X10\n",
      "X8 --> X3\n",
      "X8 --> X7\n",
      "X8 --> X5\n",
      "X13 --> X14\n",
      "X3 --> X10\n",
      "X14 --> X6\n",
      "X14 --> X11\n",
      "X1 --> X12\n",
      "X7 --> X5\n",
      "X2 --> X8\n",
      "X2 --> X11\n",
      "X5 --> X3\n",
      "\n",
      "Latent common causes:\n",
      "X6 <-> X13\n",
      "X9 <-> X11\n",
      "X3 <-> X9\n",
      "X7 <-> X13\n"
     ]
    }
   ],
   "execution_count": 42
  },
  {
   "metadata": {
    "ExecuteTime": {
     "end_time": "2025-02-16T13:29:41.371328Z",
     "start_time": "2025-02-16T13:29:41.341996Z"
    }
   },
   "cell_type": "code",
   "source": [
    "import networkx as nx\n",
    "import matplotlib.pyplot as plt\n",
    "\n",
    "def visualize_causal_solution(solution, labels=None):\n",
    "    \"\"\"\n",
    "    Create a visualization of the causal structure from SAT solution\n",
    "\n",
    "    Args:\n",
    "        solution: List of dictionaries containing causal relationships\n",
    "        labels: Optional dictionary mapping variable indices to meaningful names\n",
    "    \"\"\"\n",
    "    G = nx.DiGraph()\n",
    "\n",
    "    # Add nodes and edges\n",
    "    direct_edges = [(rel['from'], rel['to']) for rel in solution\n",
    "                    if rel['type'] == 'direct' and rel['exists']]\n",
    "    latent_edges = [(rel['from'], rel['to']) for rel in solution\n",
    "                    if rel['type'] == 'latent' and rel['exists']]\n",
    "\n",
    "    # Add all nodes first\n",
    "    nodes = set([node for edge in direct_edges + latent_edges for node in edge])\n",
    "    G.add_nodes_from(nodes)\n",
    "\n",
    "    # Add direct edges\n",
    "    G.add_edges_from(direct_edges)\n",
    "\n",
    "    # Create the plot\n",
    "    plt.figure(figsize=(12, 8))\n",
    "    pos = nx.spring_layout(G)\n",
    "\n",
    "    # Draw nodes\n",
    "    nx.draw_networkx_nodes(G, pos, node_color='lightblue',\n",
    "                          node_size=1000, alpha=0.7)\n",
    "\n",
    "    # Draw direct edges\n",
    "    nx.draw_networkx_edges(G, pos, edgelist=direct_edges,\n",
    "                          edge_color='blue', arrows=True)\n",
    "\n",
    "    # Draw latent edges differently (as dashed lines)\n",
    "    for start, end in latent_edges:\n",
    "        plt.plot([pos[start][0], pos[end][0]],\n",
    "                [pos[start][1], pos[end][1]],\n",
    "                'r--', alpha=0.5)\n",
    "\n",
    "    # Add labels\n",
    "    if labels is None:\n",
    "        labels = {node: node for node in G.nodes()}\n",
    "    nx.draw_networkx_labels(G, pos, labels)\n",
    "\n",
    "    # Add legend\n",
    "    plt.plot([], [], 'b-', label='Direct Causation')\n",
    "    plt.plot([], [], 'r--', label='Latent Common Cause')\n",
    "    plt.legend()\n",
    "\n",
    "    plt.title('Discovered Causal Structure')\n",
    "    plt.axis('off')\n",
    "    return plt\n",
    "\n",
    "def analyze_causal_structure(solution):\n",
    "    \"\"\"\n",
    "    Analyze the causal structure to find important patterns and metrics\n",
    "    \"\"\"\n",
    "    # Create directed graph from direct relationships\n",
    "    G = nx.DiGraph()\n",
    "    direct_edges = [(rel['from'], rel['to']) for rel in solution\n",
    "                    if rel['type'] == 'direct' and rel['exists']]\n",
    "    G.add_edges_from(direct_edges)\n",
    "\n",
    "    analysis = {\n",
    "        'root_causes': [node for node in G.nodes() if G.in_degree(node) == 0],\n",
    "        'leaf_effects': [node for node in G.nodes() if G.out_degree(node) == 0],\n",
    "        'mediators': [node for node in G.nodes()\n",
    "                     if G.in_degree(node) > 0 and G.out_degree(node) > 0],\n",
    "        'cycles': list(nx.simple_cycles(G)),\n",
    "        'longest_path': nx.dag_longest_path(G) if nx.is_directed_acyclic_graph(G) else None,\n",
    "        'confounders': [(rel['from'], rel['to']) for rel in solution\n",
    "                       if rel['type'] == 'latent' and rel['exists']]\n",
    "    }\n",
    "    return analysis"
   ],
   "id": "2b952ba06631488e",
   "outputs": [],
   "execution_count": 43
  },
  {
   "metadata": {
    "ExecuteTime": {
     "end_time": "2025-02-16T13:29:41.742524Z",
     "start_time": "2025-02-16T13:29:41.394736Z"
    }
   },
   "cell_type": "code",
   "source": [
    "plt = visualize_causal_solution(solution)\n",
    "plt.show()"
   ],
   "id": "67b2a78c2a7213a",
   "outputs": [
    {
     "data": {
      "text/plain": [
       "<Figure size 1200x800 with 1 Axes>"
      ],
      "image/png": "[encoded data removed]"
     },
     "metadata": {},
     "output_type": "display_data"
    }
   ],
   "execution_count": 44
  },
  {
   "metadata": {
    "ExecuteTime": {
     "end_time": "2025-02-16T13:29:41.796369Z",
     "start_time": "2025-02-16T13:29:41.784745Z"
    }
   },
   "cell_type": "code",
   "source": [
    "analysis = analyze_causal_structure(solution)\n",
    "print(\"Root causes:\", analysis['root_causes'])\n",
    "print(\"Ultimate effects:\", analysis['leaf_effects'])\n",
    "print(\"Mediating variables:\", analysis['mediators'])\n",
    "print(\"Confounders:\", analysis['confounders'])"
   ],
   "id": "206ca6d841a34130",
   "outputs": [
    {
     "name": "stdout",
     "output_type": "stream",
     "text": [
      "Root causes: ['X9', 'X13', 'X2']\n",
      "Ultimate effects: ['X10', 'X6', 'X11', 'X12']\n",
      "Mediating variables: ['X1', 'X8', 'X3', 'X7', 'X5', 'X14']\n",
      "Confounders: [('X6', 'X13'), ('X9', 'X11'), ('X3', 'X9'), ('X7', 'X13')]\n"
     ]
    }
   ],
   "execution_count": 45
  },
  {
   "metadata": {
    "ExecuteTime": {
     "end_time": "2025-02-16T13:29:42.146165Z",
     "start_time": "2025-02-16T13:29:41.796369Z"
    }
   },
   "cell_type": "code",
   "source": [
    "# Boston Housing dataset column names\n",
    "boston_labels = {\n",
    "    'X0': 'CRIM',     # Crime rate\n",
    "    'X1': 'ZN',       # Proportion of residential land zoned\n",
    "    'X2': 'INDUS',    # Proportion of non-retail business acres\n",
    "    'X3': 'CHAS',     # Charles River dummy variable\n",
    "    'X4': 'NOX',      # Nitric oxides concentration\n",
    "    'X5': 'RM',       # Average number of rooms per dwelling\n",
    "    'X6': 'AGE',      # Proportion of owner-occupied units built prior to 1940\n",
    "    'X7': 'DIS',      # Weighted distances to employment centers\n",
    "    'X8': 'RAD',      # Index of accessibility to radial highways\n",
    "    'X9': 'TAX',      # Full-value property-tax rate\n",
    "    'X10': 'PTRATIO', # Pupil-teacher ratio\n",
    "    'X11': 'B',       # Proportion of blacks\n",
    "    'X12': 'LSTAT',   # % lower status of the population\n",
    "    'X13': 'MEDV'     # Median value of owner-occupied homes\n",
    "}\n",
    "\n",
    "# Function to replace X indices with actual names in the solution\n",
    "def replace_variable_names(solution, label_mapping):\n",
    "    new_solution = []\n",
    "    for rel in solution:\n",
    "        new_rel = rel.copy()\n",
    "        # Replace 'from' and 'to' with actual names\n",
    "        new_rel['from'] = label_mapping.get(rel['from'], rel['from'])\n",
    "        new_rel['to'] = label_mapping.get(rel['to'], rel['to'])\n",
    "        new_solution.append(new_rel)\n",
    "    return new_solution\n",
    "\n",
    "# Apply the replacement\n",
    "labeled_solution = replace_variable_names(solution, boston_labels)\n",
    "\n",
    "# Now you can use the labeled solution with the visualization\n",
    "plt = visualize_causal_solution(labeled_solution)\n",
    "plt.show()\n",
    "\n",
    "# And with the analysis\n",
    "analysis = analyze_causal_structure(labeled_solution)\n",
    "print(\"\\nRoot causes:\", analysis['root_causes'])\n",
    "print(\"\\nUltimate effects:\", analysis['leaf_effects'])\n",
    "print(\"\\nMediating variables:\", analysis['mediators'])\n",
    "print(\"\\nConfounders:\", analysis['confounders'])"
   ],
   "id": "19726740999fe9d9",
   "outputs": [
    {
     "data": {
      "text/plain": [
       "<Figure size 1200x800 with 1 Axes>"
      ],
      "image/png": "[encoded data removed]"
     },
     "metadata": {},
     "output_type": "display_data"
    },
    {
     "name": "stdout",
     "output_type": "stream",
     "text": [
      "\n",
      "Root causes: ['TAX', 'MEDV', 'INDUS']\n",
      "\n",
      "Ultimate effects: ['PTRATIO', 'AGE', 'B', 'LSTAT']\n",
      "\n",
      "Mediating variables: ['ZN', 'RAD', 'CHAS', 'DIS', 'RM', 'X14']\n",
      "\n",
      "Confounders: [('AGE', 'MEDV'), ('TAX', 'B'), ('CHAS', 'TAX'), ('DIS', 'MEDV')]\n"
     ]
    }
   ],
   "execution_count": 46
  },
  {
   "metadata": {
    "ExecuteTime": {
     "end_time": "2025-02-16T13:29:42.175842Z",
     "start_time": "2025-02-16T13:29:42.169808Z"
    }
   },
   "cell_type": "code",
   "source": "",
   "id": "7a5873e042e23faa",
   "outputs": [],
   "execution_count": null
  }
 ],
 "metadata": {
  "kernelspec": {
   "display_name": "Python 3",
   "language": "python",
   "name": "python3"
  },
  "language_info": {
   "codemirror_mode": {
    "name": "ipython",
    "version": 2
   },
   "file_extension": ".py",
   "mimetype": "text/x-python",
   "name": "python",
   "nbconvert_exporter": "python",
   "pygments_lexer": "ipython2",
   "version": "2.7.6"
  }
 },
 "nbformat": 4,
 "nbformat_minor": 5
}
