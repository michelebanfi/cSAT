{
 "cells": [
  {
   "cell_type": "code",
   "id": "initial_id",
   "metadata": {
    "collapsed": true,
    "ExecuteTime": {
     "end_time": "2025-02-16T10:22:21.766278Z",
     "start_time": "2025-02-16T10:22:21.755775Z"
    }
   },
   "source": [
    "import pandas as pd\n",
    "import numpy as np\n",
    "from causallearn.graph.Edge import Edge\n",
    "from causallearn.search.ConstraintBased.FCI import fci\n",
    "from causallearn.utils.GraphUtils import GraphUtils\n",
    "from causallearn.utils.Dataset import load_dataset"
   ],
   "outputs": [],
   "execution_count": 21
  },
  {
   "metadata": {
    "ExecuteTime": {
     "end_time": "2025-02-16T08:39:38.019484Z",
     "start_time": "2025-02-16T08:39:37.736167Z"
    }
   },
   "cell_type": "code",
   "source": "data, labels = load_dataset(\"boston_housing\")",
   "id": "a5a92a5bc2995f74",
   "outputs": [],
   "execution_count": 3
  },
  {
   "metadata": {
    "ExecuteTime": {
     "end_time": "2025-02-16T08:39:38.097937Z",
     "start_time": "2025-02-16T08:39:38.086184Z"
    }
   },
   "cell_type": "code",
   "source": "data",
   "id": "93435522e2ef8417",
   "outputs": [
    {
     "data": {
      "text/plain": [
       "array([[6.3000e-03, 1.8000e+01, 2.3100e+00, ..., 3.9690e+02, 4.9800e+00,\n",
       "        2.4000e+01],\n",
       "       [2.7300e-02, 0.0000e+00, 7.0700e+00, ..., 3.9690e+02, 9.1400e+00,\n",
       "        2.1600e+01],\n",
       "       [2.7300e-02, 0.0000e+00, 7.0700e+00, ..., 3.9283e+02, 4.0300e+00,\n",
       "        3.4700e+01],\n",
       "       ...,\n",
       "       [6.0800e-02, 0.0000e+00, 1.1930e+01, ..., 3.9690e+02, 5.6400e+00,\n",
       "        2.3900e+01],\n",
       "       [1.0960e-01, 0.0000e+00, 1.1930e+01, ..., 3.9345e+02, 6.4800e+00,\n",
       "        2.2000e+01],\n",
       "       [4.7400e-02, 0.0000e+00, 1.1930e+01, ..., 3.9690e+02, 7.8800e+00,\n",
       "        1.1900e+01]], shape=(506, 14))"
      ]
     },
     "execution_count": 4,
     "metadata": {},
     "output_type": "execute_result"
    }
   ],
   "execution_count": 4
  },
  {
   "metadata": {
    "ExecuteTime": {
     "end_time": "2025-02-16T08:39:41.557590Z",
     "start_time": "2025-02-16T08:39:40.986175Z"
    }
   },
   "cell_type": "code",
   "source": [
    "g, edges = fci(data)\n",
    "pdy = GraphUtils.to_pydot(g)\n",
    "# pdy.write_png('boston_housing.png')"
   ],
   "id": "38a52a0eb337e17f",
   "outputs": [
    {
     "name": "stderr",
     "output_type": "stream",
     "text": [
      "Depth=0, working on node 13: 100%|██████████| 14/14 [00:00<00:00, 327.18it/s]\n"
     ]
    },
    {
     "name": "stdout",
     "output_type": "stream",
     "text": [
      "X9 --> X1\n",
      "X1 --> X12\n",
      "X5 --> X3\n",
      "X3 --> X10\n",
      "X7 --> X5\n",
      "X14 --> X6\n",
      "X9 --> X10\n",
      "X14 --> X11\n",
      "X13 --> X14\n"
     ]
    }
   ],
   "execution_count": 5
  },
  {
   "metadata": {
    "ExecuteTime": {
     "end_time": "2025-02-16T10:24:45.494918Z",
     "start_time": "2025-02-16T10:24:45.484755Z"
    }
   },
   "cell_type": "code",
   "source": [
    "# create an ENUM for the edge types\n",
    "def get_endpoint_type(endpoint: int, isFirst: bool):\n",
    "    if endpoint == -1:\n",
    "        return \"-\"\n",
    "    elif endpoint == 1:\n",
    "        return \"<\" if isFirst else \">\"\n",
    "    elif endpoint == 2:\n",
    "        return \"o\"\n",
    "\n",
    "def get_edge(edge: Edge):\n",
    "    start = edge.numerical_endpoint_1\n",
    "    end = edge.numerical_endpoint_2\n",
    "\n",
    "    return f\"{get_endpoint_type(start, True)}-{get_endpoint_type(end, False)}\"\n"
   ],
   "id": "3a89c7d05a092fe1",
   "outputs": [],
   "execution_count": 26
  },
  {
   "metadata": {
    "ExecuteTime": {
     "end_time": "2025-02-16T10:24:45.645088Z",
     "start_time": "2025-02-16T10:24:45.635045Z"
    }
   },
   "cell_type": "code",
   "source": [
    "sat_clauses = []\n",
    "formatted_edges = []\n",
    "for edge in edges:\n",
    "    formatted_edges.append((edge.node1.name, edge.node2.name, get_edge(edge)))\n",
    "\n",
    "print(formatted_edges)"
   ],
   "id": "a0c3d58e050d3559",
   "outputs": [
    {
     "name": "stdout",
     "output_type": "stream",
     "text": [
      "[('X9', 'X1', '-->'), ('X1', 'X12', '-->'), ('X2', 'X8', 'o-o'), ('X2', 'X11', '-->'), ('X5', 'X3', '-->'), ('X8', 'X3', '-->'), ('X3', 'X9', '<->'), ('X3', 'X10', '-->'), ('X4', 'X14', 'o->'), ('X7', 'X5', '-->'), ('X8', 'X5', '-->'), ('X6', 'X13', '<->'), ('X14', 'X6', '-->'), ('X8', 'X7', '-->'), ('X7', 'X13', '<->'), ('X9', 'X10', '-->'), ('X9', 'X11', '<->'), ('X14', 'X11', '-->'), ('X13', 'X14', '-->')]\n"
     ]
    }
   ],
   "execution_count": 27
  },
  {
   "metadata": {
    "ExecuteTime": {
     "end_time": "2025-02-16T10:25:38.391941Z",
     "start_time": "2025-02-16T10:25:38.384883Z"
    }
   },
   "cell_type": "code",
   "source": [
    "def get_unique_nodes(edges):\n",
    "    nodes = set()\n",
    "    for edge in edges:\n",
    "        nodes.add(edge[0])\n",
    "        nodes.add(edge[1])\n",
    "    return nodes"
   ],
   "id": "7d175dab26bfeccb",
   "outputs": [],
   "execution_count": 28
  },
  {
   "metadata": {
    "ExecuteTime": {
     "end_time": "2025-02-16T10:25:39.670996Z",
     "start_time": "2025-02-16T10:25:39.664830Z"
    }
   },
   "cell_type": "code",
   "source": "nodes = get_unique_nodes(formatted_edges)",
   "id": "ce656b7b2758347a",
   "outputs": [],
   "execution_count": 29
  },
  {
   "metadata": {
    "ExecuteTime": {
     "end_time": "2025-02-16T10:25:44.045461Z",
     "start_time": "2025-02-16T10:25:44.035Z"
    }
   },
   "cell_type": "code",
   "source": "nodes",
   "id": "3eae93b1348f45b4",
   "outputs": [
    {
     "data": {
      "text/plain": [
       "{'X1',\n",
       " 'X10',\n",
       " 'X11',\n",
       " 'X12',\n",
       " 'X13',\n",
       " 'X14',\n",
       " 'X2',\n",
       " 'X3',\n",
       " 'X4',\n",
       " 'X5',\n",
       " 'X6',\n",
       " 'X7',\n",
       " 'X8',\n",
       " 'X9'}"
      ]
     },
     "execution_count": 30,
     "metadata": {},
     "output_type": "execute_result"
    }
   ],
   "execution_count": 30
  },
  {
   "metadata": {
    "ExecuteTime": {
     "end_time": "2025-02-16T10:36:07.884033Z",
     "start_time": "2025-02-16T10:36:07.877292Z"
    }
   },
   "cell_type": "code",
   "source": [
    "var_mapping = {}\n",
    "def create_variable_mapping(nodes):\n",
    "    for n1 in nodes:\n",
    "        for n2 in nodes:\n",
    "            for edge_type in [\"direct\", \"latent\"]:\n",
    "                var_mapping[(n1, n2, edge_type)] = len(var_mapping) + 1\n",
    "    return var_mapping"
   ],
   "id": "5afd891200867c9",
   "outputs": [],
   "execution_count": 31
  },
  {
   "metadata": {
    "ExecuteTime": {
     "end_time": "2025-02-16T10:36:10.703239Z",
     "start_time": "2025-02-16T10:36:10.698011Z"
    }
   },
   "cell_type": "code",
   "source": "var_mapping = create_variable_mapping(nodes)",
   "id": "422e36f575ee1a26",
   "outputs": [],
   "execution_count": 32
  },
  {
   "metadata": {
    "ExecuteTime": {
     "end_time": "2025-02-16T10:36:12.534148Z",
     "start_time": "2025-02-16T10:36:12.432345Z"
    }
   },
   "cell_type": "code",
   "source": "var_mapping",
   "id": "b6b2fb5985bcb18e",
   "outputs": [
    {
     "data": {
      "text/plain": [
       "{('X14', 'X14', 'direct'): 1,\n",
       " ('X14', 'X14', 'latent'): 2,\n",
       " ('X14', 'X13', 'direct'): 3,\n",
       " ('X14', 'X13', 'latent'): 4,\n",
       " ('X14', 'X4', 'direct'): 5,\n",
       " ('X14', 'X4', 'latent'): 6,\n",
       " ('X14', 'X5', 'direct'): 7,\n",
       " ('X14', 'X5', 'latent'): 8,\n",
       " ('X14', 'X8', 'direct'): 9,\n",
       " ('X14', 'X8', 'latent'): 10,\n",
       " ('X14', 'X9', 'direct'): 11,\n",
       " ('X14', 'X9', 'latent'): 12,\n",
       " ('X14', 'X10', 'direct'): 13,\n",
       " ('X14', 'X10', 'latent'): 14,\n",
       " ('X14', 'X11', 'direct'): 15,\n",
       " ('X14', 'X11', 'latent'): 16,\n",
       " ('X14', 'X12', 'direct'): 17,\n",
       " ('X14', 'X12', 'latent'): 18,\n",
       " ('X14', 'X3', 'direct'): 19,\n",
       " ('X14', 'X3', 'latent'): 20,\n",
       " ('X14', 'X1', 'direct'): 21,\n",
       " ('X14', 'X1', 'latent'): 22,\n",
       " ('X14', 'X7', 'direct'): 23,\n",
       " ('X14', 'X7', 'latent'): 24,\n",
       " ('X14', 'X2', 'direct'): 25,\n",
       " ('X14', 'X2', 'latent'): 26,\n",
       " ('X14', 'X6', 'direct'): 27,\n",
       " ('X14', 'X6', 'latent'): 28,\n",
       " ('X13', 'X14', 'direct'): 29,\n",
       " ('X13', 'X14', 'latent'): 30,\n",
       " ('X13', 'X13', 'direct'): 31,\n",
       " ('X13', 'X13', 'latent'): 32,\n",
       " ('X13', 'X4', 'direct'): 33,\n",
       " ('X13', 'X4', 'latent'): 34,\n",
       " ('X13', 'X5', 'direct'): 35,\n",
       " ('X13', 'X5', 'latent'): 36,\n",
       " ('X13', 'X8', 'direct'): 37,\n",
       " ('X13', 'X8', 'latent'): 38,\n",
       " ('X13', 'X9', 'direct'): 39,\n",
       " ('X13', 'X9', 'latent'): 40,\n",
       " ('X13', 'X10', 'direct'): 41,\n",
       " ('X13', 'X10', 'latent'): 42,\n",
       " ('X13', 'X11', 'direct'): 43,\n",
       " ('X13', 'X11', 'latent'): 44,\n",
       " ('X13', 'X12', 'direct'): 45,\n",
       " ('X13', 'X12', 'latent'): 46,\n",
       " ('X13', 'X3', 'direct'): 47,\n",
       " ('X13', 'X3', 'latent'): 48,\n",
       " ('X13', 'X1', 'direct'): 49,\n",
       " ('X13', 'X1', 'latent'): 50,\n",
       " ('X13', 'X7', 'direct'): 51,\n",
       " ('X13', 'X7', 'latent'): 52,\n",
       " ('X13', 'X2', 'direct'): 53,\n",
       " ('X13', 'X2', 'latent'): 54,\n",
       " ('X13', 'X6', 'direct'): 55,\n",
       " ('X13', 'X6', 'latent'): 56,\n",
       " ('X4', 'X14', 'direct'): 57,\n",
       " ('X4', 'X14', 'latent'): 58,\n",
       " ('X4', 'X13', 'direct'): 59,\n",
       " ('X4', 'X13', 'latent'): 60,\n",
       " ('X4', 'X4', 'direct'): 61,\n",
       " ('X4', 'X4', 'latent'): 62,\n",
       " ('X4', 'X5', 'direct'): 63,\n",
       " ('X4', 'X5', 'latent'): 64,\n",
       " ('X4', 'X8', 'direct'): 65,\n",
       " ('X4', 'X8', 'latent'): 66,\n",
       " ('X4', 'X9', 'direct'): 67,\n",
       " ('X4', 'X9', 'latent'): 68,\n",
       " ('X4', 'X10', 'direct'): 69,\n",
       " ('X4', 'X10', 'latent'): 70,\n",
       " ('X4', 'X11', 'direct'): 71,\n",
       " ('X4', 'X11', 'latent'): 72,\n",
       " ('X4', 'X12', 'direct'): 73,\n",
       " ('X4', 'X12', 'latent'): 74,\n",
       " ('X4', 'X3', 'direct'): 75,\n",
       " ('X4', 'X3', 'latent'): 76,\n",
       " ('X4', 'X1', 'direct'): 77,\n",
       " ('X4', 'X1', 'latent'): 78,\n",
       " ('X4', 'X7', 'direct'): 79,\n",
       " ('X4', 'X7', 'latent'): 80,\n",
       " ('X4', 'X2', 'direct'): 81,\n",
       " ('X4', 'X2', 'latent'): 82,\n",
       " ('X4', 'X6', 'direct'): 83,\n",
       " ('X4', 'X6', 'latent'): 84,\n",
       " ('X5', 'X14', 'direct'): 85,\n",
       " ('X5', 'X14', 'latent'): 86,\n",
       " ('X5', 'X13', 'direct'): 87,\n",
       " ('X5', 'X13', 'latent'): 88,\n",
       " ('X5', 'X4', 'direct'): 89,\n",
       " ('X5', 'X4', 'latent'): 90,\n",
       " ('X5', 'X5', 'direct'): 91,\n",
       " ('X5', 'X5', 'latent'): 92,\n",
       " ('X5', 'X8', 'direct'): 93,\n",
       " ('X5', 'X8', 'latent'): 94,\n",
       " ('X5', 'X9', 'direct'): 95,\n",
       " ('X5', 'X9', 'latent'): 96,\n",
       " ('X5', 'X10', 'direct'): 97,\n",
       " ('X5', 'X10', 'latent'): 98,\n",
       " ('X5', 'X11', 'direct'): 99,\n",
       " ('X5', 'X11', 'latent'): 100,\n",
       " ('X5', 'X12', 'direct'): 101,\n",
       " ('X5', 'X12', 'latent'): 102,\n",
       " ('X5', 'X3', 'direct'): 103,\n",
       " ('X5', 'X3', 'latent'): 104,\n",
       " ('X5', 'X1', 'direct'): 105,\n",
       " ('X5', 'X1', 'latent'): 106,\n",
       " ('X5', 'X7', 'direct'): 107,\n",
       " ('X5', 'X7', 'latent'): 108,\n",
       " ('X5', 'X2', 'direct'): 109,\n",
       " ('X5', 'X2', 'latent'): 110,\n",
       " ('X5', 'X6', 'direct'): 111,\n",
       " ('X5', 'X6', 'latent'): 112,\n",
       " ('X8', 'X14', 'direct'): 113,\n",
       " ('X8', 'X14', 'latent'): 114,\n",
       " ('X8', 'X13', 'direct'): 115,\n",
       " ('X8', 'X13', 'latent'): 116,\n",
       " ('X8', 'X4', 'direct'): 117,\n",
       " ('X8', 'X4', 'latent'): 118,\n",
       " ('X8', 'X5', 'direct'): 119,\n",
       " ('X8', 'X5', 'latent'): 120,\n",
       " ('X8', 'X8', 'direct'): 121,\n",
       " ('X8', 'X8', 'latent'): 122,\n",
       " ('X8', 'X9', 'direct'): 123,\n",
       " ('X8', 'X9', 'latent'): 124,\n",
       " ('X8', 'X10', 'direct'): 125,\n",
       " ('X8', 'X10', 'latent'): 126,\n",
       " ('X8', 'X11', 'direct'): 127,\n",
       " ('X8', 'X11', 'latent'): 128,\n",
       " ('X8', 'X12', 'direct'): 129,\n",
       " ('X8', 'X12', 'latent'): 130,\n",
       " ('X8', 'X3', 'direct'): 131,\n",
       " ('X8', 'X3', 'latent'): 132,\n",
       " ('X8', 'X1', 'direct'): 133,\n",
       " ('X8', 'X1', 'latent'): 134,\n",
       " ('X8', 'X7', 'direct'): 135,\n",
       " ('X8', 'X7', 'latent'): 136,\n",
       " ('X8', 'X2', 'direct'): 137,\n",
       " ('X8', 'X2', 'latent'): 138,\n",
       " ('X8', 'X6', 'direct'): 139,\n",
       " ('X8', 'X6', 'latent'): 140,\n",
       " ('X9', 'X14', 'direct'): 141,\n",
       " ('X9', 'X14', 'latent'): 142,\n",
       " ('X9', 'X13', 'direct'): 143,\n",
       " ('X9', 'X13', 'latent'): 144,\n",
       " ('X9', 'X4', 'direct'): 145,\n",
       " ('X9', 'X4', 'latent'): 146,\n",
       " ('X9', 'X5', 'direct'): 147,\n",
       " ('X9', 'X5', 'latent'): 148,\n",
       " ('X9', 'X8', 'direct'): 149,\n",
       " ('X9', 'X8', 'latent'): 150,\n",
       " ('X9', 'X9', 'direct'): 151,\n",
       " ('X9', 'X9', 'latent'): 152,\n",
       " ('X9', 'X10', 'direct'): 153,\n",
       " ('X9', 'X10', 'latent'): 154,\n",
       " ('X9', 'X11', 'direct'): 155,\n",
       " ('X9', 'X11', 'latent'): 156,\n",
       " ('X9', 'X12', 'direct'): 157,\n",
       " ('X9', 'X12', 'latent'): 158,\n",
       " ('X9', 'X3', 'direct'): 159,\n",
       " ('X9', 'X3', 'latent'): 160,\n",
       " ('X9', 'X1', 'direct'): 161,\n",
       " ('X9', 'X1', 'latent'): 162,\n",
       " ('X9', 'X7', 'direct'): 163,\n",
       " ('X9', 'X7', 'latent'): 164,\n",
       " ('X9', 'X2', 'direct'): 165,\n",
       " ('X9', 'X2', 'latent'): 166,\n",
       " ('X9', 'X6', 'direct'): 167,\n",
       " ('X9', 'X6', 'latent'): 168,\n",
       " ('X10', 'X14', 'direct'): 169,\n",
       " ('X10', 'X14', 'latent'): 170,\n",
       " ('X10', 'X13', 'direct'): 171,\n",
       " ('X10', 'X13', 'latent'): 172,\n",
       " ('X10', 'X4', 'direct'): 173,\n",
       " ('X10', 'X4', 'latent'): 174,\n",
       " ('X10', 'X5', 'direct'): 175,\n",
       " ('X10', 'X5', 'latent'): 176,\n",
       " ('X10', 'X8', 'direct'): 177,\n",
       " ('X10', 'X8', 'latent'): 178,\n",
       " ('X10', 'X9', 'direct'): 179,\n",
       " ('X10', 'X9', 'latent'): 180,\n",
       " ('X10', 'X10', 'direct'): 181,\n",
       " ('X10', 'X10', 'latent'): 182,\n",
       " ('X10', 'X11', 'direct'): 183,\n",
       " ('X10', 'X11', 'latent'): 184,\n",
       " ('X10', 'X12', 'direct'): 185,\n",
       " ('X10', 'X12', 'latent'): 186,\n",
       " ('X10', 'X3', 'direct'): 187,\n",
       " ('X10', 'X3', 'latent'): 188,\n",
       " ('X10', 'X1', 'direct'): 189,\n",
       " ('X10', 'X1', 'latent'): 190,\n",
       " ('X10', 'X7', 'direct'): 191,\n",
       " ('X10', 'X7', 'latent'): 192,\n",
       " ('X10', 'X2', 'direct'): 193,\n",
       " ('X10', 'X2', 'latent'): 194,\n",
       " ('X10', 'X6', 'direct'): 195,\n",
       " ('X10', 'X6', 'latent'): 196,\n",
       " ('X11', 'X14', 'direct'): 197,\n",
       " ('X11', 'X14', 'latent'): 198,\n",
       " ('X11', 'X13', 'direct'): 199,\n",
       " ('X11', 'X13', 'latent'): 200,\n",
       " ('X11', 'X4', 'direct'): 201,\n",
       " ('X11', 'X4', 'latent'): 202,\n",
       " ('X11', 'X5', 'direct'): 203,\n",
       " ('X11', 'X5', 'latent'): 204,\n",
       " ('X11', 'X8', 'direct'): 205,\n",
       " ('X11', 'X8', 'latent'): 206,\n",
       " ('X11', 'X9', 'direct'): 207,\n",
       " ('X11', 'X9', 'latent'): 208,\n",
       " ('X11', 'X10', 'direct'): 209,\n",
       " ('X11', 'X10', 'latent'): 210,\n",
       " ('X11', 'X11', 'direct'): 211,\n",
       " ('X11', 'X11', 'latent'): 212,\n",
       " ('X11', 'X12', 'direct'): 213,\n",
       " ('X11', 'X12', 'latent'): 214,\n",
       " ('X11', 'X3', 'direct'): 215,\n",
       " ('X11', 'X3', 'latent'): 216,\n",
       " ('X11', 'X1', 'direct'): 217,\n",
       " ('X11', 'X1', 'latent'): 218,\n",
       " ('X11', 'X7', 'direct'): 219,\n",
       " ('X11', 'X7', 'latent'): 220,\n",
       " ('X11', 'X2', 'direct'): 221,\n",
       " ('X11', 'X2', 'latent'): 222,\n",
       " ('X11', 'X6', 'direct'): 223,\n",
       " ('X11', 'X6', 'latent'): 224,\n",
       " ('X12', 'X14', 'direct'): 225,\n",
       " ('X12', 'X14', 'latent'): 226,\n",
       " ('X12', 'X13', 'direct'): 227,\n",
       " ('X12', 'X13', 'latent'): 228,\n",
       " ('X12', 'X4', 'direct'): 229,\n",
       " ('X12', 'X4', 'latent'): 230,\n",
       " ('X12', 'X5', 'direct'): 231,\n",
       " ('X12', 'X5', 'latent'): 232,\n",
       " ('X12', 'X8', 'direct'): 233,\n",
       " ('X12', 'X8', 'latent'): 234,\n",
       " ('X12', 'X9', 'direct'): 235,\n",
       " ('X12', 'X9', 'latent'): 236,\n",
       " ('X12', 'X10', 'direct'): 237,\n",
       " ('X12', 'X10', 'latent'): 238,\n",
       " ('X12', 'X11', 'direct'): 239,\n",
       " ('X12', 'X11', 'latent'): 240,\n",
       " ('X12', 'X12', 'direct'): 241,\n",
       " ('X12', 'X12', 'latent'): 242,\n",
       " ('X12', 'X3', 'direct'): 243,\n",
       " ('X12', 'X3', 'latent'): 244,\n",
       " ('X12', 'X1', 'direct'): 245,\n",
       " ('X12', 'X1', 'latent'): 246,\n",
       " ('X12', 'X7', 'direct'): 247,\n",
       " ('X12', 'X7', 'latent'): 248,\n",
       " ('X12', 'X2', 'direct'): 249,\n",
       " ('X12', 'X2', 'latent'): 250,\n",
       " ('X12', 'X6', 'direct'): 251,\n",
       " ('X12', 'X6', 'latent'): 252,\n",
       " ('X3', 'X14', 'direct'): 253,\n",
       " ('X3', 'X14', 'latent'): 254,\n",
       " ('X3', 'X13', 'direct'): 255,\n",
       " ('X3', 'X13', 'latent'): 256,\n",
       " ('X3', 'X4', 'direct'): 257,\n",
       " ('X3', 'X4', 'latent'): 258,\n",
       " ('X3', 'X5', 'direct'): 259,\n",
       " ('X3', 'X5', 'latent'): 260,\n",
       " ('X3', 'X8', 'direct'): 261,\n",
       " ('X3', 'X8', 'latent'): 262,\n",
       " ('X3', 'X9', 'direct'): 263,\n",
       " ('X3', 'X9', 'latent'): 264,\n",
       " ('X3', 'X10', 'direct'): 265,\n",
       " ('X3', 'X10', 'latent'): 266,\n",
       " ('X3', 'X11', 'direct'): 267,\n",
       " ('X3', 'X11', 'latent'): 268,\n",
       " ('X3', 'X12', 'direct'): 269,\n",
       " ('X3', 'X12', 'latent'): 270,\n",
       " ('X3', 'X3', 'direct'): 271,\n",
       " ('X3', 'X3', 'latent'): 272,\n",
       " ('X3', 'X1', 'direct'): 273,\n",
       " ('X3', 'X1', 'latent'): 274,\n",
       " ('X3', 'X7', 'direct'): 275,\n",
       " ('X3', 'X7', 'latent'): 276,\n",
       " ('X3', 'X2', 'direct'): 277,\n",
       " ('X3', 'X2', 'latent'): 278,\n",
       " ('X3', 'X6', 'direct'): 279,\n",
       " ('X3', 'X6', 'latent'): 280,\n",
       " ('X1', 'X14', 'direct'): 281,\n",
       " ('X1', 'X14', 'latent'): 282,\n",
       " ('X1', 'X13', 'direct'): 283,\n",
       " ('X1', 'X13', 'latent'): 284,\n",
       " ('X1', 'X4', 'direct'): 285,\n",
       " ('X1', 'X4', 'latent'): 286,\n",
       " ('X1', 'X5', 'direct'): 287,\n",
       " ('X1', 'X5', 'latent'): 288,\n",
       " ('X1', 'X8', 'direct'): 289,\n",
       " ('X1', 'X8', 'latent'): 290,\n",
       " ('X1', 'X9', 'direct'): 291,\n",
       " ('X1', 'X9', 'latent'): 292,\n",
       " ('X1', 'X10', 'direct'): 293,\n",
       " ('X1', 'X10', 'latent'): 294,\n",
       " ('X1', 'X11', 'direct'): 295,\n",
       " ('X1', 'X11', 'latent'): 296,\n",
       " ('X1', 'X12', 'direct'): 297,\n",
       " ('X1', 'X12', 'latent'): 298,\n",
       " ('X1', 'X3', 'direct'): 299,\n",
       " ('X1', 'X3', 'latent'): 300,\n",
       " ('X1', 'X1', 'direct'): 301,\n",
       " ('X1', 'X1', 'latent'): 302,\n",
       " ('X1', 'X7', 'direct'): 303,\n",
       " ('X1', 'X7', 'latent'): 304,\n",
       " ('X1', 'X2', 'direct'): 305,\n",
       " ('X1', 'X2', 'latent'): 306,\n",
       " ('X1', 'X6', 'direct'): 307,\n",
       " ('X1', 'X6', 'latent'): 308,\n",
       " ('X7', 'X14', 'direct'): 309,\n",
       " ('X7', 'X14', 'latent'): 310,\n",
       " ('X7', 'X13', 'direct'): 311,\n",
       " ('X7', 'X13', 'latent'): 312,\n",
       " ('X7', 'X4', 'direct'): 313,\n",
       " ('X7', 'X4', 'latent'): 314,\n",
       " ('X7', 'X5', 'direct'): 315,\n",
       " ('X7', 'X5', 'latent'): 316,\n",
       " ('X7', 'X8', 'direct'): 317,\n",
       " ('X7', 'X8', 'latent'): 318,\n",
       " ('X7', 'X9', 'direct'): 319,\n",
       " ('X7', 'X9', 'latent'): 320,\n",
       " ('X7', 'X10', 'direct'): 321,\n",
       " ('X7', 'X10', 'latent'): 322,\n",
       " ('X7', 'X11', 'direct'): 323,\n",
       " ('X7', 'X11', 'latent'): 324,\n",
       " ('X7', 'X12', 'direct'): 325,\n",
       " ('X7', 'X12', 'latent'): 326,\n",
       " ('X7', 'X3', 'direct'): 327,\n",
       " ('X7', 'X3', 'latent'): 328,\n",
       " ('X7', 'X1', 'direct'): 329,\n",
       " ('X7', 'X1', 'latent'): 330,\n",
       " ('X7', 'X7', 'direct'): 331,\n",
       " ('X7', 'X7', 'latent'): 332,\n",
       " ('X7', 'X2', 'direct'): 333,\n",
       " ('X7', 'X2', 'latent'): 334,\n",
       " ('X7', 'X6', 'direct'): 335,\n",
       " ('X7', 'X6', 'latent'): 336,\n",
       " ('X2', 'X14', 'direct'): 337,\n",
       " ('X2', 'X14', 'latent'): 338,\n",
       " ('X2', 'X13', 'direct'): 339,\n",
       " ('X2', 'X13', 'latent'): 340,\n",
       " ('X2', 'X4', 'direct'): 341,\n",
       " ('X2', 'X4', 'latent'): 342,\n",
       " ('X2', 'X5', 'direct'): 343,\n",
       " ('X2', 'X5', 'latent'): 344,\n",
       " ('X2', 'X8', 'direct'): 345,\n",
       " ('X2', 'X8', 'latent'): 346,\n",
       " ('X2', 'X9', 'direct'): 347,\n",
       " ('X2', 'X9', 'latent'): 348,\n",
       " ('X2', 'X10', 'direct'): 349,\n",
       " ('X2', 'X10', 'latent'): 350,\n",
       " ('X2', 'X11', 'direct'): 351,\n",
       " ('X2', 'X11', 'latent'): 352,\n",
       " ('X2', 'X12', 'direct'): 353,\n",
       " ('X2', 'X12', 'latent'): 354,\n",
       " ('X2', 'X3', 'direct'): 355,\n",
       " ('X2', 'X3', 'latent'): 356,\n",
       " ('X2', 'X1', 'direct'): 357,\n",
       " ('X2', 'X1', 'latent'): 358,\n",
       " ('X2', 'X7', 'direct'): 359,\n",
       " ('X2', 'X7', 'latent'): 360,\n",
       " ('X2', 'X2', 'direct'): 361,\n",
       " ('X2', 'X2', 'latent'): 362,\n",
       " ('X2', 'X6', 'direct'): 363,\n",
       " ('X2', 'X6', 'latent'): 364,\n",
       " ('X6', 'X14', 'direct'): 365,\n",
       " ('X6', 'X14', 'latent'): 366,\n",
       " ('X6', 'X13', 'direct'): 367,\n",
       " ('X6', 'X13', 'latent'): 368,\n",
       " ('X6', 'X4', 'direct'): 369,\n",
       " ('X6', 'X4', 'latent'): 370,\n",
       " ('X6', 'X5', 'direct'): 371,\n",
       " ('X6', 'X5', 'latent'): 372,\n",
       " ('X6', 'X8', 'direct'): 373,\n",
       " ('X6', 'X8', 'latent'): 374,\n",
       " ('X6', 'X9', 'direct'): 375,\n",
       " ('X6', 'X9', 'latent'): 376,\n",
       " ('X6', 'X10', 'direct'): 377,\n",
       " ('X6', 'X10', 'latent'): 378,\n",
       " ('X6', 'X11', 'direct'): 379,\n",
       " ('X6', 'X11', 'latent'): 380,\n",
       " ('X6', 'X12', 'direct'): 381,\n",
       " ('X6', 'X12', 'latent'): 382,\n",
       " ('X6', 'X3', 'direct'): 383,\n",
       " ('X6', 'X3', 'latent'): 384,\n",
       " ('X6', 'X1', 'direct'): 385,\n",
       " ('X6', 'X1', 'latent'): 386,\n",
       " ('X6', 'X7', 'direct'): 387,\n",
       " ('X6', 'X7', 'latent'): 388,\n",
       " ('X6', 'X2', 'direct'): 389,\n",
       " ('X6', 'X2', 'latent'): 390,\n",
       " ('X6', 'X6', 'direct'): 391,\n",
       " ('X6', 'X6', 'latent'): 392}"
      ]
     },
     "execution_count": 33,
     "metadata": {},
     "output_type": "execute_result"
    }
   ],
   "execution_count": 33
  },
  {
   "metadata": {
    "ExecuteTime": {
     "end_time": "2025-02-16T10:38:20.606276Z",
     "start_time": "2025-02-16T10:38:20.595284Z"
    }
   },
   "cell_type": "code",
   "source": [
    "def add_edge_constraints(edges):\n",
    "    cnf = []\n",
    "    for n1, n2, edge_type in edges:\n",
    "            if edge_type == '-->':\n",
    "                # Direct causation must be true\n",
    "                cnf.append([var_mapping[(n1, n2, 'direct')]])\n",
    "                # No latent common cause\n",
    "                cnf.append([-var_mapping[(n1, n2, 'latent')]])\n",
    "\n",
    "            elif edge_type == 'o->':\n",
    "                # n2 cannot be ancestor of n1\n",
    "                cnf.append([-var_mapping[(n2, n1, 'direct')]])\n",
    "\n",
    "            elif edge_type == 'o-o':\n",
    "                # Either direct causation or latent common cause must exist\n",
    "                cnf.append([\n",
    "                    var_mapping[(n1, n2, 'direct')],\n",
    "                    var_mapping[(n1, n2, 'latent')]\n",
    "                ])\n",
    "\n",
    "            elif edge_type == '<->':\n",
    "                # Must have latent common cause\n",
    "                cnf.append([var_mapping[(n1, n2, 'latent')]])\n",
    "                # No direct causation in either direction\n",
    "                cnf.append([-var_mapping[(n2, n1, 'direct')]])\n",
    "                cnf.append([-var_mapping[(n1, n2, 'direct')]])\n",
    "\n",
    "    return cnf"
   ],
   "id": "44f054bc431ed632",
   "outputs": [],
   "execution_count": 34
  },
  {
   "metadata": {
    "ExecuteTime": {
     "end_time": "2025-02-16T10:38:21.385060Z",
     "start_time": "2025-02-16T10:38:21.379501Z"
    }
   },
   "cell_type": "code",
   "source": "cnf = add_edge_constraints(formatted_edges)",
   "id": "4344247b6f68740c",
   "outputs": [],
   "execution_count": 35
  },
  {
   "metadata": {
    "ExecuteTime": {
     "end_time": "2025-02-16T10:38:41.677108Z",
     "start_time": "2025-02-16T10:38:41.665591Z"
    }
   },
   "cell_type": "code",
   "source": "cnf",
   "id": "468b1c4fd38621",
   "outputs": [
    {
     "data": {
      "text/plain": [
       "[[161],\n",
       " [-162],\n",
       " [297],\n",
       " [-298],\n",
       " [345, 346],\n",
       " [351],\n",
       " [-352],\n",
       " [103],\n",
       " [-104],\n",
       " [131],\n",
       " [-132],\n",
       " [264],\n",
       " [-159],\n",
       " [-263],\n",
       " [265],\n",
       " [-266],\n",
       " [-5],\n",
       " [315],\n",
       " [-316],\n",
       " [119],\n",
       " [-120],\n",
       " [368],\n",
       " [-55],\n",
       " [-367],\n",
       " [27],\n",
       " [-28],\n",
       " [135],\n",
       " [-136],\n",
       " [312],\n",
       " [-51],\n",
       " [-311],\n",
       " [153],\n",
       " [-154],\n",
       " [156],\n",
       " [-207],\n",
       " [-155],\n",
       " [15],\n",
       " [-16],\n",
       " [29],\n",
       " [-30]]"
      ]
     },
     "execution_count": 36,
     "metadata": {},
     "output_type": "execute_result"
    }
   ],
   "execution_count": 36
  },
  {
   "metadata": {},
   "cell_type": "code",
   "outputs": [],
   "execution_count": null,
   "source": "",
   "id": "75607aa18204528"
  }
 ],
 "metadata": {
  "kernelspec": {
   "display_name": "Python 3",
   "language": "python",
   "name": "python3"
  },
  "language_info": {
   "codemirror_mode": {
    "name": "ipython",
    "version": 2
   },
   "file_extension": ".py",
   "mimetype": "text/x-python",
   "name": "python",
   "nbconvert_exporter": "python",
   "pygments_lexer": "ipython2",
   "version": "2.7.6"
  }
 },
 "nbformat": 4,
 "nbformat_minor": 5
}
