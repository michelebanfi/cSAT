{
 "cells": [
  {
   "cell_type": "code",
   "execution_count": 1,
   "metadata": {},
   "outputs": [
    {
     "name": "stderr",
     "output_type": "stream",
     "text": [
      "/opt/anaconda3/envs/tesi/lib/python3.12/site-packages/tqdm/auto.py:21: TqdmWarning: IProgress not found. Please update jupyter and ipywidgets. See https://ipywidgets.readthedocs.io/en/stable/user_install.html\n",
      "  from .autonotebook import tqdm as notebook_tqdm\n"
     ]
    }
   ],
   "source": [
    "# basic imports\n",
    "import numpy as np\n",
    "\n",
    "# causallearn imports\n",
    "from causallearn.search.ConstraintBased.FCI import fci\n",
    "\n",
    "# utils imports\n",
    "from utils import basic_causal_dataframe"
   ]
  },
  {
   "cell_type": "code",
   "execution_count": 2,
   "metadata": {},
   "outputs": [],
   "source": [
    "np.random.seed(0)"
   ]
  },
  {
   "cell_type": "code",
   "execution_count": 3,
   "metadata": {},
   "outputs": [],
   "source": [
    "data = basic_causal_dataframe()\n"
   ]
  },
  {
   "cell_type": "code",
   "execution_count": 4,
   "metadata": {},
   "outputs": [
    {
     "name": "stderr",
     "output_type": "stream",
     "text": [
      "Depth=0, working on node 2:  67%|██████▋   | 2/3 [00:00<00:00, 174.06it/s]"
     ]
    },
    {
     "name": "stderr",
     "output_type": "stream",
     "text": [
      "Depth=0, working on node 2: 100%|██████████| 3/3 [00:00<00:00, 197.28it/s]\n"
     ]
    }
   ],
   "source": [
    "# extract the variable names\n",
    "variable_names = list(data.columns)\n",
    "\n",
    "# Pass the variable names directly to the FCI algorithm\n",
    "g, edges = fci(data.to_numpy(), node_names=variable_names)"
   ]
  },
  {
   "cell_type": "code",
   "execution_count": 5,
   "metadata": {},
   "outputs": [
    {
     "data": {
      "text/plain": [
       "['X', 'Y', 'Z']"
      ]
     },
     "execution_count": 5,
     "metadata": {},
     "output_type": "execute_result"
    }
   ],
   "source": [
    "# Verify node names\n",
    "[node.get_name() for node in g.nodes]"
   ]
  },
  {
   "cell_type": "code",
   "execution_count": 6,
   "metadata": {},
   "outputs": [],
   "source": [
    "from causallearn.utils.GraphUtils import GraphUtils\n",
    "\n",
    "pdy = GraphUtils.to_pydot(g)\n",
    "pdy.write_png('simple_test.png')"
   ]
  },
  {
   "cell_type": "code",
   "execution_count": 7,
   "metadata": {},
   "outputs": [
    {
     "data": {
      "text/plain": [
       "array([[0, 2, 2],\n",
       "       [2, 0, 2],\n",
       "       [2, 2, 0]])"
      ]
     },
     "execution_count": 7,
     "metadata": {},
     "output_type": "execute_result"
    }
   ],
   "source": [
    "g.graph"
   ]
  },
  {
   "cell_type": "code",
   "execution_count": 9,
   "metadata": {},
   "outputs": [],
   "source": [
    "edges = []\n",
    "indices = np.where(g.graph != 0)\n",
    "processed_pairs = set()"
   ]
  },
  {
   "cell_type": "code",
   "execution_count": 10,
   "metadata": {},
   "outputs": [],
   "source": [
    "for i, j in zip(indices[0], indices[1]):\n",
    "    node_pair = frozenset([i.item(), j.item()])\n",
    "    \n",
    "    if node_pair in processed_pairs:\n",
    "        continue\n",
    "    \n",
    "    if g.graph[i, j] == -1 and g.graph[j, i] == 1:\n",
    "        edges.append({\n",
    "            'from': g.nodes[i].get_name(),\n",
    "            'to': g.nodes[j].get_name(),\n",
    "            'type': \"->\"\n",
    "        })\n",
    "    elif g.graph[i, j] == 2 and g.graph[j, i] == 1:\n",
    "        edges.append({\n",
    "            'from': g.nodes[j].get_name(),\n",
    "            'to': g.nodes[i].get_name(),\n",
    "            'type': \"o->\"\n",
    "        })\n",
    "    elif g.graph[i, j] == 2 and g.graph[j, i] == 2:\n",
    "        edges.append({\n",
    "            'from': g.nodes[i].get_name(),\n",
    "            'to': g.nodes[j].get_name(),\n",
    "            'type': \"o-o\"\n",
    "        })\n",
    "        processed_pairs.add(node_pair)\n",
    "    elif g.graph[i, j] == 1 and g.graph[j, i] == 1:\n",
    "        edges.append({\n",
    "            'from': g.nodes[i].get_name(),\n",
    "            'to': g.nodes[j].get_name(),\n",
    "            'type': \"<->\"\n",
    "        })\n",
    "        processed_pairs.add(node_pair)"
   ]
  },
  {
   "cell_type": "code",
   "execution_count": 11,
   "metadata": {},
   "outputs": [
    {
     "data": {
      "text/plain": [
       "[{'from': 'X', 'to': 'Y', 'type': 'o-o'},\n",
       " {'from': 'X', 'to': 'Z', 'type': 'o-o'},\n",
       " {'from': 'Y', 'to': 'Z', 'type': 'o-o'}]"
      ]
     },
     "execution_count": 11,
     "metadata": {},
     "output_type": "execute_result"
    }
   ],
   "source": [
    "edges"
   ]
  },
  {
   "cell_type": "code",
   "execution_count": 12,
   "metadata": {},
   "outputs": [],
   "source": [
    "# create a list of possible causal relationship in the variables\n",
    "causal_dict = {}\n",
    "for node1 in variable_names:\n",
    "    for node2 in variable_names:\n",
    "        for edge in ['direct', 'latent']:\n",
    "            causal_dict[(node1, node2, edge)] = len(causal_dict) + 1"
   ]
  },
  {
   "cell_type": "code",
   "execution_count": 14,
   "metadata": {},
   "outputs": [
    {
     "data": {
      "text/plain": [
       "{1: ('X', 'X', 'direct'),\n",
       " 2: ('X', 'X', 'latent'),\n",
       " 3: ('X', 'Y', 'direct'),\n",
       " 4: ('X', 'Y', 'latent'),\n",
       " 5: ('X', 'Z', 'direct'),\n",
       " 6: ('X', 'Z', 'latent'),\n",
       " 7: ('Y', 'X', 'direct'),\n",
       " 8: ('Y', 'X', 'latent'),\n",
       " 9: ('Y', 'Y', 'direct'),\n",
       " 10: ('Y', 'Y', 'latent'),\n",
       " 11: ('Y', 'Z', 'direct'),\n",
       " 12: ('Y', 'Z', 'latent'),\n",
       " 13: ('Z', 'X', 'direct'),\n",
       " 14: ('Z', 'X', 'latent'),\n",
       " 15: ('Z', 'Y', 'direct'),\n",
       " 16: ('Z', 'Y', 'latent'),\n",
       " 17: ('Z', 'Z', 'direct'),\n",
       " 18: ('Z', 'Z', 'latent')}"
      ]
     },
     "execution_count": 14,
     "metadata": {},
     "output_type": "execute_result"
    }
   ],
   "source": [
    "reversed_causal_dict = {v: k for k, v in causal_dict.items()}\n",
    "reversed_causal_dict"
   ]
  },
  {
   "cell_type": "code",
   "execution_count": null,
   "metadata": {},
   "outputs": [],
   "source": []
  }
 ],
 "metadata": {
  "kernelspec": {
   "display_name": "tesi",
   "language": "python",
   "name": "python3"
  },
  "language_info": {
   "name": "python",
   "version": "3.12.9"
  }
 },
 "nbformat": 4,
 "nbformat_minor": 2
}
