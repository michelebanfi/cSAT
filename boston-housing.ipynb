{
 "cells": [
  {
   "cell_type": "code",
   "execution_count": 1,
   "id": "bb2b3950",
   "metadata": {},
   "outputs": [
    {
     "name": "stderr",
     "output_type": "stream",
     "text": [
      "/home/lino/cSAT/venv-3.10/lib/python3.10/site-packages/tqdm/auto.py:21: TqdmWarning: IProgress not found. Please update jupyter and ipywidgets. See https://ipywidgets.readthedocs.io/en/stable/user_install.html\n",
      "  from .autonotebook import tqdm as notebook_tqdm\n"
     ]
    }
   ],
   "source": [
    "# imports\n",
    "from causallearn.search.ConstraintBased.PC import pc\n",
    "from causallearn.utils.cit import kci\n",
    "from causallearn.utils.GraphUtils import GraphUtils\n",
    "from causallearn.utils.Dataset import load_dataset\n",
    "\n",
    "from mixed import generate_mixed_causal_dataframe\n",
    "\n",
    "from IPython.display import Image, display\n",
    "\n",
    "from utils import basic_causal_dataframe, getCausalRelationship, visualize_quantum_solutions\n",
    "\n",
    "import numpy as np\n",
    "from dotenv import load_dotenv\n",
    "import os\n",
    "import pydot\n",
    "\n",
    "from SAT.classical import solveClassicalSAT\n",
    "from SAT.fixedPointQuantum import solveFixedQuantunSAT\n",
    "from SAT.validateSolution import validate_all_solutions\n",
    "\n",
    "from qiskit_ibm_runtime import QiskitRuntimeService\n"
   ]
  },
  {
   "cell_type": "code",
   "execution_count": 2,
   "id": "dd2d56e7",
   "metadata": {},
   "outputs": [],
   "source": [
    "def generate_graph_from_causes(direct_causes):\n",
    "    nodes = set()\n",
    "    for rel in direct_causes:\n",
    "        nodes.add(rel[\"node1\"])\n",
    "        nodes.add(rel[\"node2\"])\n",
    "    graph = pydot.Dot(\"my_graph\", graph_type=\"digraph\")\n",
    "    for node in nodes:\n",
    "        graph.add_node(pydot.Node(node))\n",
    "\n",
    "    for rel in direct_causes:\n",
    "        if rel[\"edge\"] == \"direct\" and rel[\"exists\"]:\n",
    "            graph.add_edge(pydot.Edge(rel[\"node1\"], rel[\"node2\"]))\n",
    "        # elif rel[\"edge\"] == \"latent\" and rel[\"exists\"]:\n",
    "        #     graph.add_edge(pydot.Edge(rel[\"node1\"], rel[\"node2\"], style=\"dotted\", arrowhead=\"none\"))\n",
    "    \n",
    "    return graph"
   ]
  },
  {
   "cell_type": "markdown",
   "id": "59a7cf50",
   "metadata": {},
   "source": [
    "# Load the boston housing dataset"
   ]
  },
  {
   "cell_type": "code",
   "execution_count": 3,
   "id": "a780435b",
   "metadata": {},
   "outputs": [],
   "source": [
    "# data, labels = load_dataset(\"boston_housing\")"
   ]
  },
  {
   "cell_type": "code",
   "execution_count": 4,
   "id": "0ac93a6f",
   "metadata": {},
   "outputs": [],
   "source": [
    "data = generate_mixed_causal_dataframe()"
   ]
  },
  {
   "cell_type": "code",
   "execution_count": 5,
   "id": "02be2580",
   "metadata": {},
   "outputs": [
    {
     "data": {
      "text/html": [
       "<div>\n",
       "<style scoped>\n",
       "    .dataframe tbody tr th:only-of-type {\n",
       "        vertical-align: middle;\n",
       "    }\n",
       "\n",
       "    .dataframe tbody tr th {\n",
       "        vertical-align: top;\n",
       "    }\n",
       "\n",
       "    .dataframe thead th {\n",
       "        text-align: right;\n",
       "    }\n",
       "</style>\n",
       "<table border=\"1\" class=\"dataframe\">\n",
       "  <thead>\n",
       "    <tr style=\"text-align: right;\">\n",
       "      <th></th>\n",
       "      <th>X</th>\n",
       "      <th>A</th>\n",
       "      <th>C</th>\n",
       "      <th>O</th>\n",
       "      <th>Y</th>\n",
       "    </tr>\n",
       "  </thead>\n",
       "  <tbody>\n",
       "    <tr>\n",
       "      <th>0</th>\n",
       "      <td>3.745401</td>\n",
       "      <td>0</td>\n",
       "      <td>0</td>\n",
       "      <td>1</td>\n",
       "      <td>-6.660834</td>\n",
       "    </tr>\n",
       "    <tr>\n",
       "      <th>1</th>\n",
       "      <td>9.507143</td>\n",
       "      <td>1</td>\n",
       "      <td>0</td>\n",
       "      <td>3</td>\n",
       "      <td>-16.305783</td>\n",
       "    </tr>\n",
       "    <tr>\n",
       "      <th>2</th>\n",
       "      <td>7.319939</td>\n",
       "      <td>0</td>\n",
       "      <td>2</td>\n",
       "      <td>2</td>\n",
       "      <td>-12.698094</td>\n",
       "    </tr>\n",
       "    <tr>\n",
       "      <th>3</th>\n",
       "      <td>5.986585</td>\n",
       "      <td>0</td>\n",
       "      <td>0</td>\n",
       "      <td>2</td>\n",
       "      <td>-12.056148</td>\n",
       "    </tr>\n",
       "    <tr>\n",
       "      <th>4</th>\n",
       "      <td>1.560186</td>\n",
       "      <td>0</td>\n",
       "      <td>0</td>\n",
       "      <td>0</td>\n",
       "      <td>-2.514401</td>\n",
       "    </tr>\n",
       "    <tr>\n",
       "      <th>...</th>\n",
       "      <td>...</td>\n",
       "      <td>...</td>\n",
       "      <td>...</td>\n",
       "      <td>...</td>\n",
       "      <td>...</td>\n",
       "    </tr>\n",
       "    <tr>\n",
       "      <th>995</th>\n",
       "      <td>0.915821</td>\n",
       "      <td>0</td>\n",
       "      <td>2</td>\n",
       "      <td>0</td>\n",
       "      <td>-0.017407</td>\n",
       "    </tr>\n",
       "    <tr>\n",
       "      <th>996</th>\n",
       "      <td>9.173136</td>\n",
       "      <td>0</td>\n",
       "      <td>0</td>\n",
       "      <td>3</td>\n",
       "      <td>-17.588464</td>\n",
       "    </tr>\n",
       "    <tr>\n",
       "      <th>997</th>\n",
       "      <td>1.368186</td>\n",
       "      <td>0</td>\n",
       "      <td>0</td>\n",
       "      <td>0</td>\n",
       "      <td>-1.941082</td>\n",
       "    </tr>\n",
       "    <tr>\n",
       "      <th>998</th>\n",
       "      <td>9.502374</td>\n",
       "      <td>1</td>\n",
       "      <td>0</td>\n",
       "      <td>3</td>\n",
       "      <td>-16.265281</td>\n",
       "    </tr>\n",
       "    <tr>\n",
       "      <th>999</th>\n",
       "      <td>4.460058</td>\n",
       "      <td>0</td>\n",
       "      <td>2</td>\n",
       "      <td>1</td>\n",
       "      <td>-7.688613</td>\n",
       "    </tr>\n",
       "  </tbody>\n",
       "</table>\n",
       "<p>1000 rows × 5 columns</p>\n",
       "</div>"
      ],
      "text/plain": [
       "            X  A  C  O          Y\n",
       "0    3.745401  0  0  1  -6.660834\n",
       "1    9.507143  1  0  3 -16.305783\n",
       "2    7.319939  0  2  2 -12.698094\n",
       "3    5.986585  0  0  2 -12.056148\n",
       "4    1.560186  0  0  0  -2.514401\n",
       "..        ... .. .. ..        ...\n",
       "995  0.915821  0  2  0  -0.017407\n",
       "996  9.173136  0  0  3 -17.588464\n",
       "997  1.368186  0  0  0  -1.941082\n",
       "998  9.502374  1  0  3 -16.265281\n",
       "999  4.460058  0  2  1  -7.688613\n",
       "\n",
       "[1000 rows x 5 columns]"
      ]
     },
     "execution_count": 5,
     "metadata": {},
     "output_type": "execute_result"
    }
   ],
   "source": [
    "data"
   ]
  },
  {
   "cell_type": "code",
   "execution_count": 6,
   "id": "4f2e2825",
   "metadata": {},
   "outputs": [],
   "source": [
    "# take a subset of the data to speed up the process\n",
    "# data = data[:150, :]"
   ]
  },
  {
   "cell_type": "code",
   "execution_count": 7,
   "id": "3468d861",
   "metadata": {},
   "outputs": [
    {
     "name": "stderr",
     "output_type": "stream",
     "text": [
      "Depth=2, working on node 4: 100%|██████████| 5/5 [00:06<00:00,  1.33s/it]  \n"
     ]
    }
   ],
   "source": [
    "# Convert DataFrame to numpy array and create labels\n",
    "labels = list(data.columns)\n",
    "data_array = data.values\n",
    "cg = pc(data_array, indep_test=kci, kernelZ=\"Polynomial\", show_progress=True)"
   ]
  },
  {
   "cell_type": "code",
   "execution_count": 8,
   "id": "c36751d7",
   "metadata": {},
   "outputs": [
    {
     "data": {
      "image/png": "[encoded data removed]",
      "text/plain": [
       "<IPython.core.display.Image object>"
      ]
     },
     "metadata": {},
     "output_type": "display_data"
    }
   ],
   "source": [
    "pyd = GraphUtils.to_pydot(cg.G, labels=labels)\n",
    "\n",
    "# show pyd image\n",
    "display(Image(pyd.create_png()))"
   ]
  },
  {
   "cell_type": "code",
   "execution_count": 9,
   "id": "a9cefe8c",
   "metadata": {},
   "outputs": [],
   "source": [
    "# change gtarph node names \n",
    "for i, node in enumerate(cg.G.nodes):\n",
    "    node.name = labels[i]"
   ]
  },
  {
   "cell_type": "code",
   "execution_count": 10,
   "id": "96d66f7b",
   "metadata": {},
   "outputs": [],
   "source": [
    "# save the node mapping and the reversed mapping\n",
    "node_mapping = {node.name: index for index, node in enumerate(cg.G.nodes)}\n",
    "reversed_node_mapping = {index: node.name for index, node in enumerate(cg.G.nodes)}"
   ]
  },
  {
   "cell_type": "code",
   "execution_count": 11,
   "id": "0bb44b14",
   "metadata": {},
   "outputs": [
    {
     "data": {
      "text/plain": [
       "{'X': 0, 'A': 1, 'C': 2, 'O': 3, 'Y': 4}"
      ]
     },
     "execution_count": 11,
     "metadata": {},
     "output_type": "execute_result"
    }
   ],
   "source": [
    "node_mapping"
   ]
  },
  {
   "cell_type": "code",
   "execution_count": 12,
   "id": "5025d3fb",
   "metadata": {},
   "outputs": [
    {
     "data": {
      "text/plain": [
       "array([[ 0,  0,  0, -1, -1],\n",
       "       [ 0,  0,  0, -1, -1],\n",
       "       [ 0,  0,  0,  0,  0],\n",
       "       [-1, -1,  0,  0, -1],\n",
       "       [ 1,  1,  0,  1,  0]])"
      ]
     },
     "execution_count": 12,
     "metadata": {},
     "output_type": "execute_result"
    }
   ],
   "source": [
    "cg.G.graph"
   ]
  },
  {
   "cell_type": "code",
   "execution_count": 13,
   "id": "cc3b96f3",
   "metadata": {},
   "outputs": [
    {
     "name": "stdout",
     "output_type": "stream",
     "text": [
      "X -- O\n",
      "X -> Y\n",
      "A -- O\n",
      "A -> Y\n",
      "O -> Y\n"
     ]
    }
   ],
   "source": [
    "# Now we need to extract the edges:\n",
    "edges = []\n",
    "indices = np.where(cg.G.graph != 0)\n",
    "processed_pairs = set()\n",
    "\n",
    "for i, j in zip(indices[0], indices[1]):\n",
    "    \n",
    "    node_pair = frozenset([i.item(), j.item()])\n",
    "    \n",
    "    if node_pair in processed_pairs:\n",
    "        continue\n",
    "        \n",
    "    if cg.G.graph[i,j] == -1 and cg.G.graph[j,i] == 1:\n",
    "        edges.append({\n",
    "            'from': reversed_node_mapping[i.item()],\n",
    "            'to': reversed_node_mapping[j.item()],\n",
    "            'type': \"->\"\n",
    "        })\n",
    "    \n",
    "    elif cg.G.graph[i,j] == -1 and cg.G.graph[j,i] == -1:\n",
    "        edges.append({\n",
    "            'from': reversed_node_mapping[i.item()],\n",
    "            'to': reversed_node_mapping[j.item()],\n",
    "            'type': \"--\"\n",
    "        })\n",
    "        processed_pairs.add(node_pair) \n",
    "    \n",
    "    elif cg.G.graph[i,j] == 1 and cg.G.graph[j,i] == 1:\n",
    "        edges.append({\n",
    "            'from': reversed_node_mapping[i.item()],\n",
    "            'to': reversed_node_mapping[j.item()],\n",
    "            'type': \"<->\"\n",
    "        })\n",
    "        processed_pairs.add(node_pair)\n",
    "\n",
    "for edge in edges:\n",
    "    print(f\"{edge['from']} {edge['type']} {edge['to']}\")"
   ]
  },
  {
   "cell_type": "code",
   "execution_count": 14,
   "id": "658964ae",
   "metadata": {},
   "outputs": [],
   "source": [
    "# create a list of possible causal relationship in the variables\n",
    "causal_dict = {}\n",
    "for node1 in node_mapping:\n",
    "    for node2 in node_mapping:\n",
    "        for edge in ['direct']:\n",
    "            causal_dict[(node1, node2, edge)] = len(causal_dict) + 1\n",
    "            \n",
    "reversed_causal_dict = {v: k for k, v in causal_dict.items()}"
   ]
  },
  {
   "cell_type": "markdown",
   "id": "b0b0b502",
   "metadata": {},
   "source": [
    "# Now we need to map the edges to the SAT clauses"
   ]
  },
  {
   "cell_type": "code",
   "execution_count": 15,
   "id": "2a6786e5",
   "metadata": {},
   "outputs": [],
   "source": [
    "SATClauses = []\n",
    "\n",
    "for item in edges:\n",
    "    if item['type'] == '->':\n",
    "        # there MUST be a direct edge from node1 to node2 and NO direct edge from node2 to node1\n",
    "        SATClauses.append([causal_dict[(item['from'], item['to'], 'direct')]])\n",
    "        SATClauses.append([-causal_dict[(item['to'], item['from'], 'direct')]])\n",
    "    elif item['type'] == '--':\n",
    "        # there MUST be exactly one direct edge: either from node1 to node2 OR from node2 to node1 (XOR)\n",
    "        # For XOR in CNF: (A OR B) AND (NOT A OR NOT B)\n",
    "        SATClauses.append([causal_dict[(item['from'], item['to'], 'direct')], causal_dict[(item['to'], item['from'], 'direct')]])\n",
    "        SATClauses.append([-causal_dict[(item['from'], item['to'], 'direct')], -causal_dict[(item['to'], item['from'], 'direct')]])\n",
    "    elif item['type'] == '<->':\n",
    "        # there MUST be a direct edge from node1 to node2 and a direct edge from node2 to node1\n",
    "        SATClauses.append([causal_dict[(item['from'], item['to'], 'direct')]])\n",
    "        SATClauses.append([causal_dict[(item['to'], item['from'], 'direct')]])"
   ]
  },
  {
   "cell_type": "code",
   "execution_count": 16,
   "id": "08a6ae05",
   "metadata": {},
   "outputs": [
    {
     "data": {
      "text/plain": [
       "10"
      ]
     },
     "execution_count": 16,
     "metadata": {},
     "output_type": "execute_result"
    }
   ],
   "source": [
    "len(SATClauses)"
   ]
  },
  {
   "cell_type": "code",
   "execution_count": 17,
   "id": "3ce91064",
   "metadata": {},
   "outputs": [
    {
     "name": "stdout",
     "output_type": "stream",
     "text": [
      "LOG: The new CNF is: [[1, 5], [-1, -5], [2], [-8], [3, 6], [-3, -6], [4], [-9], [7], [-10]]\n",
      "\n"
     ]
    }
   ],
   "source": [
    "variable_set = set()\n",
    "for clause in SATClauses:\n",
    "    for var in clause:\n",
    "        variable_set.add(abs(var))\n",
    "        \n",
    "new_var = list(range(1, len(variable_set) + 1))\n",
    "\n",
    "# create a mapping from old variable to new variable\n",
    "cnf_variable_mapping = {}\n",
    "for i, var in enumerate(variable_set):\n",
    "    cnf_variable_mapping[var] = new_var[i]\n",
    "    \n",
    "# reverse the mapping\n",
    "reverse_cnf_variable_mapping = {v: k for k, v in cnf_variable_mapping.items()}\n",
    "\n",
    "# print(f\"LOG: The variable mapping is: {cnf_variable_mapping}\\n\")\n",
    "# print(f\"LOG: The reverse variable mapping is: {reverse_cnf_variable_mapping}\\n\")\n",
    "\n",
    "# so the new cnf will be\n",
    "new_cnf = []\n",
    "for clause in SATClauses:\n",
    "    new_clause = []\n",
    "    for var in clause:\n",
    "        new_var = cnf_variable_mapping[abs(var)]\n",
    "        new_clause.append(new_var if var > 0 else -new_var)\n",
    "    new_cnf.append(new_clause)\n",
    "    \n",
    "print(f\"LOG: The new CNF is: {new_cnf}\\n\")"
   ]
  },
  {
   "cell_type": "code",
   "execution_count": 18,
   "id": "974877ce",
   "metadata": {},
   "outputs": [],
   "source": [
    "# solve the classical SAT\n",
    "is_sat, model = solveClassicalSAT(new_cnf)"
   ]
  },
  {
   "cell_type": "code",
   "execution_count": 19,
   "id": "c2aa1e76",
   "metadata": {},
   "outputs": [
    {
     "name": "stdout",
     "output_type": "stream",
     "text": [
      "LOG: Classical SAT solver returned: True\n",
      "\n",
      "LOG: The model is: [4, 5, 9, 10, -16, -17, 20, -21, -22, -24]\n",
      "\n"
     ]
    }
   ],
   "source": [
    "# just to map back the model\n",
    "temp = []\n",
    "for item in model:\n",
    "    temp.append(reverse_cnf_variable_mapping[abs(item)] if item > 0 else -reverse_cnf_variable_mapping[abs(item)])\n",
    "classical_model = temp\n",
    "\n",
    "# output the results:\n",
    "print(f\"LOG: Classical SAT solver returned: {is_sat}\\n\")\n",
    "print(f\"LOG: The model is: {classical_model}\\n\")"
   ]
  },
  {
   "cell_type": "code",
   "execution_count": 20,
   "id": "c59b5bec",
   "metadata": {},
   "outputs": [
    {
     "name": "stdout",
     "output_type": "stream",
     "text": [
      "LOG: Circuit with 20 qubits\n",
      "LOG: Circuit created, circuit depth: 505\n",
      "LOG: Silhouette score: 0.9954752373512381\n"
     ]
    }
   ],
   "source": [
    "is_sat, quantum_solutions = solveFixedQuantunSAT(new_cnf, 8, np.sqrt(0.1))"
   ]
  },
  {
   "cell_type": "markdown",
   "id": "c296c44c",
   "metadata": {},
   "source": [
    "Since there are too many qubits to simulate we're gonna need to use a real quantum hardware. Take into account that right now, Leonardo and other high-performance computers are able to simulate a maximum of 51 qubits."
   ]
  },
  {
   "cell_type": "code",
   "execution_count": 21,
   "id": "4ca78434",
   "metadata": {},
   "outputs": [],
   "source": [
    "load_dotenv()\n",
    "API_KEY = os.getenv(\"IBM_API_KEY\")\n",
    "\n",
    "QiskitRuntimeService.save_account(instance=\"crn:v1:bluemix:public:quantum-computing:us-east:a/efee6188d31b49b79c1eb68b9ca41f1a:57401bfd-f1c2-4d2f-a515-60bb6f5c784e::\", token=API_KEY, overwrite=True, set_as_default=True)"
   ]
  },
  {
   "cell_type": "code",
   "execution_count": 22,
   "id": "544534c3",
   "metadata": {},
   "outputs": [
    {
     "name": "stdout",
     "output_type": "stream",
     "text": [
      "LOG: Circuit with 20 qubits\n",
      "LOG: Circuit created, circuit depth: 505\n",
      "LOG: Running on IBM Quantum Hardware...\n",
      "Sampler job ID: d1n2kf95jdrc73dq45sg\n",
      "LOG: Silhouette score: 0.9997020694712879\n"
     ]
    }
   ],
   "source": [
    "is_sat, quantum_solutions = solveFixedQuantunSAT(new_cnf, 8, np.sqrt(0.1), simulation=False)"
   ]
  },
  {
   "cell_type": "code",
   "execution_count": 23,
   "id": "c6c269a7",
   "metadata": {},
   "outputs": [],
   "source": [
    "logging = True"
   ]
  },
  {
   "cell_type": "code",
   "execution_count": 24,
   "id": "55673368",
   "metadata": {},
   "outputs": [
    {
     "name": "stdout",
     "output_type": "stream",
     "text": [
      "\u001b[1m\u001b[4mLOG: The number of valid quantum solutions is: 41 out of 9942\u001b[0m\n",
      "\n",
      "LOG: Quantum SAT solver returned: True\n",
      "\n",
      "LOG: The models are: [[-4, 5, 9, 10, 16, -17, 20, -21, -22, -24], [4, 5, 9, 10, -16, -17, 20, -21, -22, -24], [4, 5, -9, 10, -16, 17, 20, -21, -22, -24], [-4, 5, 9, 10, 16, -17, 20, -21, -22, -24], [4, 5, 9, 10, -16, -17, 20, -21, -22, -24], [-4, 5, -9, 10, 16, 17, 20, -21, -22, -24], [4, 5, -9, 10, -16, 17, 20, -21, -22, -24], [4, 5, 9, 10, -16, -17, 20, -21, -22, -24], [4, 5, 9, 10, -16, -17, 20, -21, -22, -24], [-4, 5, 9, 10, 16, -17, 20, -21, -22, -24], [4, 5, -9, 10, -16, 17, 20, -21, -22, -24], [-4, 5, -9, 10, 16, 17, 20, -21, -22, -24], [4, 5, 9, 10, -16, -17, 20, -21, -22, -24], [-4, 5, 9, 10, 16, -17, 20, -21, -22, -24], [4, 5, 9, 10, -16, -17, 20, -21, -22, -24], [-4, 5, -9, 10, 16, 17, 20, -21, -22, -24], [-4, 5, -9, 10, 16, 17, 20, -21, -22, -24], [-4, 5, -9, 10, 16, 17, 20, -21, -22, -24], [-4, 5, -9, 10, 16, 17, 20, -21, -22, -24], [-4, 5, 9, 10, 16, -17, 20, -21, -22, -24], [4, 5, -9, 10, -16, 17, 20, -21, -22, -24], [4, 5, -9, 10, -16, 17, 20, -21, -22, -24], [-4, 5, -9, 10, 16, 17, 20, -21, -22, -24], [-4, 5, 9, 10, 16, -17, 20, -21, -22, -24], [4, 5, -9, 10, -16, 17, 20, -21, -22, -24], [-4, 5, -9, 10, 16, 17, 20, -21, -22, -24], [-4, 5, -9, 10, 16, 17, 20, -21, -22, -24], [4, 5, 9, 10, -16, -17, 20, -21, -22, -24], [-4, 5, -9, 10, 16, 17, 20, -21, -22, -24], [-4, 5, -9, 10, 16, 17, 20, -21, -22, -24], [4, 5, -9, 10, -16, 17, 20, -21, -22, -24], [4, 5, -9, 10, -16, 17, 20, -21, -22, -24], [-4, 5, -9, 10, 16, 17, 20, -21, -22, -24], [-4, 5, -9, 10, 16, 17, 20, -21, -22, -24], [4, 5, -9, 10, -16, 17, 20, -21, -22, -24], [4, 5, -9, 10, -16, 17, 20, -21, -22, -24], [4, 5, -9, 10, -16, 17, 20, -21, -22, -24], [-4, 5, 9, 10, 16, -17, 20, -21, -22, -24], [4, 5, 9, 10, -16, -17, 20, -21, -22, -24], [-4, 5, 9, 10, 16, -17, 20, -21, -22, -24], [4, 5, 9, 10, -16, -17, 20, -21, -22, -24]]\n",
      "\n",
      "\u001b[1m\u001b[4mLOG: The classical solution is in the quantum solutions!\u001b[0m\n",
      "\n",
      "Removed temporary file: output/PC/temp_quantum_solution_0.png\n",
      "Removed temporary file: output/PC/temp_quantum_solution_1.png\n",
      "Removed temporary file: output/PC/temp_quantum_solution_2.png\n",
      "Removed temporary file: output/PC/temp_quantum_solution_3.png\n",
      "Removed temporary file: output/PC/temp_quantum_solution_4.png\n",
      "Removed temporary file: output/PC/temp_quantum_solution_5.png\n",
      "Removed temporary file: output/PC/temp_quantum_solution_6.png\n",
      "Removed temporary file: output/PC/temp_quantum_solution_7.png\n",
      "Removed temporary file: output/PC/temp_quantum_solution_8.png\n",
      "Removed temporary file: output/PC/temp_quantum_solution_9.png\n",
      "LOG: Generated visualization of 10 quantum solutions\n",
      "\n",
      "LOG: Saved PC algorithm output visualization\n",
      "\n"
     ]
    }
   ],
   "source": [
    "# check for quantum solutions validity\n",
    "if is_sat:\n",
    "    \n",
    "    # Validate all solutions, which is an array of boolean values\n",
    "    validity = validate_all_solutions(new_cnf, quantum_solutions)\n",
    "    \n",
    "    # count the number of valid solutions\n",
    "    valid_count = sum(validity)\n",
    "    print(f\"\\033[1m\\033[4mLOG: The number of valid quantum solutions is: {valid_count} out of {len(quantum_solutions)}\\033[0m\\n\")\n",
    "    \n",
    "    # Filter out only the valid solutions\n",
    "    quantum_solutions = [solution for solution, valid in zip(quantum_solutions, validity) if valid]\n",
    "\n",
    "# Map back all solutions using reverse_cnf_variable_mapping\n",
    "mapped_solutions = []\n",
    "for solution in quantum_solutions:\n",
    "    mapped_solution = []\n",
    "    for item in solution:\n",
    "        mapped_var = reverse_cnf_variable_mapping[abs(item)]\n",
    "        mapped_solution.append(mapped_var if item > 0 else -mapped_var)\n",
    "    mapped_solutions.append(mapped_solution)\n",
    "\n",
    "if logging: print(f\"LOG: Quantum SAT solver returned: {is_sat}\\n\")\n",
    "if logging: print(f\"LOG: The models are: {mapped_solutions}\\n\")\n",
    "\n",
    "# check if quantum does indeed contain the classical solution\n",
    "if classical_model in mapped_solutions:\n",
    "    print(f\"\\033[1m\\033[4mLOG: The classical solution is in the quantum solutions!\\033[0m\\n\")\n",
    "else:\n",
    "    if logging: print(f\"LOG: The classical solution is NOT in the quantum solutions\\n\")\n",
    "    \n",
    "# get classical direct cause\n",
    "classical_direct_causes = [rel for rel in getCausalRelationship(classical_model, reversed_causal_dict) if rel[\"edge\"] == \"direct\" and rel[\"exists\"]]\n",
    "\n",
    "# Generate and save classical solution\n",
    "if classical_direct_causes:\n",
    "    classical_graph = generate_graph_from_causes(classical_direct_causes)\n",
    "    classical_graph.write_png(\"output/PC/classical_output.png\")\n",
    "\n",
    "# Generate visualization of quantum solutions\n",
    "if mapped_solutions:\n",
    "    visualize_quantum_solutions(mapped_solutions, \"output/PC\", reversed_causal_dict, logging=logging)\n",
    "\n",
    "# After defining generate_graph_from_causes function, add this to visualize the PC output directly\n",
    "def visualize_pc_output():\n",
    "    # Create a graph to visualize the PC algorithm output\n",
    "    pc_graph = pydot.Dot(\"pc_graph\", graph_type=\"digraph\")\n",
    "    \n",
    "    # Add nodes\n",
    "    for node_name in node_mapping:\n",
    "        pc_graph.add_node(pydot.Node(node_name))\n",
    "    \n",
    "    # Add edges based on the extracted edges\n",
    "    for edge in edges:\n",
    "        if edge['type'] == '->':\n",
    "            pc_graph.add_edge(pydot.Edge(edge['from'], edge['to']))\n",
    "        elif edge['type'] == '--':\n",
    "            pc_graph.add_edge(pydot.Edge(edge['from'], edge['to'], dir=\"none\"))\n",
    "        elif edge['type'] == '<->':\n",
    "            pc_graph.add_edge(pydot.Edge(edge['from'], edge['to'], dir=\"both\"))\n",
    "    \n",
    "    # Save the graph\n",
    "    pc_graph.write_png(\"output/PC/PC_output.png\")\n",
    "    if logging: print(\"LOG: Saved PC algorithm output visualization\\n\")\n",
    "\n",
    "# Generate the PC algorithm output visualization\n",
    "visualize_pc_output()"
   ]
  },
  {
   "cell_type": "code",
   "execution_count": null,
   "id": "a6aad80f",
   "metadata": {},
   "outputs": [],
   "source": []
  }
 ],
 "metadata": {
  "kernelspec": {
   "display_name": "venv-3.10",
   "language": "python",
   "name": "python3"
  },
  "language_info": {
   "codemirror_mode": {
    "name": "ipython",
    "version": 3
   },
   "file_extension": ".py",
   "mimetype": "text/x-python",
   "name": "python",
   "nbconvert_exporter": "python",
   "pygments_lexer": "ipython3",
   "version": "3.10.16"
  }
 },
 "nbformat": 4,
 "nbformat_minor": 5
}
